{
  "cells": [
    {
      "cell_type": "markdown",
      "metadata": {
        "id": "RV0U_C3hsgU1"
      },
      "source": [
        "# Multilayer Perceptron by:\n",
        "\n",
        "- Daniela Martínez Quiroga\n",
        "- María Isabella Rodríguez Arévalo"
      ]
    },
    {
      "cell_type": "markdown",
      "metadata": {
        "id": "n3KBe4XsvQxP"
      },
      "source": [
        "# Install libraries"
      ]
    },
    {
      "cell_type": "code",
      "execution_count": null,
      "metadata": {
        "colab": {
          "base_uri": "https://localhost:8080/"
        },
        "id": "FCuj4C9tvTks",
        "outputId": "ff12a8f4-0c2d-4f57-8bf0-14d1084d1703"
      },
      "outputs": [],
      "source": [
        "!pip install -U gradio"
      ]
    },
    {
      "cell_type": "markdown",
      "metadata": {
        "id": "ar2S-ja9utkE"
      },
      "source": [
        "# Imports"
      ]
    },
    {
      "cell_type": "code",
      "execution_count": null,
      "metadata": {
        "id": "JYj5J13nus3l"
      },
      "outputs": [],
      "source": [
        "import pandas as pd\n",
        "import sklearn\n",
        "import gradio as gr\n",
        "import tabulate\n",
        "import matplotlib.pyplot as plt\n",
        "import requests\n",
        "\n",
        "from sklearn.metrics import accuracy_score, f1_score\n",
        "from sklearn.model_selection import train_test_split\n",
        "from sklearn.neural_network import MLPClassifier, MLPRegressor\n",
        "from sklearn.model_selection import RandomizedSearchCV, GridSearchCV\n",
        "from sklearn.preprocessing import StandardScaler, MinMaxScaler\n",
        "from sklearn.preprocessing import LabelEncoder\n",
        "from sklearn.metrics import mean_squared_error, mean_absolute_error, r2_score"
      ]
    },
    {
      "cell_type": "markdown",
      "metadata": {
        "id": "4ZfFiE64soKw"
      },
      "source": [
        "# Example 1: Cancer dataset\n",
        "\n",
        "## Dataset and cleaning data"
      ]
    },
    {
      "cell_type": "code",
      "execution_count": null,
      "metadata": {
        "colab": {
          "base_uri": "https://localhost:8080/"
        },
        "id": "hPeL8EL2q8qt",
        "outputId": "959381c2-c47a-4d17-fcd8-2947001625a0"
      },
      "outputs": [],
      "source": [
        "df = pd.read_csv('https://raw.githubusercontent.com/BoredDany/ML-Python/refs/heads/main/datasets/cancer.csv')\n",
        "print(df.head())\n",
        "\n",
        "x = df.drop('Diagnosis',axis=1)\n",
        "x.fillna(x.mean(), inplace=True)\n",
        "y = df['Diagnosis']\n",
        "le = LabelEncoder()\n",
        "y = le.fit_transform(y)"
      ]
    },
    {
      "cell_type": "markdown",
      "metadata": {
        "id": "Q7-iBNjsu5_S"
      },
      "source": [
        "## Training/test data"
      ]
    },
    {
      "cell_type": "code",
      "execution_count": null,
      "metadata": {
        "id": "60EquDKcu9hl"
      },
      "outputs": [],
      "source": [
        "x_train, x_test, y_train, y_test = train_test_split(x,y,test_size=0.3,stratify=y)"
      ]
    },
    {
      "cell_type": "markdown",
      "metadata": {
        "id": "O9xdPMjjvzgw"
      },
      "source": [
        "## Train model\n",
        "\n",
        "### First model"
      ]
    },
    {
      "cell_type": "code",
      "execution_count": null,
      "metadata": {
        "colab": {
          "base_uri": "https://localhost:8080/",
          "height": 80
        },
        "id": "Fgr89rcIv188",
        "outputId": "7d578c3e-6326-414d-aaf9-be02573eeaa4"
      },
      "outputs": [],
      "source": [
        "per_op1 = MLPClassifier(learning_rate_init=0.001, alpha=0.0001, hidden_layer_sizes=(100,), activation='relu', solver='adam', early_stopping=True)\n",
        "\n",
        "per_op1.fit(x_train,y_train)"
      ]
    },
    {
      "cell_type": "markdown",
      "metadata": {
        "id": "dbvkfEsj0i8G"
      },
      "source": [
        "### Cross validation: GridSearchCV"
      ]
    },
    {
      "cell_type": "code",
      "execution_count": null,
      "metadata": {
        "colab": {
          "base_uri": "https://localhost:8080/",
          "height": 164
        },
        "id": "3NhAe7E-0rAN",
        "outputId": "d6d10bf1-9934-42bb-8a14-052e6c926cf8"
      },
      "outputs": [],
      "source": [
        "param = {\n",
        "    'learning_rate_init': [0.0001, 0.001, 0.01, 0.1],\n",
        "    'alpha': [0.0001, 0.001, 0.01, 0.1],\n",
        "    'hidden_layer_sizes': [(100,), (50,50), (100,50,25)],\n",
        "    'activation': ['identity', 'relu', 'tanh', 'logistic'],\n",
        "    'solver': ['adam', 'sgd']\n",
        "}\n",
        "\n",
        "per_op2 = MLPClassifier(max_iter=500)\n",
        "\n",
        "per_op2_grid = RandomizedSearchCV(per_op2, param, cv=3, scoring='accuracy', n_iter=10, random_state=42)\n",
        "\n",
        "per_op2_grid.fit(x_train, y_train)"
      ]
    },
    {
      "cell_type": "markdown",
      "metadata": {
        "id": "R0l6TuC1_Pla"
      },
      "source": [
        "### Accuracy and F1"
      ]
    },
    {
      "cell_type": "code",
      "execution_count": null,
      "metadata": {
        "id": "ECpHksmk6Ww7"
      },
      "outputs": [],
      "source": [
        "y_beanie1_t = per_op1.predict(x_test)\n",
        "y_beanie1_tr  = per_op1.predict(x_train)\n",
        "y_beanie2_t = per_op2_grid.predict(x_test)\n",
        "y_beanie2_tr = per_op2_grid.predict(x_train)\n",
        "\n",
        "accuracy1_t = accuracy_score(y_test, y_beanie1_t)\n",
        "f1_1t = f1_score(y_test, y_beanie1_t, average='weighted')\n",
        "accuracy1_tr = accuracy_score(y_train, y_beanie1_tr)\n",
        "f1_1tr = f1_score(y_train, y_beanie1_tr, average='weighted')\n",
        "\n",
        "accuracy2_t = accuracy_score(y_test, y_beanie2_t)\n",
        "f1_2t = f1_score(y_test, y_beanie2_t, average='weighted')\n",
        "accuracy2_tr = accuracy_score(y_train, y_beanie2_tr)\n",
        "f1_2tr = f1_score(y_train, y_beanie2_tr, average='weighted')"
      ]
    },
    {
      "cell_type": "markdown",
      "metadata": {
        "id": "ciwhCzc9_T4-"
      },
      "source": [
        "### Comparative table"
      ]
    },
    {
      "cell_type": "code",
      "execution_count": null,
      "metadata": {
        "colab": {
          "base_uri": "https://localhost:8080/"
        },
        "id": "_kbZQahu_V9e",
        "outputId": "4797503d-3c45-462d-8128-56a9c3fff818"
      },
      "outputs": [],
      "source": [
        "data_info = {\n",
        "    \"Models\": [\"Model 1\", \"Model 2\"],\n",
        "    \"Accuracy test\": [accuracy1_t, accuracy2_t],\n",
        "    \"Accuracy train\": [accuracy1_tr, accuracy2_tr],\n",
        "    \"F1 test\": [f1_1t, f1_2t],\n",
        "    \"F1 train\": [f1_1tr, f1_2tr],\n",
        "}\n",
        "\n",
        "data_hiperparameters = {\n",
        "    \"Models\": [\"Model 1\", \"Model 2\"],\n",
        "    \"learning_rate_init\": [0.001, per_op2_grid.best_params_['learning_rate_init']],\n",
        "    \"alpha\": [0.0001, per_op2_grid.best_params_['alpha']],\n",
        "    \"hidden_layer_sizes\": [(100,), per_op2_grid.best_params_['hidden_layer_sizes']],\n",
        "    \"activation\": [\"relu\", per_op2_grid.best_params_['activation']],\n",
        "    \"solver\": [\"adam\", per_op2_grid.best_params_['solver']]\n",
        "}\n",
        "df_tabla = pd.DataFrame(data_info)\n",
        "df_hiper = pd.DataFrame(data_hiperparameters)\n",
        "print(df_tabla)\n",
        "print(df_hiper)"
      ]
    },
    {
      "cell_type": "markdown",
      "metadata": {
        "id": "JpQ_Akz3JRpY"
      },
      "source": [
        "### Hyperparameter Analysis\n",
        "\n",
        "Taking into account that the accuracy in the test data has a difference of approximately 0.1, the accuracy in the training data has a difference of approximately 0.2, the f1 in the test data has a difference of approximately 0.1, and the f1 in the training data has a difference of approximately 0.2. Taking this into account, the best model is number 2, as it is closest to 1 in all its accuracy and f1. This means that in this dataset, using a learning rate of 0.1 is better than one of 0.001. Combining it with an alpha of 0.1 allows for greater accuracy and f1. For now, we consider that the hidden layer and solver do not have a major influence since they are the same in both models. The other influential hyperparameter is activation. Therefore, it can be said that the best combination is 0.1, 0.1, and identity, as it achieves the best data."
      ]
    },
    {
      "cell_type": "markdown",
      "metadata": {
        "id": "EzuOZd03OijG"
      },
      "source": [
        "### Preprocessing"
      ]
    },
    {
      "cell_type": "code",
      "execution_count": null,
      "metadata": {
        "colab": {
          "base_uri": "https://localhost:8080/"
        },
        "id": "1eLEUAIlOpXl",
        "outputId": "22826c59-5769-407a-dca2-0dfb031e3786"
      },
      "outputs": [],
      "source": [
        "# Scale data\n",
        "x_minmax = MinMaxScaler()\n",
        "x_train_minmax = x_minmax.fit_transform(x_train)\n",
        "x_test_minmax = x_minmax.fit_transform(x_test)\n",
        "\n",
        "# Train the models\n",
        "per_op1_minmax = per_op1.fit(x_train_minmax, y_train)\n",
        "per_op2_minmax = per_op2_grid.fit(x_train_minmax, y_train)"
      ]
    },
    {
      "cell_type": "code",
      "execution_count": null,
      "metadata": {
        "id": "Tev20gJEU3n-"
      },
      "outputs": [],
      "source": [
        "# Predictions \n",
        "y_beanie1_t_mm = per_op1_minmax.predict(x_test_minmax)\n",
        "y_beanie1_tr_mm = per_op1_minmax.predict(x_train_minmax)\n",
        "y_beanie2_t_mm = per_op2_minmax.predict(x_test_minmax)\n",
        "y_beanie2_tr_mm = per_op2_minmax.predict(x_train_minmax)\n",
        "\n",
        "# Accuracy and f1\n",
        "accuracy1_t_mm = accuracy_score(y_test, y_beanie1_t_mm)\n",
        "f1_1t_mm = f1_score(y_test, y_beanie1_t_mm, average='weighted')\n",
        "accuracy1_tr_mm = accuracy_score(y_train, y_beanie1_tr_mm)\n",
        "f1_1tr_mm = f1_score(y_train, y_beanie1_tr_mm, average='weighted')\n",
        "\n",
        "accuracy2_t_mm = accuracy_score(y_test, y_beanie2_t_mm)\n",
        "f1_2t_mm = f1_score(y_test, y_beanie2_t_mm, average='weighted')\n",
        "accuracy2_tr_mm = accuracy_score(y_train, y_beanie2_tr_mm)\n",
        "f1_2tr_mm = f1_score(y_train, y_beanie2_tr_mm, average='weighted')"
      ]
    },
    {
      "cell_type": "code",
      "execution_count": null,
      "metadata": {
        "colab": {
          "base_uri": "https://localhost:8080/"
        },
        "id": "TaaWcITAVEWm",
        "outputId": "cfb45891-a6d5-41cc-af26-00abf49ac909"
      },
      "outputs": [],
      "source": [
        "data_info_mm = {\n",
        "    \"Models\": [\"Model 1\", \"Model 2\", \"Model 1 minmax\", \"Model 2 minmax\"],\n",
        "    \"Accuracy test\": [accuracy1_t, accuracy2_t, accuracy1_t_mm, accuracy2_t_mm],\n",
        "    \"Accuracy train\": [accuracy1_tr, accuracy2_tr, accuracy1_tr_mm, accuracy2_tr_mm],\n",
        "    \"F1 test\": [f1_1t, f1_2t, f1_1t_mm, f1_2t_mm],\n",
        "    \"F1 train\": [f1_1tr, f1_2tr, f1_1tr_mm, f1_2tr_mm],\n",
        "}\n",
        "\n",
        "data_hiperparameters_mm = {\n",
        "    \"Models\": [\"Model 1\", \"Model 2\", \"Model 1 minmax\", \"Model 2 minmax\"],\n",
        "    \"learning_rate_init\": [0.001, per_op2_grid.best_params_['learning_rate_init'], 0.001, per_op2_minmax.best_params_['learning_rate_init']],\n",
        "    \"alpha\": [0.0001, per_op2_grid.best_params_['alpha'],0.0001, per_op2_grid.best_params_['alpha']],\n",
        "    \"hidden_layer_sizes\": [(100,), per_op2_minmax.best_params_['hidden_layer_sizes'], (100,), per_op2_minmax.best_params_['hidden_layer_sizes']],\n",
        "    \"activation\": [\"relu\", per_op2_grid.best_params_['activation'], \"relu\", per_op2_minmax.best_params_['activation']],\n",
        "    \"solver\": [\"adam\", per_op2_grid.best_params_['solver'], \"adam\", per_op2_minmax.best_params_['solver']]\n",
        "}\n",
        "df_tabla_mm = pd.DataFrame(data_info_mm)\n",
        "df_hiper_mm = pd.DataFrame(data_hiperparameters_mm)\n",
        "print(df_tabla_mm)\n",
        "print(df_hiper_mm)"
      ]
    },
    {
      "cell_type": "markdown",
      "metadata": {
        "id": "uxrE_YLkVEBf"
      },
      "source": [
        "### Display"
      ]
    },
    {
      "cell_type": "code",
      "execution_count": null,
      "metadata": {
        "colab": {
          "base_uri": "https://localhost:8080/",
          "height": 472
        },
        "id": "_uyldMsFWu6W",
        "outputId": "45c333eb-44fc-4deb-cf0d-ed3c612968b1"
      },
      "outputs": [],
      "source": [
        "plt.plot(per_op1.loss_curve_, label=\"Sin escalamiento\", linestyle=\"dashed\", linewidth=5, color=\"#D8BFD8\")\n",
        "plt.plot(per_op1_minmax.loss_curve_, label=\"Con escalamiento\", color=\"#FFC0CB\")\n",
        "plt.xlabel(\"Iteraciones\")\n",
        "plt.ylabel(\"Pérdida\")\n",
        "plt.legend()\n",
        "plt.title(\"Curva de convergencia modelo 1\")\n",
        "plt.show()"
      ]
    },
    {
      "cell_type": "code",
      "execution_count": null,
      "metadata": {
        "colab": {
          "base_uri": "https://localhost:8080/",
          "height": 472
        },
        "id": "o0UI0O0higz4",
        "outputId": "1cd4cab4-7ec3-4c76-edd5-3206d3a59bf8"
      },
      "outputs": [],
      "source": [
        "plt.plot(per_op2_grid.best_estimator_.loss_curve_, label=\"Sin escalamiento\", linestyle=\"dashed\", linewidth=5, color=\"#D8BFD8\")\n",
        "plt.plot(per_op2_minmax.best_estimator_.loss_curve_, label=\"Con escalamiento\", color=\"#FFC0CB\")\n",
        "plt.xlabel(\"Iteraciones\")\n",
        "plt.ylabel(\"Pérdida\")\n",
        "plt.legend()\n",
        "plt.title(\"Curva de convergencia modelo 1\")\n",
        "plt.show()"
      ]
    },
    {
      "cell_type": "markdown",
      "metadata": {
        "id": "PNFTUF08i6Zb"
      },
      "source": [
        "### Ensemble comparative Table\n",
        "\n",
        "Items containing an \"(e)\" mean they are from the previous ensemble workshop."
      ]
    },
    {
      "cell_type": "code",
      "execution_count": null,
      "metadata": {
        "colab": {
          "base_uri": "https://localhost:8080/"
        },
        "id": "pTmfSorFi9eD",
        "outputId": "13f9b66c-fdfc-459b-f0df-144c3b9bb37f"
      },
      "outputs": [],
      "source": [
        "data_info_ens = {\n",
        "    \"Models\": [\"Model 1\", \"Model 2\", \"Model 1 minmax\", \"Model 2 minmax\", \"RandomForest(e)\", \"GradientB(e)\", \"Voting(e)\", \"Stacking(e)\"],\n",
        "    \"Accuracy test\": [accuracy1_t, accuracy2_t, accuracy1_t_mm, accuracy2_t_mm, 0.9415, 0.9474,0.9357,0.9357],\n",
        "    \"Accuracy train\": [accuracy1_tr, accuracy2_tr, accuracy1_tr_mm, accuracy2_tr_mm, 1.000, 1.000, 0.9447, 0.9925],\n",
        "    \"F1 test\": [f1_1t, f1_2t, f1_1t_mm, f1_2t_mm, 0.9545,0.9589,0.9511,0.9498],\n",
        "    \"F1 train\": [f1_1tr, f1_2tr, f1_1tr_mm, f1_2tr_mm, 1.000,1.000,0.9577,0.9940],\n",
        "}\n",
        "\n",
        "df_info_ens = pd.DataFrame(data_info_ens)\n",
        "print(df_info_ens)"
      ]
    },
    {
      "cell_type": "markdown",
      "metadata": {
        "id": "DxMnUsWOmeNd"
      },
      "source": [
        "# Example 2: Real Estate"
      ]
    },
    {
      "cell_type": "markdown",
      "metadata": {
        "id": "oZDutPJvmgR6"
      },
      "source": [
        "## Load and clean data"
      ]
    },
    {
      "cell_type": "code",
      "execution_count": null,
      "metadata": {
        "colab": {
          "base_uri": "https://localhost:8080/"
        },
        "id": "f81K0clomf-3",
        "outputId": "44cb36d3-5ecd-4e93-ca05-4a3d0478294e"
      },
      "outputs": [],
      "source": [
        "url = \"https://raw.githubusercontent.com/BoredDany/ML-Python/refs/heads/main/datasets/houses.csv\"\n",
        "df = pd.read_csv(url)\n",
        "\n",
        "# Separate features and target variable\n",
        "x = df.drop('SalePrice', axis=1)\n",
        "y = df['SalePrice']\n",
        "\n",
        "# Identify categorical and numerical columns\n",
        "categorical_cols = x.select_dtypes(include=['object']).columns\n",
        "numerical_cols = x.select_dtypes(include=['number']).columns\n",
        "\n",
        "# Fill missing values\n",
        "x[numerical_cols] = x[numerical_cols].fillna(x[numerical_cols].mean())  # For numerical\n",
        "x[categorical_cols] = x[categorical_cols].fillna(x[categorical_cols].mode().iloc[0])  # For categorical\n",
        "\n",
        "# Convert categorical variables to numerical variables (One-Hot Encoding)\n",
        "x = pd.get_dummies(x, columns=categorical_cols, drop_first=True)  # Avoids collinearity\n",
        "\n",
        "# Verify that there are no categorical values after the transformation\n",
        "print(\"Data types after get_dummies:\\n\", x.dtypes.value_counts())\n",
        "\n",
        "# Split into training (70%) and testing (30%)\n",
        "x_train, x_test, y_train, y_test = train_test_split(x, y, test_size=0.3, random_state=42)\n",
        "\n",
        "print(f'Size of x_train: {x_train.shape}')\n",
        "print(f'Size of x_test: {x_test.shape}')\n",
        "print(f'Size of y_train: {y_train.shape}')\n",
        "print(f'Size of y_test: {y_test.shape}')"
      ]
    },
    {
      "cell_type": "markdown",
      "metadata": {
        "id": "Y0DW2skamjr-"
      },
      "source": [
        "## MLP model"
      ]
    },
    {
      "cell_type": "code",
      "execution_count": null,
      "metadata": {
        "colab": {
          "base_uri": "https://localhost:8080/"
        },
        "id": "zjpgu-LbmplJ",
        "outputId": "96bce1dd-e2eb-46d5-d732-2c5b9988631e"
      },
      "outputs": [],
      "source": [
        "# Define hyperparameter distribution for RandomizedSearchCV\n",
        "param_dist = {\n",
        "    'hidden_layer_sizes': [(50,), (100,), (50, 50), (100, 50)],\n",
        "    'activation': ['relu', 'tanh'],\n",
        "    'solver': ['adam', 'lbfgs'],\n",
        "    'alpha': [0.0001, 0.001, 0.01],\n",
        "    'learning_rate_init': [0.001, 0.01, 0.1]\n",
        "}\n",
        "\n",
        "# Create MLP regressor\n",
        "mlp = MLPRegressor(max_iter=5000, random_state=42)\n",
        "\n",
        "# Hyperparameter random search\n",
        "random_search = RandomizedSearchCV(\n",
        "    mlp, param_distributions=param_dist,\n",
        "    n_iter=10,  # NNumber of combinations to try (adjust based on available time)\n",
        "    cv=3, scoring='neg_mean_squared_error',\n",
        "    n_jobs=-1, verbose=2, random_state=42\n",
        ")\n",
        "\n",
        "# Train the hyperparameter search\n",
        "random_search.fit(x_train, y_train)\n",
        "\n",
        "# Get the best model\n",
        "best_mlp = random_search.best_estimator_\n",
        "\n",
        "print(\"Best hyperparameter combination:\", random_search.best_params_)"
      ]
    },
    {
      "cell_type": "markdown",
      "metadata": {
        "id": "WEQp0Rxit8IT"
      },
      "source": [
        "## Métrics"
      ]
    },
    {
      "cell_type": "code",
      "execution_count": null,
      "metadata": {
        "colab": {
          "base_uri": "https://localhost:8080/"
        },
        "id": "bkWJVqeYt_p_",
        "outputId": "f9361584-9b2f-46df-8332-47b9302192a7"
      },
      "outputs": [],
      "source": [
        "# Predictions in the training set (development)\n",
        "y_train_pred = best_mlp.predict(x_train)\n",
        "\n",
        "# Predictions in the test set\n",
        "y_test_pred = best_mlp.predict(x_test)\n",
        "\n",
        "# Calculate metrics in training (development)\n",
        "mse_train = mean_squared_error(y_train, y_train_pred)\n",
        "mae_train = mean_absolute_error(y_train, y_train_pred)\n",
        "r2_train = r2_score(y_train, y_train_pred)\n",
        "\n",
        "# Calculate metrics in test\n",
        "mse_test = mean_squared_error(y_test, y_test_pred)\n",
        "mae_test = mean_absolute_error(y_test, y_test_pred)\n",
        "r2_test = r2_score(y_test, y_test_pred)\n",
        "\n",
        "# Show metrics\n",
        "print(\"METRICS IN TRAINING (DEVELOPMENT):\")\n",
        "print(f\"Mean Squared Error (MSE): {mse_train:.2f}\")\n",
        "print(f\"Mean Absolute Error (MAE): {mae_train:.2f}\")\n",
        "print(f\"R² Score: {r2_train:.4f}\")\n",
        "\n",
        "print(\"\\nMETRICS IN TEST:\")\n",
        "print(f\"Mean Squared Error (MSE): {mse_test:.2f}\")\n",
        "print(f\"Mean Absolute Error (MAE): {mae_test:.2f}\")\n",
        "print(f\"R² Score: {r2_test:.4f}\")"
      ]
    },
    {
      "cell_type": "markdown",
      "metadata": {
        "id": "2WfteWEnurK1"
      },
      "source": [
        "## Gradio interface"
      ]
    },
    {
      "cell_type": "code",
      "execution_count": null,
      "metadata": {
        "colab": {
          "base_uri": "https://localhost:8080/",
          "height": 715
        },
        "id": "WN4Oo2D6xuWf",
        "outputId": "fe3f4183-ace6-4ba9-9c2c-e26320d6763b"
      },
      "outputs": [],
      "source": [
        "import gradio as gr\n",
        "import requests\n",
        "\n",
        "data_file_url = \"https://raw.githubusercontent.com/oscar-bustos/javeriana-analitica/main/housing/data_description.txt\"\n",
        "\n",
        "# Read and parse the file from the URL\n",
        "def parse_file_from_url(url):\n",
        "    fields = {}\n",
        "\n",
        "    # Download the file\n",
        "    response = requests.get(url)\n",
        "    if response.status_code != 200:\n",
        "        raise Exception(f\"Error downloading the file: {response.status_code}\")\n",
        "\n",
        "    # Read lines from the file\n",
        "    lines = response.text.split(\"\\n\")\n",
        "\n",
        "    current_field = None\n",
        "    for line in lines:\n",
        "        line = line.strip()\n",
        "        if not line:\n",
        "            continue\n",
        "\n",
        "        # If the line contains \":\", it is the name of a variable\n",
        "        if \":\" in line:\n",
        "            field_name = line.split(\":\")[0].strip()\n",
        "            fields[field_name] = []  # Initialize as empty list\n",
        "            current_field = field_name\n",
        "        elif current_field:\n",
        "            # Try to separate the identifier from the meaning\n",
        "            parts = line.split(\"\\t\")\n",
        "            if len(parts) >= 2:\n",
        "                key = parts[0].strip()\n",
        "                fields[current_field].append(key)  # Add only the correct identifier\n",
        "\n",
        "    return fields\n",
        "\n",
        "# Get the variables and their possible values\n",
        "fields = parse_file_from_url(data_file_url)\n",
        "\n",
        "# Create components dynamically in Gradio\n",
        "inputs = []\n",
        "for field, options in fields.items():\n",
        "    if options:  # If it has options, use Dropdown\n",
        "        inputs.append(gr.Dropdown(choices=options, label=field))\n",
        "    else:  # If it doesn't have options, use a fillable text field\n",
        "        inputs.append(gr.Textbox(label=field))\n",
        "\n",
        "# Prediction function with the best_mlp model\n",
        "def predict_price(**kwargs):\n",
        "    input_data = pd.DataFrame([kwargs])\n",
        "\n",
        "    # Ensure numeric values are correct\n",
        "    for col in numerical_cols:\n",
        "        input_data[col] = pd.to_numeric(input_data[col], errors='coerce')\n",
        "\n",
        "    # One-Hot Encoding for categorical variables\n",
        "    input_data = pd.get_dummies(input_data, columns=categorical_cols)\n",
        "\n",
        "    # Ensure columns match the model\n",
        "    missing_cols = set(df.drop(columns=\"SalePrice\").columns) - set(input_data.columns)\n",
        "    for col in missing_cols:\n",
        "        input_data[col] = 0  # Add missing columns with value 0\n",
        "\n",
        "    # Reorder columns to match training\n",
        "    input_data = input_data[df.drop(columns=\"SalePrice\").columns]\n",
        "\n",
        "    # Make the prediction\n",
        "    prediction = best_mlp.predict(input_data)[0]\n",
        "\n",
        "    return f\"📊 Price prediction: ${prediction:,.2f}\"\n",
        "\n",
        "# Create the interface in Gradio\n",
        "iface = gr.Interface(fn=predict_price, inputs=inputs, outputs=\"text\")\n",
        "iface.launch()\n"
      ]
    },
    {
      "cell_type": "markdown",
      "metadata": {
        "id": "wFKgoxvX5m60"
      },
      "source": [
        "## Preprocessing\n",
        "\n",
        "In the left graph, the dispersion is greater and the predictions are very far apart, indicating that the unscaled model has considerable errors. In the right graph, the points are more aligned with the red line, suggesting that scaling improved the model's accuracy."
      ]
    },
    {
      "cell_type": "code",
      "execution_count": null,
      "metadata": {
        "colab": {
          "base_uri": "https://localhost:8080/",
          "height": 573
        },
        "id": "1kvFfhOY5w1n",
        "outputId": "ed3c7cae-d75c-4511-ef7b-79014e4ca7cf"
      },
      "outputs": [],
      "source": [
        "# Scale numerical features using Min-Max Scaling\n",
        "scaler_x = MinMaxScaler()\n",
        "x_train_minmax = scaler_x.fit_transform(x_train)\n",
        "x_test_minmax = scaler_x.transform(x_test)\n",
        "\n",
        "# Prediction with the original best_mlp model\n",
        "y_pred_test_original = best_mlp.predict(x_test)\n",
        "\n",
        "# Train the best_mlp model with scaled data\n",
        "best_mlp.fit(x_train_minmax, y_train)\n",
        "\n",
        "# Make predictions with scaled data\n",
        "y_pred_train_scaled = best_mlp.predict(x_train_minmax)\n",
        "y_pred_test_scaled = best_mlp.predict(x_test_minmax)\n",
        "\n",
        "# Calculate R2\n",
        "r2_train_scaled = r2_score(y_train, y_pred_train_scaled)\n",
        "r2_test_scaled = r2_score(y_test, y_pred_test_scaled)\n",
        "print(f'R2 Score in training (scaled): {r2_train_scaled:.4f}')\n",
        "print(f'R2 Score in testing (scaled): {r2_test_scaled:.4f}')\n",
        "\n",
        "# Visualization of real vs. predicted values\n",
        "plt.figure(figsize=(12, 6))\n",
        "\n",
        "# Original predictions plot\n",
        "plt.subplot(1, 2, 1)\n",
        "plt.scatter(y_test, y_pred_test_original, alpha=0.5)\n",
        "plt.plot([min(y_test), max(y_test)], [min(y_test), max(y_test)], color='red', linestyle='dashed')\n",
        "plt.xlabel('Real values')\n",
        "plt.ylabel('Predicted values')\n",
        "plt.title('Original: Real vs. Predicted Values')\n",
        "\n",
        "# Scaled predictions plot\n",
        "plt.subplot(1, 2, 2)\n",
        "plt.scatter(y_test, y_pred_test_scaled, alpha=0.5)\n",
        "plt.plot([min(y_test), max(y_test)], [min(y_test), max(y_test)], color='red', linestyle='dashed')\n",
        "plt.xlabel('Real values')\n",
        "plt.ylabel('Predicted values')\n",
        "plt.title('Scaled: Real vs. Predicted Values')\n",
        "\n",
        "plt.tight_layout()\n",
        "plt.show()"
      ]
    },
    {
      "cell_type": "markdown",
      "metadata": {
        "id": "TpLqmeov5zeP"
      },
      "source": [
        "## Comparison with ensembles\n",
        "\n",
        "The table indicates that on training data, the best model was XGBoost, and on test data the best was Gradient Boosting.\n",
        "\n",
        "![image.png](data:image/png;base64,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)"
      ]
    }
  ],
  "metadata": {
    "colab": {
      "provenance": []
    },
    "kernelspec": {
      "display_name": "Python 3",
      "name": "python3"
    },
    "language_info": {
      "name": "python"
    }
  },
  "nbformat": 4,
  "nbformat_minor": 0
}
