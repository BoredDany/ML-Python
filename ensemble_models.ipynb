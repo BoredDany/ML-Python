{
  "cells": [
    {
      "cell_type": "markdown",
      "metadata": {
        "id": "vZQHGzXMOvQM"
      },
      "source": [
        "# Ensemble models by:\n",
        "\n",
        "- Daniela Martínez Quiroga\n",
        "- María Isabella Rodríguez Arévalo"
      ]
    },
    {
      "cell_type": "markdown",
      "metadata": {
        "id": "y2lh-7Dvb-yn"
      },
      "source": [
        "# Example 1: Cancer prediction"
      ]
    },
    {
      "cell_type": "markdown",
      "metadata": {
        "id": "N-I848eGcZZn"
      },
      "source": [
        "## Install libraries"
      ]
    },
    {
      "cell_type": "code",
      "execution_count": null,
      "metadata": {
        "colab": {
          "base_uri": "https://localhost:8080/"
        },
        "id": "0a0vtGkOkMiy",
        "outputId": "6d308adb-0ba3-4179-98cd-4c620f0605e5"
      },
      "outputs": [],
      "source": [
        "!pip install -U gradio\n",
        "!pip install lightgbm xgboost"
      ]
    },
    {
      "cell_type": "code",
      "execution_count": null,
      "metadata": {
        "id": "AzLSC700Orxh"
      },
      "outputs": [],
      "source": [
        "import pandas as pd\n",
        "import sklearn\n",
        "import gradio as gr\n",
        "\n",
        "from sklearn.metrics import accuracy_score, f1_score, mean_squared_error, mean_absolute_error, r2_score\n",
        "from sklearn.model_selection import train_test_split\n",
        "from sklearn.ensemble import RandomForestClassifier, GradientBoostingRegressor\n",
        "from sklearn.ensemble import StackingRegressor, GradientBoostingRegressor, GradientBoostingClassifier\n",
        "from sklearn.ensemble import RandomForestRegressor\n",
        "from sklearn.ensemble import VotingClassifier\n",
        "from sklearn.ensemble import StackingClassifier\n",
        "import lightgbm as lgb\n",
        "import xgboost as xgb\n",
        "\n",
        "from sklearn.linear_model import LogisticRegression\n",
        "from sklearn.svm import SVC\n",
        "from sklearn.tree import DecisionTreeClassifier\n",
        "\n",
        "from sklearn.preprocessing import LabelEncoder\n",
        "import numpy as np\n"
      ]
    },
    {
      "cell_type": "markdown",
      "metadata": {
        "id": "6seAH4YVce1Y"
      },
      "source": [
        "## Dataset and cleaning data"
      ]
    },
    {
      "cell_type": "code",
      "execution_count": null,
      "metadata": {
        "colab": {
          "base_uri": "https://localhost:8080/"
        },
        "id": "8Xe5LDRlcinI",
        "outputId": "7c5f8e3d-9433-4c0c-b01c-3ecc3ac37d0d"
      },
      "outputs": [],
      "source": [
        "df = pd.read_csv('https://raw.githubusercontent.com/BoredDany/ML-Python/refs/heads/main/datasets/cancer.csv')\n",
        "print(df.head())\n",
        "\n",
        "x = df.drop('Diagnosis',axis=1)\n",
        "x.fillna(x.mean(), inplace=True)\n",
        "y = df['Diagnosis']"
      ]
    },
    {
      "cell_type": "markdown",
      "metadata": {
        "id": "mDaU-t9he7mZ"
      },
      "source": [
        "## Training/test data"
      ]
    },
    {
      "cell_type": "code",
      "execution_count": null,
      "metadata": {
        "id": "x0aM0mGUfIX7"
      },
      "outputs": [],
      "source": [
        "x_train, x_test, y_train, y_test = train_test_split(x,y,test_size=0.3,stratify=y)"
      ]
    },
    {
      "cell_type": "markdown",
      "metadata": {
        "id": "MP-z_UdskvmC"
      },
      "source": [
        "## Train model"
      ]
    },
    {
      "cell_type": "code",
      "execution_count": null,
      "metadata": {
        "colab": {
          "base_uri": "https://localhost:8080/",
          "height": 286
        },
        "id": "iOa8PTLukxdM",
        "outputId": "5ea054b5-0fde-4e7a-a30c-28455301c78b"
      },
      "outputs": [],
      "source": [
        "# Models for Voting clasifier\n",
        "mod3_op1 = LogisticRegression(penalty='elasticnet', solver='saga',max_iter=1000, l1_ratio=0.5)\n",
        "mod3_op2 = SVC(kernel='linear')\n",
        "mod3_op3 = SVC(kernel='poly', degree=2, gamma='scale')\n",
        "mod3_op4 = SVC(kernel='rbf', gamma='scale')\n",
        "mod3_op5 = DecisionTreeClassifier(criterion='entropy', max_depth=15, max_leaf_nodes=10, min_impurity_decrease=0.0000001, min_samples_leaf=2)\n",
        "\n",
        "mod3_op1.fit(x_train, y_train)\n",
        "mod3_op2.fit(x_train, y_train)\n",
        "mod3_op3.fit(x_train, y_train)\n",
        "mod3_op4.fit(x_train, y_train)\n",
        "mod3_op5.fit(x_train, y_train)\n",
        "\n",
        "# Models for Stacking classifier\n",
        "mod4_op1 =DecisionTreeClassifier(criterion='gini', max_depth=10, max_leaf_nodes=10, min_impurity_decrease=0.0000001, min_samples_leaf=2)\n",
        "mod4_op2 = SVC(kernel='linear')\n",
        "mod4_op3 = SVC(kernel='poly', degree=2, gamma='auto')\n",
        "mod4_op4 = SVC(kernel='rbf', gamma='auto')\n",
        "\n",
        "mod4_op1.fit(x_train, y_train)\n",
        "mod4_op2.fit(x_train, y_train)\n",
        "mod4_op3.fit(x_train, y_train)\n",
        "mod4_op4.fit(x_train, y_train)\n",
        "\n",
        "# Ensemble models\n",
        "ens_op1 = RandomForestClassifier(n_estimators=100, criterion='entropy')\n",
        "ens_op2 = GradientBoostingClassifier(n_estimators=100, learning_rate=0.1)\n",
        "ens_op3 = VotingClassifier([('lr', mod3_op1), ('svc_lin', mod3_op2), ('svc_poly', mod3_op3), ('svc_rbf', mod3_op4), ('dt', mod3_op5)], voting='hard')\n",
        "ens_op4 = StackingClassifier(estimators=[('dt', mod4_op1), ('svc_lin', mod4_op2), ('svc_poly', mod4_op3), ('svc_rbf', mod4_op4)], final_estimator=LogisticRegression())\n",
        "\n",
        "ens_op1.fit(x_train, y_train)\n",
        "ens_op2.fit(x_train, y_train)\n",
        "ens_op3.fit(x_train, y_train)\n",
        "ens_op4.fit(x_train, y_train)"
      ]
    },
    {
      "cell_type": "markdown",
      "metadata": {
        "id": "SJla7JTvcIYv"
      },
      "source": [
        "## Comparative table\n",
        "\n",
        "The table indicates that the model with the best Accuracy and F1 Score on training data is Gradient Boosting Classifier. On the other hand, the model with the best results on the metrics on test data is Stacking Classifier.\n",
        "\n",
        "![image.png](data:image/png;base64,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)"
      ]
    },
    {
      "cell_type": "code",
      "execution_count": null,
      "metadata": {
        "colab": {
          "base_uri": "https://localhost:8080/"
        },
        "id": "TRhpXtYBcN8h",
        "outputId": "9141ee40-c586-4ffa-e12c-5f0ba2328440"
      },
      "outputs": [],
      "source": [
        "models = [ens_op1, ens_op2, ens_op3, ens_op4]\n",
        "model_names = [\"RandomForestClassifier\", \"GradientBoostingClassifier\", \"VotingClassifier\", \"StackingClassifier\"]\n",
        "\n",
        "for model, model_name in zip(models, model_names):\n",
        "    # Predictions for training and test data\n",
        "    y_pred_train = model.predict(x_train)\n",
        "    y_pred_test = model.predict(x_test)\n",
        "\n",
        "    # Calculate accuracy for training and test data\n",
        "    acc_train = accuracy_score(y_train, y_pred_train)\n",
        "    acc_test = accuracy_score(y_test, y_pred_test)\n",
        "\n",
        "    # Calculate F1 score for training and test data\n",
        "    f1_train = f1_score(y_train, y_pred_train, pos_label='B')\n",
        "    f1_test = f1_score(y_test, y_pred_test, pos_label='B')\n",
        "\n",
        "    # Print the results\n",
        "    print(f\"{model_name}:\")\n",
        "    print(f\"  Training Accuracy = {acc_train:.4f}, Training F1 Score = {f1_train:.4f}\")\n",
        "    print(f\"  Test Accuracy = {acc_test:.4f}, Test F1 Score = {f1_test:.4f}\")\n",
        "    print(\"-\" * 30)  # Separator for better readability"
      ]
    },
    {
      "cell_type": "markdown",
      "metadata": {
        "id": "qhuaMO6jev2j"
      },
      "source": [
        "# Example 2 - Real Estate"
      ]
    },
    {
      "cell_type": "markdown",
      "metadata": {
        "id": "SepbLPc2_xLz"
      },
      "source": [
        "## Load and clean data"
      ]
    },
    {
      "cell_type": "code",
      "execution_count": null,
      "metadata": {
        "colab": {
          "base_uri": "https://localhost:8080/"
        },
        "id": "vtvAhOOK_y8r",
        "outputId": "b9d11906-354e-45b4-82cc-7b2469d5f621"
      },
      "outputs": [],
      "source": [
        "url = \"https://raw.githubusercontent.com/BoredDany/ML-Python/refs/heads/main/datasets/houses.csv\"\n",
        "df = pd.read_csv(url)\n",
        "\n",
        "# Separate features and target variable\n",
        "x = df.drop('SalePrice', axis=1)\n",
        "y = df['SalePrice']\n",
        "\n",
        "# Identify categorical and numerical columns\n",
        "categorical_cols = x.select_dtypes(include=['object']).columns\n",
        "numerical_cols = x.select_dtypes(include=['number']).columns\n",
        "\n",
        "# Fill missing values\n",
        "x[numerical_cols] = x[numerical_cols].fillna(x[numerical_cols].mean())  # For numerical\n",
        "x[categorical_cols] = x[categorical_cols].fillna(x[categorical_cols].mode().iloc[0])  # For categorical\n",
        "\n",
        "# Convert categorical variables to numerical variables (One-Hot Encoding)\n",
        "x = pd.get_dummies(x, columns=categorical_cols, drop_first=True)  # Avoids collinearity\n",
        "\n",
        "# Verify that there are no categorical values after the transformation\n",
        "print(\"Data types after get_dummies:\\n\", x.dtypes.value_counts())\n",
        "\n",
        "# Split into training (70%) and testing (30%)\n",
        "x_train, x_test, y_train, y_test = train_test_split(x, y, test_size=0.3, random_state=42)\n",
        "\n",
        "print(f'Size of x_train: {x_train.shape}')\n",
        "print(f'Size of x_test: {x_test.shape}')\n",
        "print(f'Size of y_train: {y_train.shape}')\n",
        "print(f'Size of y_test: {y_test.shape}')"
      ]
    },
    {
      "cell_type": "markdown",
      "metadata": {
        "id": "SzIRZoJAABmN"
      },
      "source": [
        "## Ensemble"
      ]
    },
    {
      "cell_type": "code",
      "execution_count": null,
      "metadata": {
        "colab": {
          "base_uri": "https://localhost:8080/",
          "height": 1000
        },
        "id": "uoMZBvv6ADe6",
        "outputId": "a6299f93-8532-462b-d593-5b9fdde6a6d4"
      },
      "outputs": [],
      "source": [
        "# Define models\n",
        "models = {\n",
        "    \"RandomForest\": RandomForestRegressor(random_state=42),\n",
        "    \"GradientBoosting\": GradientBoostingRegressor(random_state=42),\n",
        "    \"LightGBM\": lgb.LGBMRegressor(random_state=42),\n",
        "    \"XGBoost\": xgb.XGBRegressor(random_state=42)\n",
        "}\n",
        "\n",
        "# Evaluate models\n",
        "results = {}\n",
        "for name, model in models.items():\n",
        "    model.fit(x_train, y_train)\n",
        "    y_pred_train = model.predict(x_train)\n",
        "    y_pred_test = model.predict(x_test)\n",
        "\n",
        "    results[name] = {\n",
        "        \"MSE_train\": mean_squared_error(y_train, y_pred_train),\n",
        "        \"MSE_test\": mean_squared_error(y_test, y_pred_test),\n",
        "        \"MAE_train\": mean_absolute_error(y_train, y_pred_train),\n",
        "        \"MAE_test\": mean_absolute_error(y_test, y_pred_test),\n",
        "        \"R2_train\": r2_score(y_train, y_pred_train),\n",
        "        \"R2_test\": r2_score(y_test, y_pred_test)\n",
        "    }\n",
        "\n",
        "# Define the ensemble model with StackingClassifier\n",
        "estimators = [(name, model) for name, model in models.items()]\n",
        "stacking_model = StackingClassifier(estimators=estimators, final_estimator=GradientBoostingClassifier(random_state=42))\n",
        "stacking_model.fit(x_train, y_train)\n",
        "\n",
        "# Evaluate the ensemble model\n",
        "y_pred_train_stack = stacking_model.predict(x_train)\n",
        "y_pred_test_stack = stacking_model.predict(x_test)\n",
        "\n",
        "results[\"Stacking\"] = {\n",
        "    \"MSE_train\": mean_squared_error(y_train, y_pred_train_stack),\n",
        "    \"MSE_test\": mean_squared_error(y_test, y_pred_test_stack),\n",
        "    \"MAE_train\": mean_absolute_error(y_train, y_pred_train_stack),\n",
        "    \"MAE_test\": mean_absolute_error(y_test, y_pred_test_stack),\n",
        "    \"R2_train\": r2_score(y_train, y_pred_train_stack),\n",
        "    \"R2_test\": r2_score(y_test, y_pred_test_stack)\n",
        "}"
      ]
    },
    {
      "cell_type": "code",
      "execution_count": null,
      "metadata": {
        "colab": {
          "base_uri": "https://localhost:8080/"
        },
        "id": "J6pXKyEtGUS_",
        "outputId": "db1f6188-765e-4f50-d01b-a1a12d07ffb4"
      },
      "outputs": [],
      "source": [
        "# Show results\n",
        "for model_name, metrics in results.items():\n",
        "    print(f\"{model_name}:\")\n",
        "    for metric_name, value in metrics.items():\n",
        "        print(f\"  {metric_name}: {value:.4f}\")\n",
        "    print()"
      ]
    },
    {
      "cell_type": "markdown",
      "metadata": {
        "id": "Sxox-CnTg54U"
      },
      "source": [
        "## Gradio interface"
      ]
    },
    {
      "cell_type": "code",
      "execution_count": null,
      "metadata": {
        "colab": {
          "base_uri": "https://localhost:8080/",
          "height": 715
        },
        "id": "mo5YyTJxg4lG",
        "outputId": "e4fb68f3-0557-477c-b5ef-56cb08cd627b"
      },
      "outputs": [],
      "source": [
        "import gradio as gr\n",
        "\n",
        "# Read and parse the data description file\n",
        "def parse_file(filepath):\n",
        "    fields = {}\n",
        "    with open(filepath, \"r\", encoding=\"utf-8\") as file:\n",
        "        lines = file.readlines()\n",
        "\n",
        "    current_field = None\n",
        "    for line in lines:\n",
        "        line = line.strip()\n",
        "        if not line:\n",
        "            continue\n",
        "\n",
        "        if \":\" in line:\n",
        "            field_name = line.split(\":\")[0].strip()\n",
        "            fields[field_name] = []\n",
        "            current_field = field_name\n",
        "        elif current_field and \"\\t\" in line:\n",
        "            option = line.split(\"\\t\")[0].strip()\n",
        "            fields[current_field].append(option)\n",
        "\n",
        "    return fields\n",
        "\n",
        "def predict_price(**kwargs):\n",
        "    rf_model = models[\"RandomForest\"]\n",
        "    input_data = pd.DataFrame([kwargs])\n",
        "    prediction = rf_model.predict(input_data)[0]\n",
        "    return \"Datos ingresados:\\n\" + \"\\n\".join([f\"{key}: {value}\" for key, value in kwargs.items()]) + f\"\\n\\nPrediction: {prediction}\"\n",
        "\n",
        "# Read the data from the file\n",
        "data_file = \"/content/data_description.txt\"\n",
        "fields = parse_file(data_file)\n",
        "\n",
        "# Create the components dynamically\n",
        "inputs = []\n",
        "for field, options in fields.items():\n",
        "    if options:\n",
        "        inputs.append(gr.Dropdown(choices=options, label=field))\n",
        "    else:\n",
        "        inputs.append(gr.Textbox(label=field))\n",
        "\n",
        "iface = gr.Interface(fn=predict_price, inputs=inputs, outputs=\"text\")\n",
        "iface.launch()"
      ]
    }
  ],
  "metadata": {
    "colab": {
      "provenance": []
    },
    "kernelspec": {
      "display_name": "Python 3",
      "name": "python3"
    },
    "language_info": {
      "codemirror_mode": {
        "name": "ipython",
        "version": 3
      },
      "file_extension": ".py",
      "mimetype": "text/x-python",
      "name": "python",
      "nbconvert_exporter": "python",
      "pygments_lexer": "ipython3",
      "version": "3.11.0"
    }
  },
  "nbformat": 4,
  "nbformat_minor": 0
}
