{
  "cells": [
    {
      "cell_type": "markdown",
      "metadata": {
        "id": "KSdw1s3ORe9n"
      },
      "source": [
        "# Wifi usage in Cartagena by:\n",
        "\n",
        "- Jose Andrés Jaramillo\n",
        "- David Parra\n",
        "- Daniela Martinez Quiroga\n",
        "- María Isabella Rodríguez Arévalo\n"
      ]
    },
    {
      "cell_type": "markdown",
      "metadata": {
        "id": "Q74ytFiJS2h_"
      },
      "source": [
        "## Libraries"
      ]
    },
    {
      "cell_type": "code",
      "execution_count": null,
      "metadata": {
        "colab": {
          "base_uri": "https://localhost:8080/"
        },
        "id": "SYB57NAZWfsG",
        "outputId": "e6b9a02e-3a02-4436-ae0f-180190bfcf26"
      },
      "outputs": [],
      "source": [
        "!pip install -U ydata_profiling\n",
        "!pip install keras-tuner -q"
      ]
    },
    {
      "cell_type": "code",
      "execution_count": null,
      "metadata": {
        "id": "hngJjyetRbsA"
      },
      "outputs": [],
      "source": [
        "import pandas as pd\n",
        "import matplotlib.pyplot as plt\n",
        "import seaborn as sns\n",
        "import sklearn\n",
        "import tensorflow as tf\n",
        "import keras_tuner as kt\n",
        "import numpy as np\n",
        "\n",
        "from ydata_profiling import ProfileReport\n",
        "from sklearn.model_selection import train_test_split, RandomizedSearchCV\n",
        "from sklearn.ensemble import RandomForestRegressor\n",
        "from sklearn.tree import DecisionTreeRegressor, plot_tree\n",
        "from sklearn.metrics import mean_squared_error, r2_score, accuracy_score\n",
        "from sklearn.preprocessing import StandardScaler\n",
        "from tensorflow.keras.models import Sequential\n",
        "from tensorflow.keras.layers import Dense\n",
        "from tensorflow.keras.regularizers import l2\n",
        "from keras_tuner import HyperParameters"
      ]
    },
    {
      "cell_type": "markdown",
      "metadata": {
        "id": "sQtuacVGTCey"
      },
      "source": [
        "## Load data and report"
      ]
    },
    {
      "cell_type": "code",
      "execution_count": null,
      "metadata": {
        "colab": {
          "base_uri": "https://localhost:8080/",
          "height": 970,
          "referenced_widgets": [
            "61ea5481ab274b89b476dcf69613c9b3",
            "dac0f589967343c488cb4ba3aed4019e",
            "b31be8903e2c42eb9fc012efb4f0fd6d",
            "38f2466b378346f8af5c5925b6ffc477",
            "00e2633c737b4bbcb134a60482d74959",
            "b70df0e97bdd42a09e10bc12c1be4ab5",
            "20e816066c7f4e86a590873dcf5718ed",
            "61c7393c9d3c47c0bbebd0fe338064d9",
            "04cec5e318e84cfb9c44b2d60a35b2d5",
            "8a63900a5d5649bbaf9579010bbbf23c",
            "324bb323405d44f2a6da034d7c1379d8",
            "e345f2d7de5a46e7af41d9bfaa831c59",
            "883f9aebbe484766bdce0927dd90a153",
            "30b86fde47f14294b6fdb2afb7eb8d04",
            "d6aaed43195b40ee973f0f982611c2c4",
            "c4f21dea71864a70b9bd9ad073ee9049",
            "ec976ddce87f48a78bbdd8ce08b490f3",
            "1b4c3fec22b145d8b789d3d6aee0d788",
            "a387522561d24844abf7f9fb0c34c246",
            "7b82737781bb4514b42160be3efe5100",
            "4c884b7dfcd84f7a91a2c71a73569499",
            "6c295da3a8a64290923a1d93b75cb531",
            "44ddde0472114f3797ad451dd33d16fc",
            "a23e05df31264980ab8898e8618896fc",
            "7e3374c661b740768aeb393013060e34",
            "8b6adc805a2d4eec87fa214e5dad6a73",
            "6b6f5110f0c646d09d6b6d14afb22f53",
            "1be32669c01d4ac08b08c877461f528f",
            "9c3d29db076a4aea8868dcf72ce1fac1",
            "3163e30805f647809db33f09fbaaae56",
            "3aea1ee492154baa97686ae556f7d00d",
            "d38d42da56a645659b7e8c0cbe960d5d",
            "f4598d348af84600a81c9cff2660973a"
          ]
        },
        "id": "Vo5zCGpwTEoq",
        "outputId": "af1f619c-c442-4439-c180-ca8486358633"
      },
      "outputs": [],
      "source": [
        "df = pd.read_csv('https://raw.githubusercontent.com/BoredDany/ML-Python/refs/heads/main/datasets/Wifi-Cartagena.csv')\n",
        "profile = ProfileReport(df, title=\"Profiling Report\")\n",
        "profile"
      ]
    },
    {
      "cell_type": "markdown",
      "metadata": {
        "id": "SJM1rTjJiq0F"
      },
      "source": [
        "# **Project 1**\n",
        "\n",
        "Supervised Learning: Predicting Consumers in a Cartagena Network\n",
        "\n",
        "\n",
        "### **Analysis**\n",
        "\n",
        "1. Considering the correlation matrix, all variables except District/Neighborhood and Date have correlations, determining that these variables are not influential in the model. Furthermore, the variables shown in the matrix have a positive relationship (above zero) as they are all in blue tones.\n",
        "2. Since the numerical variable \"consumers\" will be predicted according to the idea, our models will predict numerical values."
      ]
    },
    {
      "cell_type": "markdown",
      "metadata": {
        "id": "XY4YSNCrWT-Q"
      },
      "source": [
        "## Cleaning data"
      ]
    },
    {
      "cell_type": "markdown",
      "metadata": {
        "id": "4WnBphKeDf4J"
      },
      "source": [
        "The \"Wifi Zone\" variable was digitized for easy handling in the models to be created."
      ]
    },
    {
      "cell_type": "code",
      "execution_count": null,
      "metadata": {
        "colab": {
          "base_uri": "https://localhost:8080/",
          "height": 424
        },
        "id": "zXp6QQuLWVs1",
        "outputId": "872abb37-4642-494c-8e71-5e7f8ce5a2db"
      },
      "outputs": [],
      "source": [
        "# Separate X and Y set\n",
        "x = df.drop(['Zona Wifi', 'Corregimiento/Barrio', 'Fecha', 'Consumidores'], axis=1)\n",
        "y = df['Consumidores']\n",
        "\n",
        "# Delete nulls\n",
        "x.fillna(x.mean(), inplace=True)\n",
        "y.fillna(y.mean(), inplace=True)\n",
        "x['Zona Wifi'] = df['Zona Wifi'].astype('category').cat.codes\n",
        "\n",
        "# Separate train and test data\n",
        "x_train, x_test, y_train, y_test = train_test_split(x, y, test_size=0.3, random_state=42)\n",
        "\n",
        "x"
      ]
    },
    {
      "cell_type": "markdown",
      "metadata": {
        "id": "cyKuCngatAnA"
      },
      "source": [
        "### Boxplot\n",
        "\n",
        "A boxplot will be created to determine if there are any outliers. If there are any, the models to be used will be defined so as not to eliminate the data."
      ]
    },
    {
      "cell_type": "code",
      "execution_count": null,
      "metadata": {
        "colab": {
          "base_uri": "https://localhost:8080/",
          "height": 1000
        },
        "id": "tDp5iLhatATa",
        "outputId": "30453126-cf4d-4b56-f725-9db107e6d0f5"
      },
      "outputs": [],
      "source": [
        "columns = ['Visitas', 'Logins', 'Dispositivos Nuevos', 'Sesiones']\n",
        "colors = ['#66c2a5', '#fc8d62', '#8da0cb', '#e78ac3']  # You can change these hex codes\n",
        "\n",
        "for col, color in zip(columns, colors):\n",
        "    plt.figure(figsize=(6, 4))\n",
        "    sns.boxplot(data=x, y=col, color=color)\n",
        "    plt.title(f'Diagrama de {col}')\n",
        "    plt.show()"
      ]
    },
    {
      "cell_type": "markdown",
      "metadata": {
        "id": "ML-tghwcyKAi"
      },
      "source": [
        "Looking at the boxplots, we can conclude that since there are quite a few outliers in all variables, it is recommended not to eliminate them and continue with models that handle them well. Therefore, the following will be performed: decision trees, ensembles, and neural networks."
      ]
    },
    {
      "cell_type": "markdown",
      "metadata": {
        "id": "exyc2GQ9ydB5"
      },
      "source": [
        "## Models\n",
        "\n",
        "### Decision tree"
      ]
    },
    {
      "cell_type": "code",
      "execution_count": null,
      "metadata": {
        "colab": {
          "base_uri": "https://localhost:8080/"
        },
        "id": "Yi0p9GNtyfJL",
        "outputId": "71cc6de1-6043-443e-f7f0-d678d1a0b128"
      },
      "outputs": [],
      "source": [
        "param = {\n",
        "    'criterion': ['squared_error', 'absolute_error', 'friedman_mse'],\n",
        "    'max_depth': [None, 5, 10, 15, 20],\n",
        "    'max_features': [0.3, 0.5, 0.7],\n",
        "    'max_leaf_nodes': [None, 5, 10, 15, 20],\n",
        "    'min_impurity_decrease': [0.0, 0.0001, 0.0002],\n",
        "    'min_samples_leaf': [1, 2, 3],\n",
        "    'min_samples_split': [10, 20, 30],\n",
        "}\n",
        "\n",
        "random_search_tree = RandomizedSearchCV(DecisionTreeRegressor(), param, cv=5, scoring='neg_mean_squared_error', n_iter=10, random_state=42)\n",
        "random_search_tree.fit(x_train, y_train)\n",
        "print(random_search_tree.best_params_)"
      ]
    },
    {
      "cell_type": "code",
      "execution_count": null,
      "metadata": {
        "colab": {
          "base_uri": "https://localhost:8080/"
        },
        "id": "BunOGuNW9zyC",
        "outputId": "0d3b73b5-0a87-4693-d09b-d949fbc5e49a"
      },
      "outputs": [],
      "source": [
        "y_pred_tree_t = random_search_tree.predict(x_test)\n",
        "y_pred_tree_tr = random_search_tree.predict(x_train)\n",
        "MSE_train = mean_squared_error(y_train, y_pred_tree_tr)\n",
        "MSE_test = mean_squared_error(y_test, y_pred_tree_t)\n",
        "RMSE_train = MSE_train**0.5\n",
        "RMSE_test = MSE_test**0.5\n",
        "print(f'Tree\\'s MSE test: {MSE_test}')\n",
        "print(f'Tree\\'s MSE train: {MSE_train}')\n",
        "print(f'Tree\\'s RMSE test: {RMSE_test}')\n",
        "print(f'Tree\\'s RMSE train: {RMSE_train}')"
      ]
    },
    {
      "cell_type": "markdown",
      "metadata": {
        "id": "_OjXE3g5Hrg7"
      },
      "source": [
        "#### Decision Tree Analysis\n",
        "\n",
        "The model generated by the decision tree algorithm yields an error of 6.50 consumers on the test data and 6.08 consumers on the training data. This indicates that the model is not overfitting and that it is on average 6 consumers in error."
      ]
    },
    {
      "cell_type": "markdown",
      "metadata": {
        "id": "b_8sbf-4I8r0"
      },
      "source": [
        "### Neural network"
      ]
    },
    {
      "cell_type": "code",
      "execution_count": null,
      "metadata": {
        "colab": {
          "base_uri": "https://localhost:8080/"
        },
        "id": "e27B4tAGOIXY",
        "outputId": "5fca1a1c-63c0-480b-d378-deb407a70b3f"
      },
      "outputs": [],
      "source": [
        "def build_model(hp):\n",
        "  model = Sequential([\n",
        "        Dense(units=hp.Int('units_1', min_value=32, max_value=512, step=32),\n",
        "              activation='relu',\n",
        "              kernel_regularizer=l2(0.001)),\n",
        "        Dense(units=hp.Int('units_2', min_value=32, max_value=512, step=32),\n",
        "              activation='relu',\n",
        "              kernel_regularizer=l2(0.001)),\n",
        "        Dense(units=hp.Int('units_3', min_value=32, max_value=512, step=32),\n",
        "              activation='relu',\n",
        "              kernel_regularizer=l2(0.001)),\n",
        "        Dense(units=hp.Int('units_4', min_value=32, max_value=512, step=32),\n",
        "              activation='relu',\n",
        "              kernel_regularizer=l2(0.001)),\n",
        "        Dense(units=hp.Int('units_5', min_value=32, max_value=512, step=32),\n",
        "              activation='relu',\n",
        "              kernel_regularizer=l2(0.001)),\n",
        "        Dense(units=1, activation='linear', kernel_regularizer=l2(0.001))\n",
        "    ])\n",
        "  model.compile(optimizer=tf.keras.optimizers.Adam(0.001), loss='mse', metrics=['mae'])\n",
        "  return model\n",
        "\n",
        "model_begin = kt.Hyperband(\n",
        "       build_model,\n",
        "       objective='val_loss',\n",
        "       max_epochs=25,\n",
        "       factor=3,\n",
        "       seed=42,\n",
        "       max_consecutive_failed_trials=5\n",
        "   )\n",
        "\n",
        "scaler = StandardScaler()\n",
        "x_train = scaler.fit_transform(x_train)\n",
        "x_test = scaler.transform(x_test)\n",
        "\n",
        "model_begin.search(x_train, y_train, epochs=10, validation_split=0.2, verbose=0)\n",
        "best_hps_model = model_begin.get_best_hyperparameters(num_trials=1)[0]\n",
        "print(\"Mejores hiperparámetros encontrados:\")\n",
        "for param, value in best_hps_model.values.items():\n",
        "    print(f\"{param}: {value}\")\n",
        "\n",
        "model_final = model_begin.hypermodel.build(best_hps_model)\n",
        "model_final.fit(x_train, y_train, epochs=25, validation_split=0.2, shuffle=False)"
      ]
    },
    {
      "cell_type": "code",
      "execution_count": null,
      "metadata": {
        "colab": {
          "base_uri": "https://localhost:8080/"
        },
        "id": "YGeOEZpbz6kp",
        "outputId": "6fa935e7-7c52-4f58-f4b4-e607e1bbf8ce"
      },
      "outputs": [],
      "source": [
        "y_pred_mod_t = model_final.predict(x_test)\n",
        "y_pred_mod_tr = model_final.predict(x_train)\n",
        "\n",
        "y_pred_mod_t = y_pred_mod_t.argmax(axis=1)\n",
        "y_pred_mod_tr = y_pred_mod_tr.argmax(axis=1)\n",
        "\n",
        "MSE_train = mean_squared_error(y_train, y_pred_mod_tr)\n",
        "MSE_test = mean_squared_error(y_test, y_pred_mod_t)\n",
        "RMSE_train = MSE_train**0.5\n",
        "RMSE_test = MSE_test**0.5\n",
        "\n",
        "print(f'Tree\\'s MSE test: {MSE_test}')\n",
        "print(f'Tree\\'s MSE train: {MSE_train}')\n",
        "print(f'Tree\\'s RMSE test: {RMSE_test}')\n",
        "print(f'Tree\\'s RMSE train: {RMSE_train}')"
      ]
    },
    {
      "cell_type": "markdown",
      "metadata": {
        "id": "bej_1IQSA0bX"
      },
      "source": [
        "#### Neural Network Analysis\n",
        "\n",
        "The model generated by the decision tree algorithm yields an error of 33.30 consumers on the test data and 33.65 consumers on the training data. This indicates that the model is not overfitting, but the error is high, with errors of around 33 consumers, indicating that it is not the most suitable."
      ]
    },
    {
      "cell_type": "markdown",
      "metadata": {
        "id": "C84zIFjWDGvY"
      },
      "source": [
        "### Random forest regressor"
      ]
    },
    {
      "cell_type": "code",
      "execution_count": null,
      "metadata": {
        "colab": {
          "base_uri": "https://localhost:8080/"
        },
        "id": "-N_YoHhfDJFp",
        "outputId": "2b940d8f-8d50-4f41-d59b-3f196ca41145"
      },
      "outputs": [],
      "source": [
        "# Define the parameter grid for Random Forest\n",
        "param_dist = {\n",
        "    'n_estimators': [100, 200, 300],\n",
        "    'max_depth': [10, 20, None],\n",
        "    'min_samples_split': [2, 5, 10],\n",
        "    'min_samples_leaf': [1, 2, 4],\n",
        "    'max_features': ['sqrt']\n",
        "}\n",
        "\n",
        "# Model\n",
        "rf = RandomForestRegressor(random_state=42)\n",
        "\n",
        "# RandomizedSearchCV\n",
        "random_search = RandomizedSearchCV(estimator=rf, param_distributions=param_dist,\n",
        "                                   scoring='neg_mean_squared_error', n_iter=20, cv=5, verbose=2,\n",
        "                                   random_state=42, n_jobs=-1)\n",
        "\n",
        "# Search hyperparameters\n",
        "random_search.fit(x_train, y_train)\n",
        "\n",
        "# Best model\n",
        "best_rf = random_search.best_estimator_\n",
        "y_pred_tree_tr = best_rf.predict(x_train)\n",
        "y_pred_tree_t = best_rf.predict(x_test)\n",
        "\n",
        "# Evaluation in training and testing\n",
        "MSE_train = mean_squared_error(y_train, y_pred_tree_tr)\n",
        "MSE_test = mean_squared_error(y_test, y_pred_tree_t)\n",
        "\n",
        "RMSE_train = MSE_train**0.5\n",
        "RMSE_test = MSE_test**0.5\n",
        "print(\"RANDOM FOREST CLASSIFIER\")\n",
        "print(f\"Mejores hiperparámetros: {random_search.best_params_}\")\n",
        "print(f\"MSE train: {MSE_train}\")\n",
        "print(f\"MSE test: {MSE_test}\")\n",
        "print(f\"RMSE train: {RMSE_train}\")\n",
        "print(f\"RMSE test: {RMSE_test}\")"
      ]
    },
    {
      "cell_type": "code",
      "execution_count": null,
      "metadata": {
        "colab": {
          "base_uri": "https://localhost:8080/"
        },
        "id": "zKoKqajRHbg0",
        "outputId": "8dba97f0-ffdb-4e4e-c515-b4dbe7c2da05"
      },
      "outputs": [],
      "source": [
        "import joblib\n",
        "\n",
        "# Save best model trained\n",
        "joblib.dump(best_rf, 'random_forest_model.pkl')"
      ]
    },
    {
      "cell_type": "markdown",
      "metadata": {
        "id": "5PZq_r1MRh6F"
      },
      "source": [
        "## Conclusions\n",
        "\n",
        "1. The random forest model was selected for its RMSE; both the training and test data are lower compared to the other two models.\n",
        "\n",
        "2. None of the three models exhibit overfitting, as their training RMSE is not close to zero and the test RMSE is higher.\n",
        "\n",
        "3. In the neural network, the ideal number of layers was 6, as this is an important factor when evaluating the MSE and RMSE in large numbers."
      ]
    },
    {
      "cell_type": "markdown",
      "metadata": {
        "id": "DnNPN1ri99GS"
      },
      "source": [
        "# **Project 2**\n",
        "\n",
        "*Objective:* Predict the variable \"Wifi Zone\" through clustering\n",
        "\n",
        "## Imports"
      ]
    },
    {
      "cell_type": "code",
      "execution_count": null,
      "metadata": {
        "id": "6uOMLThgSzOh"
      },
      "outputs": [],
      "source": [
        "# PCA\n",
        "from sklearn.decomposition import PCA\n",
        "\n",
        "# DBSCAN\n",
        "from sklearn.cluster import DBSCAN\n",
        "\n",
        "# Metrics\n",
        "from sklearn.metrics import silhouette_score\n",
        "\n",
        "# Scale data\n",
        "from sklearn.preprocessing import MinMaxScaler\n",
        "\n",
        "# Gaussian Mixture\n",
        "from sklearn.mixture import GaussianMixture\n",
        "\n",
        "# K means\n",
        "from sklearn.cluster import KMeans\n",
        "\n",
        "# Hyperparameter search\n",
        "from sklearn.model_selection import ParameterGrid\n",
        "\n",
        "# 3D plots\n",
        "from mpl_toolkits.mplot3d import Axes3D"
      ]
    },
    {
      "cell_type": "markdown",
      "metadata": {
        "id": "J40JAEPdQrrq"
      },
      "source": [
        "## Data"
      ]
    },
    {
      "cell_type": "code",
      "execution_count": null,
      "metadata": {
        "id": "HLPdL9pHQw1t"
      },
      "outputs": [],
      "source": [
        "x_2 = df.drop(['Zona Wifi','Corregimiento/Barrio','Fecha'], axis=1)\n",
        "x_2.fillna(x_2.mean(), inplace=True)\n",
        "x_2['Zona Wifi'] = df['Zona Wifi'].astype('category').cat.codes\n",
        "scale = MinMaxScaler().fit(x_2)\n",
        "x_2 = scale.transform(x_2)"
      ]
    },
    {
      "cell_type": "markdown",
      "metadata": {
        "id": "zioEVCKgYxdl"
      },
      "source": [
        "## PCA\n",
        "\n",
        "In this step, we will transform the data with PCA, and therefore identify the ideal number of components using the elbow rule."
      ]
    },
    {
      "cell_type": "code",
      "execution_count": null,
      "metadata": {
        "colab": {
          "base_uri": "https://localhost:8080/",
          "height": 488
        },
        "id": "oNvSedFqY2dd",
        "outputId": "f5fd58b5-6a5d-4c67-e681-edb388056d82"
      },
      "outputs": [],
      "source": [
        "# PCA\n",
        "pca = PCA()\n",
        "pca.fit(x_2)\n",
        "\n",
        "# Variance\n",
        "varianza = np.cumsum(pca.explained_variance_ratio_)\n",
        "\n",
        "# Diagram\n",
        "plt.figure(figsize=(8,5))\n",
        "plt.plot(range(1, len(varianza)+1), varianza, marker='o', linestyle='--')\n",
        "plt.title('Regla del codo para PCA')\n",
        "plt.xlabel('Número de componentes principales')\n",
        "plt.ylabel('Varianza explicada acumulada')\n",
        "plt.grid(True)\n",
        "plt.show()\n"
      ]
    },
    {
      "cell_type": "markdown",
      "metadata": {
        "id": "ZFQSvF1LUeEU"
      },
      "source": [
        "After observing the diagram, for PCA 3 components will be used by the elbow rule"
      ]
    },
    {
      "cell_type": "code",
      "execution_count": null,
      "metadata": {
        "id": "tW6FBA11Dn6j"
      },
      "outputs": [],
      "source": [
        "pca_final = PCA(n_components=3)\n",
        "x_2_pca = pca_final.fit_transform(x_2)"
      ]
    },
    {
      "cell_type": "markdown",
      "metadata": {
        "id": "o7fd4G7fKzoC"
      },
      "source": [
        "## Models\n",
        "\n",
        "The models will be trained using DBSCAN, Gaussian mixture, and K Means, keeping in mind that unsupervised models are the preferred approach for this deliverable. For each model, models will be created with the data transformed by PCA and without PCA.\n",
        "\n",
        "### *DBSCAN*\n",
        "\n",
        "Below are some hyperparameters used to search for the best models."
      ]
    },
    {
      "cell_type": "code",
      "execution_count": null,
      "metadata": {
        "id": "Aoh1NuADSdV9"
      },
      "outputs": [],
      "source": [
        "param_dbscan = {\n",
        "    'eps': [0.1, 0.2, 0.3, 0.4, 0.5, 0.6, 0.7, 0.9],\n",
        "    'min_samples': [4, 5, 6, 7]\n",
        "}"
      ]
    },
    {
      "cell_type": "markdown",
      "metadata": {
        "id": "qLKBCANCWrBa"
      },
      "source": [
        "**Data without PCA**"
      ]
    },
    {
      "cell_type": "code",
      "execution_count": null,
      "metadata": {
        "colab": {
          "base_uri": "https://localhost:8080/"
        },
        "id": "ls9I3FigWr2U",
        "outputId": "47db49d8-fb5b-4d15-842b-0b33abf83499"
      },
      "outputs": [],
      "source": [
        "score = 0\n",
        "best_params ={}\n",
        "\n",
        "# Search best hyperparameters\n",
        "for params in ParameterGrid(param_dbscan):\n",
        "  print(params)\n",
        "  dbscan = DBSCAN(**params, metric='manhattan')\n",
        "  labels = dbscan.fit_predict(x_2)\n",
        "\n",
        "  # Avoid using silhouette if there is only 1 cluster or all are noise\n",
        "  if len(set(labels)) <= 1 or (set(labels) == {-1}):\n",
        "    continue\n",
        "\n",
        "  score_f = silhouette_score(x_2, labels, metric='manhattan')\n",
        "  print(f\"score: {score_f}\")\n",
        "  if score_f > score:\n",
        "    score = score_f\n",
        "    best_params = params\n",
        "\n",
        "print(f\"Mejor valor de eps: {best_params['eps']}\")\n",
        "print(f\"Mejor valor de min_samples: {best_params['min_samples']}\")"
      ]
    },
    {
      "cell_type": "code",
      "execution_count": null,
      "metadata": {
        "colab": {
          "base_uri": "https://localhost:8080/"
        },
        "id": "0ZcGDFfrr9nw",
        "outputId": "4023ce08-8ee4-4e06-81d5-86e0e7a09e08"
      },
      "outputs": [],
      "source": [
        "dbscan_no_pca = DBSCAN(**best_params, metric='manhattan')\n",
        "labels = dbscan_no_pca.fit_predict(x_2)\n",
        "sil_dbscan_no_pca = silhouette_score(x_2, labels, metric='manhattan')\n",
        "num_clusters_dbscan = len(set(labels))\n",
        "num_ruido_dbscan = list(labels).count(-1)\n",
        "print(f\"Número de clusters: {num_clusters_dbscan}\")\n",
        "print(f\"Número de elementos en ruido: {num_ruido_dbscan}\")\n",
        "print(f\"Silhouette score: {sil_dbscan_no_pca}\")"
      ]
    },
    {
      "cell_type": "markdown",
      "metadata": {
        "id": "RcMMrndnL5Y2"
      },
      "source": [
        "Now with the model we are going to visualize in a diagram how the clusters are displayed."
      ]
    },
    {
      "cell_type": "code",
      "execution_count": null,
      "metadata": {
        "colab": {
          "base_uri": "https://localhost:8080/",
          "height": 718
        },
        "id": "spgUt-9RL41c",
        "outputId": "65c509d2-a234-4667-86c4-5c3e99534157"
      },
      "outputs": [],
      "source": [
        "plt.figure(figsize=(10, 8))\n",
        "plt.scatter(x_2[:,0], x_2[:,1], c=labels, cmap='rainbow')\n",
        "plt.title('Clusters DBSCAN')\n",
        "plt.xlabel('Componente 1')\n",
        "plt.ylabel('Componente 2')\n",
        "plt.show()"
      ]
    },
    {
      "cell_type": "markdown",
      "metadata": {
        "id": "lHh68pJ-t0FH"
      },
      "source": [
        "**Data with PCA**"
      ]
    },
    {
      "cell_type": "code",
      "execution_count": null,
      "metadata": {
        "colab": {
          "base_uri": "https://localhost:8080/"
        },
        "id": "4Yre5daVt49y",
        "outputId": "2eb07d3a-6d42-437c-92de-1781eeac06a9"
      },
      "outputs": [],
      "source": [
        "score_pca = 0\n",
        "best_params_pca ={}\n",
        "\n",
        "# Search best hyperparameters\n",
        "for params in ParameterGrid(param_dbscan):\n",
        "  print(params)\n",
        "  dbscan = DBSCAN(**params, metric='manhattan')\n",
        "  labels = dbscan.fit_predict(x_2_pca)\n",
        "\n",
        "  # Avoid using silhouette if there is only 1 cluster or all are noise\n",
        "  if len(set(labels)) <= 1 or (set(labels) == {-1}):\n",
        "    continue\n",
        "\n",
        "  score_f = silhouette_score(x_2_pca, labels, metric='manhattan')\n",
        "  print(f\"score: {score_f}\")\n",
        "  if score_f > score_pca:\n",
        "    score_pca = score_f\n",
        "    best_params_pca = params\n",
        "\n",
        "print(f\"Mejor valor de eps: {best_params_pca['eps']}\")\n",
        "print(f\"Mejor valor de min_samples: {best_params_pca['min_samples']}\")"
      ]
    },
    {
      "cell_type": "code",
      "execution_count": null,
      "metadata": {
        "colab": {
          "base_uri": "https://localhost:8080/"
        },
        "id": "I8KP7BLSugTl",
        "outputId": "a6303643-8848-4c76-eb58-5e2f76a7f702"
      },
      "outputs": [],
      "source": [
        "dbscan_pca = DBSCAN(**best_params_pca, metric='manhattan')\n",
        "labels_pca = dbscan_pca.fit_predict(x_2_pca)\n",
        "sil_dbscan_pca = silhouette_score(x_2_pca, labels_pca, metric='manhattan')\n",
        "num_clusters_dbscan_pca = len(set(labels_pca))\n",
        "num_ruido_dbscan_pca = list(labels_pca).count(-1)\n",
        "print(f\"Número de clusters: {num_clusters_dbscan_pca}\")\n",
        "print(f\"Número de elementos en ruido: {num_ruido_dbscan_pca}\")\n",
        "print(f\"Silhouette score: {sil_dbscan_pca}\")"
      ]
    },
    {
      "cell_type": "markdown",
      "metadata": {
        "id": "obCJWPXJMo_O"
      },
      "source": [
        "Having a model, we now proceed to graph"
      ]
    },
    {
      "cell_type": "code",
      "execution_count": null,
      "metadata": {
        "colab": {
          "base_uri": "https://localhost:8080/",
          "height": 718
        },
        "id": "XG1WGfkQMvpt",
        "outputId": "67f375d3-34bc-4b87-b39c-f0fd92c68309"
      },
      "outputs": [],
      "source": [
        "plt.figure(figsize=(10, 8))\n",
        "plt.scatter(x_2_pca[:,0], x_2_pca[:,1], c=labels_pca, cmap='rainbow')\n",
        "plt.title('Clusters DBSCAN con PCA')\n",
        "plt.xlabel('Componente 1')\n",
        "plt.ylabel('Componente 2')\n",
        "plt.show()"
      ]
    },
    {
      "cell_type": "markdown",
      "metadata": {
        "id": "eX5hfAGmTjHZ"
      },
      "source": [
        "\n",
        "Hypothesis for analyzing the effect of PCA on DBSCAN\n",
        "\n",
        "Null hypothesis (H₀):\n",
        "The application of dimensionality reduction using PCA does not have a significant impact on the quality of the clustering generated by the DBSCAN algorithm.\n",
        "\n",
        "Alternative hypothesis (H₁):\n",
        "The application of PCA significantly improves the quality of the clustering generated by DBSCAN.\n",
        "\n",
        "| Configuration | Number of clusters | Points classified as noise | Silhouette Score |\n",
        "| ------------- | ------------------ | ------------------------------ | ---------------- |\n",
        "| No PCA       | 2                  | 2                              | 0.4827           |\n",
        "|    PCA       | 2                  | 2                              | 0.4494           |\n",
        "\n",
        "Conclusion\n",
        "\n",
        "The results show that both with and without PCA, the DBSCAN algorithm identifies exactly two clusters and classifies two points as noise. However, the Silhouette Score is slightly lower when applying PCA (0.4494 vs. 0.4827), indicating that the clusters formed are slightly less cohesive and less separated after dimensionality reduction.\n",
        "\n",
        "Therefore, no improvement in clustering quality is evident when applying PCA before using DBSCAN. From these results, we conclude that the null hypothesis (H₀) is not rejected. That is, in this particular case, the use of PCA does not provide a significant performance benefit to the DBSCAN algorithm for Wi-Fi hotspot segmentation."
      ]
    },
    {
      "cell_type": "markdown",
      "metadata": {
        "id": "2WOGSss04fnN"
      },
      "source": [
        "### *Gaussian Mixture*"
      ]
    },
    {
      "cell_type": "code",
      "execution_count": null,
      "metadata": {
        "id": "i4lEp4bt4rK6"
      },
      "outputs": [],
      "source": [
        "param_gaussian = {\n",
        "    'n_components': [2, 3, 4, 5, 6],\n",
        "    'covariance_type': ['full', 'tied', 'diag', 'spherical'],\n",
        "    'random_state': [42]\n",
        "}"
      ]
    },
    {
      "cell_type": "markdown",
      "metadata": {
        "id": "Ku4fXase5ImM"
      },
      "source": [
        "**Data without PCA**"
      ]
    },
    {
      "cell_type": "code",
      "execution_count": null,
      "metadata": {
        "colab": {
          "base_uri": "https://localhost:8080/"
        },
        "id": "Hr_gi1M59WsR",
        "outputId": "dedf02fb-e9c5-4fef-b3e3-05330542c15e"
      },
      "outputs": [],
      "source": [
        "score_g = 0\n",
        "best_params_g ={}\n",
        "\n",
        "# Search best hyperparameters\n",
        "for params in ParameterGrid(param_gaussian):\n",
        "  print(params)\n",
        "  gaussian = GaussianMixture(**params)\n",
        "  labels = gaussian.fit_predict(x_2)\n",
        "\n",
        "  # Avoid using silhouette if there is only 1 cluster or all are noise\n",
        "  if len(set(labels)) <= 1 or (set(labels) == {-1}):\n",
        "    continue\n",
        "\n",
        "  score_f = silhouette_score(x_2, labels, metric='manhattan')\n",
        "  print(f\"score: {score_f}\")\n",
        "  if score_f > score_g:\n",
        "    score_g = score_f\n",
        "    best_params_g = params\n",
        "\n",
        "print(f\"Mejor valor de eps: {best_params_g['n_components']}\")\n",
        "print(f\"Mejor valor de min_samples: {best_params_g['covariance_type']}\")"
      ]
    },
    {
      "cell_type": "code",
      "execution_count": null,
      "metadata": {
        "colab": {
          "base_uri": "https://localhost:8080/"
        },
        "id": "MKESkcKW_fbK",
        "outputId": "c6a82de4-5644-449d-dfd5-bc114211f479"
      },
      "outputs": [],
      "source": [
        "gaussian_n = GaussianMixture(**best_params_g)\n",
        "labels_g= gaussian_n.fit_predict(x_2)\n",
        "sil_gaussian_no_pca = silhouette_score(x_2, labels_g, metric='manhattan')\n",
        "num_clusters_gaussian = len(set(labels_g))\n",
        "num_ruido_gaussian = list(labels_g).count(-1)\n",
        "print(f\"Número de clusters: {num_clusters_gaussian}\")\n",
        "print(f\"Número de elementos en ruido: {num_ruido_gaussian}\")\n",
        "print(f\"Silhouette score: {sil_gaussian_no_pca}\")"
      ]
    },
    {
      "cell_type": "markdown",
      "metadata": {
        "id": "icA3E8ruNVlp"
      },
      "source": [
        "With the model, we proceed to visualize the clusters"
      ]
    },
    {
      "cell_type": "code",
      "execution_count": null,
      "metadata": {
        "colab": {
          "base_uri": "https://localhost:8080/",
          "height": 718
        },
        "id": "FoEOkCQqNVGp",
        "outputId": "a3a84bcd-1f76-4bed-a39a-6c144245ca5e"
      },
      "outputs": [],
      "source": [
        "plt.figure(figsize=(10, 8))\n",
        "plt.scatter(x_2[:,0], x_2[:,1], c=labels_g, cmap='rainbow')\n",
        "plt.title('Clusters Gaussian Mixture')\n",
        "plt.xlabel('Componente 1')\n",
        "plt.ylabel('Componente 2')\n",
        "plt.show()"
      ]
    },
    {
      "cell_type": "markdown",
      "metadata": {
        "id": "56y8L-Np_6vp"
      },
      "source": [
        "**Data with PCA**"
      ]
    },
    {
      "cell_type": "code",
      "execution_count": null,
      "metadata": {
        "colab": {
          "base_uri": "https://localhost:8080/"
        },
        "id": "BZjquZMh_6Iw",
        "outputId": "ebd67214-b8e6-4ab1-c858-c0e33757927f"
      },
      "outputs": [],
      "source": [
        "score_g_pca = 0\n",
        "best_params_g_pca ={}\n",
        "\n",
        "# Search best hyperparameters\n",
        "for params in ParameterGrid(param_gaussian):\n",
        "  print(params)\n",
        "  gaussian = GaussianMixture(**params)\n",
        "  gaussian.fit(x_2_pca)\n",
        "  labels = gaussian.predict(x_2_pca)\n",
        "\n",
        "  # Avoid using silhouette if there is only 1 cluster or all are noise\n",
        "  if len(set(labels)) <= 1 or (set(labels) == {-1}):\n",
        "    continue\n",
        "\n",
        "  score_f = silhouette_score(x_2_pca, labels, metric='manhattan')\n",
        "  print(f\"score: {score_f}\")\n",
        "  if score_f > score_g_pca:\n",
        "    score_g_pca = score_f\n",
        "    best_params_g_pca = params\n",
        "\n",
        "print(f\"Mejor valor de eps: {best_params_g_pca['n_components']}\")\n",
        "print(f\"Mejor valor de min_samples: {best_params_g_pca['covariance_type']}\")"
      ]
    },
    {
      "cell_type": "code",
      "execution_count": null,
      "metadata": {
        "colab": {
          "base_uri": "https://localhost:8080/"
        },
        "id": "g0HCQHePARR0",
        "outputId": "9cddb16b-13a3-4745-942f-799a31a880f3"
      },
      "outputs": [],
      "source": [
        "gaussian_pca = GaussianMixture(**best_params_g_pca)\n",
        "labels_g_pca= gaussian_pca.fit_predict(x_2_pca)\n",
        "sil_gaussian_pca = silhouette_score(x_2_pca, labels_g_pca, metric='manhattan')\n",
        "num_clusters_gaussian_pca = len(set(labels_g_pca))\n",
        "num_ruido_gaussian_pca = list(labels_g_pca).count(-1)\n",
        "print(f\"Número de clusters: {num_clusters_gaussian_pca}\")\n",
        "print(f\"Número de elementos en ruido: {num_ruido_gaussian_pca}\")\n",
        "print(f\"Silhouette score: {sil_gaussian_pca}\")"
      ]
    },
    {
      "cell_type": "markdown",
      "metadata": {
        "id": "La_B9jGVNtSs"
      },
      "source": [
        "With the model, we proceed to make the scatter diagram"
      ]
    },
    {
      "cell_type": "code",
      "execution_count": null,
      "metadata": {
        "colab": {
          "base_uri": "https://localhost:8080/",
          "height": 675
        },
        "id": "c9qQvRmoNxQJ",
        "outputId": "86528119-33ea-45b1-a7c7-020c751ef25e"
      },
      "outputs": [],
      "source": [
        "fig = plt.figure(figsize=(10, 8))\n",
        "ax = fig.add_subplot(111, projection='3d')\n",
        "ax.scatter(x_2_pca[:,0], x_2_pca[:,1], x_2_pca[:,2], c=labels_g_pca, cmap='rainbow', s=5)\n",
        "ax.set_title('Clusters Gaussian Mixture')\n",
        "ax.set_xlabel('Componente 1')\n",
        "ax.set_ylabel('Componente 2')\n",
        "ax.set_zlabel('Componente 3')\n",
        "plt.show()"
      ]
    },
    {
      "cell_type": "markdown",
      "metadata": {
        "id": "DFBa62rEUdpf"
      },
      "source": [
        "Hypotheses for Gaussian Mixture and PCA\n",
        "\n",
        "Null hypothesis (H₀):\n",
        "The application of dimensionality reduction using PCA does not have a significant impact on the quality of the clustering generated by the Gaussian Mixture algorithm.\n",
        "\n",
        "Alternative hypothesis (H₁):\n",
        "The application of PCA significantly improves the quality of the clustering generated by Gaussian Mixture.\n",
        "\n",
        "Observed results\n",
        "\n",
        "| Configuration | Number of clusters | Noise points | Silhouette score |\n",
        "| ------------- | ------------------ | ------------ | ---------------- |\n",
        "| **NO PCA**   | 2                  | 0            | **0.3986**       |\n",
        "| **WITH PCA** | 3                  | 0            | **0.3862**       |\n",
        "\n",
        "\n",
        "Analysis and Interpretation\n",
        "\n",
        "Applying PCA, the model went from 2 to 3 clusters, suggesting a greater ability to identify subgroups.\n",
        "\n",
        "However, the Silhouette Score decreased slightly, from 0.3986 to 0.3862, indicating that the new clusters are neither more compact nor better separated.\n",
        "\n",
        "Visually, PCA shows clearer 3D segmentation, although quantitatively it does not represent an improvement in cohesion/separation.\n",
        "\n",
        "Conclusion\n",
        "\n",
        "Although the Gaussian Mixture model with PCA was able to detect more clusters, the slight decrease in the Silhouette Score indicates that the clustering quality did not improve significantly.\n",
        "\n",
        "Therefore, the null hypothesis (H₀) is not rejected. That is, in this case, applying PCA does not contribute to a substantial improvement in the performance of the Gaussian Mixture algorithm in terms of clustering quality."
      ]
    },
    {
      "cell_type": "markdown",
      "metadata": {
        "id": "0xMZauF3rKRH"
      },
      "source": [
        "### *K-Means*\n",
        "\n",
        "For the next part, since we don't know the ideal number of clusters for the model, we will perform a search using the elbow rule and the silhouette method.\n",
        "\n",
        "**Data with variance without PCA**"
      ]
    },
    {
      "cell_type": "code",
      "execution_count": null,
      "metadata": {
        "colab": {
          "base_uri": "https://localhost:8080/"
        },
        "id": "7lbab8crrNZk",
        "outputId": "53bb5518-88e6-4ad6-caa8-958c18615695"
      },
      "outputs": [],
      "source": [
        "inertias = []\n",
        "centroids_list = []\n",
        "\n",
        "for k in range(2, 9):\n",
        "    kmeans = KMeans(n_clusters=k, random_state=42, n_init=10)\n",
        "    label = kmeans.fit_predict(x_2)\n",
        "    inertias.append(kmeans.inertia_)\n",
        "    centroids_list.append(kmeans.cluster_centers_)\n",
        "    print(f'K = {k}')\n",
        "    print('Centroides:\\n', kmeans.cluster_centers_)\n",
        "    print('Inercia:', kmeans.inertia_)\n",
        "    print(f\"Silhouette score: {silhouette_score(x_2, label, metric='manhattan')}\")\n",
        "    print('-' * 50)"
      ]
    },
    {
      "cell_type": "code",
      "execution_count": null,
      "metadata": {
        "colab": {
          "base_uri": "https://localhost:8080/",
          "height": 487
        },
        "id": "WKHFtLV7x-xm",
        "outputId": "67376a05-e978-41e3-ece2-5f17be2c34d2"
      },
      "outputs": [],
      "source": [
        "plt.figure(figsize=(8, 5))\n",
        "plt.plot(range(2, 9), inertias, marker='o')\n",
        "plt.title('Método del Codo')\n",
        "plt.xlabel('Número de Clústeres (k)')\n",
        "plt.ylabel('Inercia')\n",
        "plt.grid(True)\n",
        "plt.show()"
      ]
    },
    {
      "cell_type": "markdown",
      "metadata": {
        "id": "88UmEkSrLRTZ"
      },
      "source": [
        "Thanks to the elbow diagram, we conclude to use 3 components for PCA"
      ]
    },
    {
      "cell_type": "code",
      "execution_count": null,
      "metadata": {
        "colab": {
          "base_uri": "https://localhost:8080/"
        },
        "id": "6XMYAOH27g3a",
        "outputId": "646e85af-a76a-435f-fc62-7646c22bf418"
      },
      "outputs": [],
      "source": [
        "kmeans_normal = KMeans(n_clusters=3, random_state=42, n_init=10)\n",
        "labels_kmeans_normal = kmeans_normal.fit_predict(x_2)\n",
        "sil_kmeans_no_pca = silhouette_score(x_2, labels_kmeans_normal, metric='manhattan')\n",
        "num_clusters_kmeans = len(set(labels_kmeans_normal))\n",
        "num_ruido_kmeans = list(labels_kmeans_normal).count(-1)\n",
        "print(f\"Número de clusters: {num_clusters_kmeans}\")\n",
        "print(f\"Número de elementos en ruido: {num_ruido_kmeans}\")\n",
        "print(f\"Inercia: {kmeans_normal.inertia_}\")\n",
        "print(f\"Silhouette score: {sil_kmeans_no_pca}\")"
      ]
    },
    {
      "cell_type": "markdown",
      "metadata": {
        "id": "wT7OB4NmPBZR"
      },
      "source": [
        "With the model defined, the following scatter diagram is made"
      ]
    },
    {
      "cell_type": "code",
      "execution_count": null,
      "metadata": {
        "colab": {
          "base_uri": "https://localhost:8080/",
          "height": 675
        },
        "id": "MdL6yXtlPFBv",
        "outputId": "d525b25a-2e06-46bf-846a-cc0a7f7056fa"
      },
      "outputs": [],
      "source": [
        "fig = plt.figure(figsize=(10, 8))\n",
        "ax = fig.add_subplot(111, projection='3d')\n",
        "ax.scatter(x_2[:,0], x_2[:,1], x_2[:,2], c=labels_kmeans_normal, cmap='rainbow', s=5)\n",
        "ax.set_title('Clusters Gaussian Mixture')\n",
        "ax.set_xlabel('Componente 1')\n",
        "ax.set_ylabel('Componente 2')\n",
        "ax.set_zlabel('Componente 3')\n",
        "plt.show()"
      ]
    },
    {
      "cell_type": "markdown",
      "metadata": {
        "id": "iv-8JYwq7XVc"
      },
      "source": [
        "**Datoa with PCA**"
      ]
    },
    {
      "cell_type": "code",
      "execution_count": null,
      "metadata": {
        "colab": {
          "base_uri": "https://localhost:8080/"
        },
        "id": "4Khx-vLN7YvR",
        "outputId": "e1d00124-c55d-41d6-cd9d-a2bfa07ef3ba"
      },
      "outputs": [],
      "source": [
        "inertias_pca = []\n",
        "centroids_list_pca = []\n",
        "\n",
        "for k in range(2, 9):\n",
        "    kmeans = KMeans(n_clusters=k, random_state=42, n_init=10)\n",
        "    label = kmeans.fit_predict(x_2_pca)\n",
        "    inertias_pca.append(kmeans.inertia_)\n",
        "    centroids_list_pca.append(kmeans.cluster_centers_)\n",
        "    print(f'K = {k}')\n",
        "    print('Centroides:\\n', kmeans.cluster_centers_)\n",
        "    print('Inercia:', kmeans.inertia_)\n",
        "    print(f\"Silhouette score: {silhouette_score(x_2_pca, label, metric='manhattan')}\")\n",
        "    print('-' * 50)"
      ]
    },
    {
      "cell_type": "code",
      "execution_count": null,
      "metadata": {
        "colab": {
          "base_uri": "https://localhost:8080/",
          "height": 487
        },
        "id": "_gsVlGDR-WuX",
        "outputId": "e1b77f8e-a5be-4930-cb00-c15f616b4f46"
      },
      "outputs": [],
      "source": [
        "plt.figure(figsize=(8, 5))\n",
        "plt.plot(range(2, 9), inertias_pca, marker='o')\n",
        "plt.title('Método del Codo')\n",
        "plt.xlabel('Número de Clústeres (k)')\n",
        "plt.ylabel('Inercia')\n",
        "plt.grid(True)\n",
        "plt.show()"
      ]
    },
    {
      "cell_type": "markdown",
      "metadata": {
        "id": "Ej9h-VrDLbVe"
      },
      "source": [
        "Thanks to the elbow diagram, we conclude to use 3 components for PCA"
      ]
    },
    {
      "cell_type": "code",
      "execution_count": null,
      "metadata": {
        "colab": {
          "base_uri": "https://localhost:8080/"
        },
        "id": "drR_domoJyEu",
        "outputId": "ff90d20a-45f0-4f4e-d705-f90724bd8ec9"
      },
      "outputs": [],
      "source": [
        "kmeans_pca = KMeans(n_clusters=3, random_state=42, n_init=10)\n",
        "labels_kmeans_pca = kmeans_pca.fit_predict(x_2_pca)\n",
        "sil_kmeans_pca = silhouette_score(x_2_pca, labels_kmeans_pca, metric='manhattan')\n",
        "num_clusters_kmeans_pca = len(set(labels_kmeans_pca))\n",
        "num_ruido_kmeans_pca = list(labels_kmeans_pca).count(-1)\n",
        "print(f\"Número de clusters: {num_clusters_kmeans_pca}\")\n",
        "print(f\"Número de elementos en ruido: {num_ruido_kmeans_pca}\")\n",
        "print(f\"Inercia: {kmeans_pca.inertia_}\")\n",
        "print(f\"Silhouette score: {sil_kmeans_pca}\")"
      ]
    },
    {
      "cell_type": "markdown",
      "metadata": {
        "id": "wsEiOF42PQZS"
      },
      "source": [
        "With the model, the scatter plot is now made"
      ]
    },
    {
      "cell_type": "code",
      "execution_count": null,
      "metadata": {
        "colab": {
          "base_uri": "https://localhost:8080/",
          "height": 675
        },
        "id": "SCtKShUtPWip",
        "outputId": "d385aa12-fb01-4170-fcbe-1d847ebc841b"
      },
      "outputs": [],
      "source": [
        "fig = plt.figure(figsize=(10, 8))\n",
        "ax = fig.add_subplot(111, projection='3d')\n",
        "ax.scatter(x_2_pca[:,0], x_2_pca[:,1], x_2_pca[:,2], c=labels_kmeans_pca, cmap='rainbow', s=5)\n",
        "ax.set_title('Clusters Gaussian Mixture')\n",
        "ax.set_xlabel('Componente 1')\n",
        "ax.set_ylabel('Componente 2')\n",
        "ax.set_zlabel('Componente 3')\n",
        "plt.show()"
      ]
    },
    {
      "cell_type": "markdown",
      "metadata": {
        "id": "p6pg0yvnWRZ4"
      },
      "source": [
        "Hypotheses for K-Means and PCA\n",
        "\n",
        "Null hypothesis (H₀):\n",
        "The application of dimensionality reduction using PCA does not have a significant impact on the quality of the clustering generated by the K-Means algorithm.\n",
        "\n",
        "Alternative hypothesis (H₁):\n",
        "The application of PCA significantly improves the quality of the clustering generated by K-Means.\n",
        "\n",
        "Observed results\n",
        "\n",
        "| Configuration | Number of clusters | Noise points | Inertia | Silhouette score |\n",
        "| ------------- | ------------------ | ------------ | ------- | ---------------- |\n",
        "| **No PCA**   | 3                  | 0            | 358.17  | 0.3378           |\n",
        "| **With PCA** | 3                  | 0            | 316.54  | 0.3921           |\n",
        "\n",
        "\n",
        "Analysis and Interpretation\n",
        "\n",
        "In both cases, K-Means finds three clusters, with no points labeled as noise.\n",
        "\n",
        "The use of PCA reduces inertia (from 358.17 to 316.54), implying that the points are closer to their respective centroids after the transformation.\n",
        "\n",
        "The Silhouette Score increases when applying PCA (from 0.3378 to 0.3921), suggesting that the clusters are more compact and better separated.\n",
        "\n",
        "Visually, the 3D representation after PCA shows clearer segmentation.\n",
        "\n",
        "Conclusion\n",
        "\n",
        "In the case of the K-Means algorithm, the application of PCA improves both the cohesion and separation of the clusters, as evidenced by the reduction in inertia and the increase in the Silhouette Score.\n",
        "\n",
        "Therefore, the null hypothesis (H₀) is rejected and the alternative hypothesis (H₁) is accepted. That is, in this case, the use of PCA does significantly improve the quality of the clustering generated by the K-Means algorithm."
      ]
    },
    {
      "cell_type": "markdown",
      "metadata": {
        "id": "_IWsHAkJP3_4"
      },
      "source": [
        "## **Final Analysis**"
      ]
    },
    {
      "cell_type": "code",
      "execution_count": null,
      "metadata": {
        "colab": {
          "base_uri": "https://localhost:8080/"
        },
        "id": "IDZmrZ19y980",
        "outputId": "bf3c039a-7110-4a00-bf31-25475032d1da"
      },
      "outputs": [],
      "source": [
        "import joblib\n",
        "\n",
        "joblib.dump(gaussian_pca, 'gaussian_pca_model.pkl')"
      ]
    },
    {
      "cell_type": "code",
      "execution_count": null,
      "metadata": {
        "colab": {
          "base_uri": "https://localhost:8080/"
        },
        "id": "9uYVshDUE2u0",
        "outputId": "2135eacd-c12b-40de-df38-427cefc23922"
      },
      "outputs": [],
      "source": [
        "joblib.dump(pca_final, 'pca_model.pkl')"
      ]
    },
    {
      "cell_type": "code",
      "execution_count": null,
      "metadata": {
        "colab": {
          "base_uri": "https://localhost:8080/"
        },
        "id": "Oj3OaYjwFP_w",
        "outputId": "e929ca96-47f4-4813-de62-6bff21f4d634"
      },
      "outputs": [],
      "source": [
        "joblib.dump(scale, 'minmax_scaler.pkl')"
      ]
    },
    {
      "cell_type": "code",
      "execution_count": null,
      "metadata": {
        "colab": {
          "base_uri": "https://localhost:8080/"
        },
        "id": "SQ7MNQKPP_r0",
        "outputId": "ce383fb5-10b8-475d-e64e-f6de815d257d"
      },
      "outputs": [],
      "source": [
        "tabla ={\n",
        "    'Modelo': ['DBSCAN', 'DBSCAN con PCA', 'Gaussian Mixture', 'Gaussian Mixture con PCA', 'K-Means', 'K-Means con PCA'],\n",
        "    'Silhouette Score': [sil_dbscan_no_pca, sil_dbscan_pca, sil_gaussian_no_pca, sil_gaussian_pca, sil_kmeans_no_pca, sil_kmeans_pca],\n",
        "    'Número de clusters': [num_clusters_dbscan, num_clusters_dbscan_pca, num_clusters_gaussian, num_clusters_gaussian_pca, num_clusters_kmeans, num_clusters_kmeans_pca],\n",
        "    'Número de elementos en ruido': [num_ruido_dbscan, num_ruido_dbscan_pca, num_ruido_gaussian, num_ruido_gaussian_pca, num_ruido_kmeans, num_ruido_kmeans_pca],\n",
        "}\n",
        "\n",
        "df_tabla = pd.DataFrame(tabla)\n",
        "print(df_tabla)"
      ]
    },
    {
      "cell_type": "markdown",
      "metadata": {
        "id": "SsnFdkcrZRUj"
      },
      "source": [
        "According to the silhouette method, which evaluates the quality of the models and how well the clusters have been grouped, the best model is DBSCAN because it is closest to 1, indicating that it is the best clustered model. However, observing the scatter plots, DBSCAN does not demonstrate an ideal classification of points into clusters by assigning only 2 points to a group; therefore, the k-means with PCA and Gaussian Mixture with PCA models are considered better, since the distribution of elements among the clusters is visualized. With this in mind, we will use the Gaussian Mixture with PCA model because of its ideal classification of elements visually and because it has a better score in the silhouette method than K-means."
      ]
    },
    {
      "cell_type": "markdown",
      "metadata": {
        "id": "T7lunnIDj6tx"
      },
      "source": [
        "Model building hypothesis\n",
        "\n",
        "| Model | Visits | Logins | New Devices | Sessions | Consumers | Different Wi-Fi Zones | Different Neighborhoods |\n",
        "| ---------------- | ------- | ------ | ------------------- | -------- | ------------ | -------------------- | ----------------- |\n",
        "| DBSCAN\\_PCA\\_0   | 28.44   | 25.83  | 2.72                | 12.06    | 26.72        | 3                    | 3                 |\n",
        "| DBSCAN\\_PCA\\_1   | 13.13   | 11.89  | 1.40                | 6.58     | 12.83        | 5                    | 5                 |\n",
        "| GMM\\_PCA\\_0      | 18.56   | 17.28  | 1.94                | 8.61     | 17.47        | 2                    | 2                 |\n",
        "| GMM\\_PCA\\_1      | 11.08   | 9.81   | 1.19                | 5.53     | 10.81        | 2                    | 2                 |\n",
        "| GMM\\_PCA\\_2      | 30.11   | 27.55  | 2.86                | 12.87    | 27.93        | 4                    | 4                 |\n",
        "| KMeans\\_PCA\\_0   | 11.08   | 9.81   | 1.19                | 5.53     | 10.81        | 2                    | 2                 |\n",
        "| KMeans\\_PCA\\_1   | 30.11   | 27.55  | 2.86                | 12.87    | 27.93        | 4                    | 4                 |\n",
        "| KMeans\\_PCA\\_2   | 18.56   | 17.28  | 1.94                | 8.61     | 17.47        | 2                    | 2                 |\n",
        "| DBSCAN\\_noPCA\\_0 | 28.44   | 25.83  | 2.72                | 12.06    | 26.72        | 3                    | 3                 |\n",
        "| DBSCAN\\_noPCA\\_1 | 13.13   | 11.89  | 1.40                | 6.58     | 12.83        | 5                    | 5                 |\n",
        "| GMM\\_noPCA\\_0    | 30.11   | 27.55  | 2.86                | 12.87    | 27.93        | 4                    | 4                 |\n",
        "| GMM\\_noPCA\\_1    | 18.56   | 17.28  | 1.94                | 8.61     | 17.47        | 2                    | 2                 |\n",
        "| GMM\\_noPCA\\_2    | 11.08   | 9.81   | 1.19                | 5.53     | 10.81        | 2                    | 2                 |\n",
        "| KMeans\\_noPCA\\_0 | 11.08   | 9.81   | 1.19                | 5.53     | 10.81        | 2                    | 2                 |\n",
        "| KMeans\\_noPCA\\_1 | 18.56   | 17.28  | 1.94                | 8.61     | 17.47        | 2                    | 2                 |\n",
        "| KMeans\\_noPCA\\_2 | 30.11   | 27.55  | 2.86                | 12.87    | 27.93        | 4                    | 4                 |\n"
      ]
    },
    {
      "cell_type": "code",
      "execution_count": null,
      "metadata": {
        "id": "qVC4WbbBj9I_"
      },
      "outputs": [],
      "source": []
    }
  ],
  "metadata": {
    "colab": {
      "provenance": []
    },
    "kernelspec": {
      "display_name": "Python 3",
      "name": "python3"
    },
    "language_info": {
      "name": "python"
    },
    "widgets": {
      "application/vnd.jupyter.widget-state+json": {
        "00e2633c737b4bbcb134a60482d74959": {
          "model_module": "@jupyter-widgets/base",
          "model_module_version": "1.2.0",
          "model_name": "LayoutModel",
          "state": {
            "_model_module": "@jupyter-widgets/base",
            "_model_module_version": "1.2.0",
            "_model_name": "LayoutModel",
            "_view_count": null,
            "_view_module": "@jupyter-widgets/base",
            "_view_module_version": "1.2.0",
            "_view_name": "LayoutView",
            "align_content": null,
            "align_items": null,
            "align_self": null,
            "border": null,
            "bottom": null,
            "display": null,
            "flex": null,
            "flex_flow": null,
            "grid_area": null,
            "grid_auto_columns": null,
            "grid_auto_flow": null,
            "grid_auto_rows": null,
            "grid_column": null,
            "grid_gap": null,
            "grid_row": null,
            "grid_template_areas": null,
            "grid_template_columns": null,
            "grid_template_rows": null,
            "height": null,
            "justify_content": null,
            "justify_items": null,
            "left": null,
            "margin": null,
            "max_height": null,
            "max_width": null,
            "min_height": null,
            "min_width": null,
            "object_fit": null,
            "object_position": null,
            "order": null,
            "overflow": null,
            "overflow_x": null,
            "overflow_y": null,
            "padding": null,
            "right": null,
            "top": null,
            "visibility": null,
            "width": null
          }
        },
        "04cec5e318e84cfb9c44b2d60a35b2d5": {
          "model_module": "@jupyter-widgets/controls",
          "model_module_version": "1.5.0",
          "model_name": "ProgressStyleModel",
          "state": {
            "_model_module": "@jupyter-widgets/controls",
            "_model_module_version": "1.5.0",
            "_model_name": "ProgressStyleModel",
            "_view_count": null,
            "_view_module": "@jupyter-widgets/base",
            "_view_module_version": "1.2.0",
            "_view_name": "StyleView",
            "bar_color": null,
            "description_width": ""
          }
        },
        "1b4c3fec22b145d8b789d3d6aee0d788": {
          "model_module": "@jupyter-widgets/controls",
          "model_module_version": "1.5.0",
          "model_name": "DescriptionStyleModel",
          "state": {
            "_model_module": "@jupyter-widgets/controls",
            "_model_module_version": "1.5.0",
            "_model_name": "DescriptionStyleModel",
            "_view_count": null,
            "_view_module": "@jupyter-widgets/base",
            "_view_module_version": "1.2.0",
            "_view_name": "StyleView",
            "description_width": ""
          }
        },
        "1be32669c01d4ac08b08c877461f528f": {
          "model_module": "@jupyter-widgets/base",
          "model_module_version": "1.2.0",
          "model_name": "LayoutModel",
          "state": {
            "_model_module": "@jupyter-widgets/base",
            "_model_module_version": "1.2.0",
            "_model_name": "LayoutModel",
            "_view_count": null,
            "_view_module": "@jupyter-widgets/base",
            "_view_module_version": "1.2.0",
            "_view_name": "LayoutView",
            "align_content": null,
            "align_items": null,
            "align_self": null,
            "border": null,
            "bottom": null,
            "display": null,
            "flex": null,
            "flex_flow": null,
            "grid_area": null,
            "grid_auto_columns": null,
            "grid_auto_flow": null,
            "grid_auto_rows": null,
            "grid_column": null,
            "grid_gap": null,
            "grid_row": null,
            "grid_template_areas": null,
            "grid_template_columns": null,
            "grid_template_rows": null,
            "height": null,
            "justify_content": null,
            "justify_items": null,
            "left": null,
            "margin": null,
            "max_height": null,
            "max_width": null,
            "min_height": null,
            "min_width": null,
            "object_fit": null,
            "object_position": null,
            "order": null,
            "overflow": null,
            "overflow_x": null,
            "overflow_y": null,
            "padding": null,
            "right": null,
            "top": null,
            "visibility": null,
            "width": null
          }
        },
        "20e816066c7f4e86a590873dcf5718ed": {
          "model_module": "@jupyter-widgets/controls",
          "model_module_version": "1.5.0",
          "model_name": "DescriptionStyleModel",
          "state": {
            "_model_module": "@jupyter-widgets/controls",
            "_model_module_version": "1.5.0",
            "_model_name": "DescriptionStyleModel",
            "_view_count": null,
            "_view_module": "@jupyter-widgets/base",
            "_view_module_version": "1.2.0",
            "_view_name": "StyleView",
            "description_width": ""
          }
        },
        "30b86fde47f14294b6fdb2afb7eb8d04": {
          "model_module": "@jupyter-widgets/controls",
          "model_module_version": "1.5.0",
          "model_name": "FloatProgressModel",
          "state": {
            "_dom_classes": [],
            "_model_module": "@jupyter-widgets/controls",
            "_model_module_version": "1.5.0",
            "_model_name": "FloatProgressModel",
            "_view_count": null,
            "_view_module": "@jupyter-widgets/controls",
            "_view_module_version": "1.5.0",
            "_view_name": "ProgressView",
            "bar_style": "success",
            "description": "",
            "description_tooltip": null,
            "layout": "IPY_MODEL_a387522561d24844abf7f9fb0c34c246",
            "max": 1,
            "min": 0,
            "orientation": "horizontal",
            "style": "IPY_MODEL_7b82737781bb4514b42160be3efe5100",
            "value": 1
          }
        },
        "3163e30805f647809db33f09fbaaae56": {
          "model_module": "@jupyter-widgets/base",
          "model_module_version": "1.2.0",
          "model_name": "LayoutModel",
          "state": {
            "_model_module": "@jupyter-widgets/base",
            "_model_module_version": "1.2.0",
            "_model_name": "LayoutModel",
            "_view_count": null,
            "_view_module": "@jupyter-widgets/base",
            "_view_module_version": "1.2.0",
            "_view_name": "LayoutView",
            "align_content": null,
            "align_items": null,
            "align_self": null,
            "border": null,
            "bottom": null,
            "display": null,
            "flex": null,
            "flex_flow": null,
            "grid_area": null,
            "grid_auto_columns": null,
            "grid_auto_flow": null,
            "grid_auto_rows": null,
            "grid_column": null,
            "grid_gap": null,
            "grid_row": null,
            "grid_template_areas": null,
            "grid_template_columns": null,
            "grid_template_rows": null,
            "height": null,
            "justify_content": null,
            "justify_items": null,
            "left": null,
            "margin": null,
            "max_height": null,
            "max_width": null,
            "min_height": null,
            "min_width": null,
            "object_fit": null,
            "object_position": null,
            "order": null,
            "overflow": null,
            "overflow_x": null,
            "overflow_y": null,
            "padding": null,
            "right": null,
            "top": null,
            "visibility": null,
            "width": null
          }
        },
        "324bb323405d44f2a6da034d7c1379d8": {
          "model_module": "@jupyter-widgets/controls",
          "model_module_version": "1.5.0",
          "model_name": "DescriptionStyleModel",
          "state": {
            "_model_module": "@jupyter-widgets/controls",
            "_model_module_version": "1.5.0",
            "_model_name": "DescriptionStyleModel",
            "_view_count": null,
            "_view_module": "@jupyter-widgets/base",
            "_view_module_version": "1.2.0",
            "_view_name": "StyleView",
            "description_width": ""
          }
        },
        "38f2466b378346f8af5c5925b6ffc477": {
          "model_module": "@jupyter-widgets/controls",
          "model_module_version": "1.5.0",
          "model_name": "HTMLModel",
          "state": {
            "_dom_classes": [],
            "_model_module": "@jupyter-widgets/controls",
            "_model_module_version": "1.5.0",
            "_model_name": "HTMLModel",
            "_view_count": null,
            "_view_module": "@jupyter-widgets/controls",
            "_view_module_version": "1.5.0",
            "_view_name": "HTMLView",
            "description": "",
            "description_tooltip": null,
            "layout": "IPY_MODEL_8a63900a5d5649bbaf9579010bbbf23c",
            "placeholder": "​",
            "style": "IPY_MODEL_324bb323405d44f2a6da034d7c1379d8",
            "value": " 42/42 [00:06&lt;00:00,  3.61it/s, Completed]"
          }
        },
        "3aea1ee492154baa97686ae556f7d00d": {
          "model_module": "@jupyter-widgets/controls",
          "model_module_version": "1.5.0",
          "model_name": "ProgressStyleModel",
          "state": {
            "_model_module": "@jupyter-widgets/controls",
            "_model_module_version": "1.5.0",
            "_model_name": "ProgressStyleModel",
            "_view_count": null,
            "_view_module": "@jupyter-widgets/base",
            "_view_module_version": "1.2.0",
            "_view_name": "StyleView",
            "bar_color": null,
            "description_width": ""
          }
        },
        "44ddde0472114f3797ad451dd33d16fc": {
          "model_module": "@jupyter-widgets/controls",
          "model_module_version": "1.5.0",
          "model_name": "HBoxModel",
          "state": {
            "_dom_classes": [],
            "_model_module": "@jupyter-widgets/controls",
            "_model_module_version": "1.5.0",
            "_model_name": "HBoxModel",
            "_view_count": null,
            "_view_module": "@jupyter-widgets/controls",
            "_view_module_version": "1.5.0",
            "_view_name": "HBoxView",
            "box_style": "",
            "children": [
              "IPY_MODEL_a23e05df31264980ab8898e8618896fc",
              "IPY_MODEL_7e3374c661b740768aeb393013060e34",
              "IPY_MODEL_8b6adc805a2d4eec87fa214e5dad6a73"
            ],
            "layout": "IPY_MODEL_6b6f5110f0c646d09d6b6d14afb22f53"
          }
        },
        "4c884b7dfcd84f7a91a2c71a73569499": {
          "model_module": "@jupyter-widgets/base",
          "model_module_version": "1.2.0",
          "model_name": "LayoutModel",
          "state": {
            "_model_module": "@jupyter-widgets/base",
            "_model_module_version": "1.2.0",
            "_model_name": "LayoutModel",
            "_view_count": null,
            "_view_module": "@jupyter-widgets/base",
            "_view_module_version": "1.2.0",
            "_view_name": "LayoutView",
            "align_content": null,
            "align_items": null,
            "align_self": null,
            "border": null,
            "bottom": null,
            "display": null,
            "flex": null,
            "flex_flow": null,
            "grid_area": null,
            "grid_auto_columns": null,
            "grid_auto_flow": null,
            "grid_auto_rows": null,
            "grid_column": null,
            "grid_gap": null,
            "grid_row": null,
            "grid_template_areas": null,
            "grid_template_columns": null,
            "grid_template_rows": null,
            "height": null,
            "justify_content": null,
            "justify_items": null,
            "left": null,
            "margin": null,
            "max_height": null,
            "max_width": null,
            "min_height": null,
            "min_width": null,
            "object_fit": null,
            "object_position": null,
            "order": null,
            "overflow": null,
            "overflow_x": null,
            "overflow_y": null,
            "padding": null,
            "right": null,
            "top": null,
            "visibility": null,
            "width": null
          }
        },
        "61c7393c9d3c47c0bbebd0fe338064d9": {
          "model_module": "@jupyter-widgets/base",
          "model_module_version": "1.2.0",
          "model_name": "LayoutModel",
          "state": {
            "_model_module": "@jupyter-widgets/base",
            "_model_module_version": "1.2.0",
            "_model_name": "LayoutModel",
            "_view_count": null,
            "_view_module": "@jupyter-widgets/base",
            "_view_module_version": "1.2.0",
            "_view_name": "LayoutView",
            "align_content": null,
            "align_items": null,
            "align_self": null,
            "border": null,
            "bottom": null,
            "display": null,
            "flex": null,
            "flex_flow": null,
            "grid_area": null,
            "grid_auto_columns": null,
            "grid_auto_flow": null,
            "grid_auto_rows": null,
            "grid_column": null,
            "grid_gap": null,
            "grid_row": null,
            "grid_template_areas": null,
            "grid_template_columns": null,
            "grid_template_rows": null,
            "height": null,
            "justify_content": null,
            "justify_items": null,
            "left": null,
            "margin": null,
            "max_height": null,
            "max_width": null,
            "min_height": null,
            "min_width": null,
            "object_fit": null,
            "object_position": null,
            "order": null,
            "overflow": null,
            "overflow_x": null,
            "overflow_y": null,
            "padding": null,
            "right": null,
            "top": null,
            "visibility": null,
            "width": null
          }
        },
        "61ea5481ab274b89b476dcf69613c9b3": {
          "model_module": "@jupyter-widgets/controls",
          "model_module_version": "1.5.0",
          "model_name": "HBoxModel",
          "state": {
            "_dom_classes": [],
            "_model_module": "@jupyter-widgets/controls",
            "_model_module_version": "1.5.0",
            "_model_name": "HBoxModel",
            "_view_count": null,
            "_view_module": "@jupyter-widgets/controls",
            "_view_module_version": "1.5.0",
            "_view_name": "HBoxView",
            "box_style": "",
            "children": [
              "IPY_MODEL_dac0f589967343c488cb4ba3aed4019e",
              "IPY_MODEL_b31be8903e2c42eb9fc012efb4f0fd6d",
              "IPY_MODEL_38f2466b378346f8af5c5925b6ffc477"
            ],
            "layout": "IPY_MODEL_00e2633c737b4bbcb134a60482d74959"
          }
        },
        "6b6f5110f0c646d09d6b6d14afb22f53": {
          "model_module": "@jupyter-widgets/base",
          "model_module_version": "1.2.0",
          "model_name": "LayoutModel",
          "state": {
            "_model_module": "@jupyter-widgets/base",
            "_model_module_version": "1.2.0",
            "_model_name": "LayoutModel",
            "_view_count": null,
            "_view_module": "@jupyter-widgets/base",
            "_view_module_version": "1.2.0",
            "_view_name": "LayoutView",
            "align_content": null,
            "align_items": null,
            "align_self": null,
            "border": null,
            "bottom": null,
            "display": null,
            "flex": null,
            "flex_flow": null,
            "grid_area": null,
            "grid_auto_columns": null,
            "grid_auto_flow": null,
            "grid_auto_rows": null,
            "grid_column": null,
            "grid_gap": null,
            "grid_row": null,
            "grid_template_areas": null,
            "grid_template_columns": null,
            "grid_template_rows": null,
            "height": null,
            "justify_content": null,
            "justify_items": null,
            "left": null,
            "margin": null,
            "max_height": null,
            "max_width": null,
            "min_height": null,
            "min_width": null,
            "object_fit": null,
            "object_position": null,
            "order": null,
            "overflow": null,
            "overflow_x": null,
            "overflow_y": null,
            "padding": null,
            "right": null,
            "top": null,
            "visibility": null,
            "width": null
          }
        },
        "6c295da3a8a64290923a1d93b75cb531": {
          "model_module": "@jupyter-widgets/controls",
          "model_module_version": "1.5.0",
          "model_name": "DescriptionStyleModel",
          "state": {
            "_model_module": "@jupyter-widgets/controls",
            "_model_module_version": "1.5.0",
            "_model_name": "DescriptionStyleModel",
            "_view_count": null,
            "_view_module": "@jupyter-widgets/base",
            "_view_module_version": "1.2.0",
            "_view_name": "StyleView",
            "description_width": ""
          }
        },
        "7b82737781bb4514b42160be3efe5100": {
          "model_module": "@jupyter-widgets/controls",
          "model_module_version": "1.5.0",
          "model_name": "ProgressStyleModel",
          "state": {
            "_model_module": "@jupyter-widgets/controls",
            "_model_module_version": "1.5.0",
            "_model_name": "ProgressStyleModel",
            "_view_count": null,
            "_view_module": "@jupyter-widgets/base",
            "_view_module_version": "1.2.0",
            "_view_name": "StyleView",
            "bar_color": null,
            "description_width": ""
          }
        },
        "7e3374c661b740768aeb393013060e34": {
          "model_module": "@jupyter-widgets/controls",
          "model_module_version": "1.5.0",
          "model_name": "FloatProgressModel",
          "state": {
            "_dom_classes": [],
            "_model_module": "@jupyter-widgets/controls",
            "_model_module_version": "1.5.0",
            "_model_name": "FloatProgressModel",
            "_view_count": null,
            "_view_module": "@jupyter-widgets/controls",
            "_view_module_version": "1.5.0",
            "_view_name": "ProgressView",
            "bar_style": "success",
            "description": "",
            "description_tooltip": null,
            "layout": "IPY_MODEL_3163e30805f647809db33f09fbaaae56",
            "max": 1,
            "min": 0,
            "orientation": "horizontal",
            "style": "IPY_MODEL_3aea1ee492154baa97686ae556f7d00d",
            "value": 1
          }
        },
        "883f9aebbe484766bdce0927dd90a153": {
          "model_module": "@jupyter-widgets/controls",
          "model_module_version": "1.5.0",
          "model_name": "HTMLModel",
          "state": {
            "_dom_classes": [],
            "_model_module": "@jupyter-widgets/controls",
            "_model_module_version": "1.5.0",
            "_model_name": "HTMLModel",
            "_view_count": null,
            "_view_module": "@jupyter-widgets/controls",
            "_view_module_version": "1.5.0",
            "_view_name": "HTMLView",
            "description": "",
            "description_tooltip": null,
            "layout": "IPY_MODEL_ec976ddce87f48a78bbdd8ce08b490f3",
            "placeholder": "​",
            "style": "IPY_MODEL_1b4c3fec22b145d8b789d3d6aee0d788",
            "value": "Generate report structure: 100%"
          }
        },
        "8a63900a5d5649bbaf9579010bbbf23c": {
          "model_module": "@jupyter-widgets/base",
          "model_module_version": "1.2.0",
          "model_name": "LayoutModel",
          "state": {
            "_model_module": "@jupyter-widgets/base",
            "_model_module_version": "1.2.0",
            "_model_name": "LayoutModel",
            "_view_count": null,
            "_view_module": "@jupyter-widgets/base",
            "_view_module_version": "1.2.0",
            "_view_name": "LayoutView",
            "align_content": null,
            "align_items": null,
            "align_self": null,
            "border": null,
            "bottom": null,
            "display": null,
            "flex": null,
            "flex_flow": null,
            "grid_area": null,
            "grid_auto_columns": null,
            "grid_auto_flow": null,
            "grid_auto_rows": null,
            "grid_column": null,
            "grid_gap": null,
            "grid_row": null,
            "grid_template_areas": null,
            "grid_template_columns": null,
            "grid_template_rows": null,
            "height": null,
            "justify_content": null,
            "justify_items": null,
            "left": null,
            "margin": null,
            "max_height": null,
            "max_width": null,
            "min_height": null,
            "min_width": null,
            "object_fit": null,
            "object_position": null,
            "order": null,
            "overflow": null,
            "overflow_x": null,
            "overflow_y": null,
            "padding": null,
            "right": null,
            "top": null,
            "visibility": null,
            "width": null
          }
        },
        "8b6adc805a2d4eec87fa214e5dad6a73": {
          "model_module": "@jupyter-widgets/controls",
          "model_module_version": "1.5.0",
          "model_name": "HTMLModel",
          "state": {
            "_dom_classes": [],
            "_model_module": "@jupyter-widgets/controls",
            "_model_module_version": "1.5.0",
            "_model_name": "HTMLModel",
            "_view_count": null,
            "_view_module": "@jupyter-widgets/controls",
            "_view_module_version": "1.5.0",
            "_view_name": "HTMLView",
            "description": "",
            "description_tooltip": null,
            "layout": "IPY_MODEL_d38d42da56a645659b7e8c0cbe960d5d",
            "placeholder": "​",
            "style": "IPY_MODEL_f4598d348af84600a81c9cff2660973a",
            "value": " 1/1 [00:02&lt;00:00,  2.36s/it]"
          }
        },
        "9c3d29db076a4aea8868dcf72ce1fac1": {
          "model_module": "@jupyter-widgets/controls",
          "model_module_version": "1.5.0",
          "model_name": "DescriptionStyleModel",
          "state": {
            "_model_module": "@jupyter-widgets/controls",
            "_model_module_version": "1.5.0",
            "_model_name": "DescriptionStyleModel",
            "_view_count": null,
            "_view_module": "@jupyter-widgets/base",
            "_view_module_version": "1.2.0",
            "_view_name": "StyleView",
            "description_width": ""
          }
        },
        "a23e05df31264980ab8898e8618896fc": {
          "model_module": "@jupyter-widgets/controls",
          "model_module_version": "1.5.0",
          "model_name": "HTMLModel",
          "state": {
            "_dom_classes": [],
            "_model_module": "@jupyter-widgets/controls",
            "_model_module_version": "1.5.0",
            "_model_name": "HTMLModel",
            "_view_count": null,
            "_view_module": "@jupyter-widgets/controls",
            "_view_module_version": "1.5.0",
            "_view_name": "HTMLView",
            "description": "",
            "description_tooltip": null,
            "layout": "IPY_MODEL_1be32669c01d4ac08b08c877461f528f",
            "placeholder": "​",
            "style": "IPY_MODEL_9c3d29db076a4aea8868dcf72ce1fac1",
            "value": "Render HTML: 100%"
          }
        },
        "a387522561d24844abf7f9fb0c34c246": {
          "model_module": "@jupyter-widgets/base",
          "model_module_version": "1.2.0",
          "model_name": "LayoutModel",
          "state": {
            "_model_module": "@jupyter-widgets/base",
            "_model_module_version": "1.2.0",
            "_model_name": "LayoutModel",
            "_view_count": null,
            "_view_module": "@jupyter-widgets/base",
            "_view_module_version": "1.2.0",
            "_view_name": "LayoutView",
            "align_content": null,
            "align_items": null,
            "align_self": null,
            "border": null,
            "bottom": null,
            "display": null,
            "flex": null,
            "flex_flow": null,
            "grid_area": null,
            "grid_auto_columns": null,
            "grid_auto_flow": null,
            "grid_auto_rows": null,
            "grid_column": null,
            "grid_gap": null,
            "grid_row": null,
            "grid_template_areas": null,
            "grid_template_columns": null,
            "grid_template_rows": null,
            "height": null,
            "justify_content": null,
            "justify_items": null,
            "left": null,
            "margin": null,
            "max_height": null,
            "max_width": null,
            "min_height": null,
            "min_width": null,
            "object_fit": null,
            "object_position": null,
            "order": null,
            "overflow": null,
            "overflow_x": null,
            "overflow_y": null,
            "padding": null,
            "right": null,
            "top": null,
            "visibility": null,
            "width": null
          }
        },
        "b31be8903e2c42eb9fc012efb4f0fd6d": {
          "model_module": "@jupyter-widgets/controls",
          "model_module_version": "1.5.0",
          "model_name": "FloatProgressModel",
          "state": {
            "_dom_classes": [],
            "_model_module": "@jupyter-widgets/controls",
            "_model_module_version": "1.5.0",
            "_model_name": "FloatProgressModel",
            "_view_count": null,
            "_view_module": "@jupyter-widgets/controls",
            "_view_module_version": "1.5.0",
            "_view_name": "ProgressView",
            "bar_style": "success",
            "description": "",
            "description_tooltip": null,
            "layout": "IPY_MODEL_61c7393c9d3c47c0bbebd0fe338064d9",
            "max": 5,
            "min": 0,
            "orientation": "horizontal",
            "style": "IPY_MODEL_04cec5e318e84cfb9c44b2d60a35b2d5",
            "value": 5
          }
        },
        "b70df0e97bdd42a09e10bc12c1be4ab5": {
          "model_module": "@jupyter-widgets/base",
          "model_module_version": "1.2.0",
          "model_name": "LayoutModel",
          "state": {
            "_model_module": "@jupyter-widgets/base",
            "_model_module_version": "1.2.0",
            "_model_name": "LayoutModel",
            "_view_count": null,
            "_view_module": "@jupyter-widgets/base",
            "_view_module_version": "1.2.0",
            "_view_name": "LayoutView",
            "align_content": null,
            "align_items": null,
            "align_self": null,
            "border": null,
            "bottom": null,
            "display": null,
            "flex": null,
            "flex_flow": null,
            "grid_area": null,
            "grid_auto_columns": null,
            "grid_auto_flow": null,
            "grid_auto_rows": null,
            "grid_column": null,
            "grid_gap": null,
            "grid_row": null,
            "grid_template_areas": null,
            "grid_template_columns": null,
            "grid_template_rows": null,
            "height": null,
            "justify_content": null,
            "justify_items": null,
            "left": null,
            "margin": null,
            "max_height": null,
            "max_width": null,
            "min_height": null,
            "min_width": null,
            "object_fit": null,
            "object_position": null,
            "order": null,
            "overflow": null,
            "overflow_x": null,
            "overflow_y": null,
            "padding": null,
            "right": null,
            "top": null,
            "visibility": null,
            "width": null
          }
        },
        "c4f21dea71864a70b9bd9ad073ee9049": {
          "model_module": "@jupyter-widgets/base",
          "model_module_version": "1.2.0",
          "model_name": "LayoutModel",
          "state": {
            "_model_module": "@jupyter-widgets/base",
            "_model_module_version": "1.2.0",
            "_model_name": "LayoutModel",
            "_view_count": null,
            "_view_module": "@jupyter-widgets/base",
            "_view_module_version": "1.2.0",
            "_view_name": "LayoutView",
            "align_content": null,
            "align_items": null,
            "align_self": null,
            "border": null,
            "bottom": null,
            "display": null,
            "flex": null,
            "flex_flow": null,
            "grid_area": null,
            "grid_auto_columns": null,
            "grid_auto_flow": null,
            "grid_auto_rows": null,
            "grid_column": null,
            "grid_gap": null,
            "grid_row": null,
            "grid_template_areas": null,
            "grid_template_columns": null,
            "grid_template_rows": null,
            "height": null,
            "justify_content": null,
            "justify_items": null,
            "left": null,
            "margin": null,
            "max_height": null,
            "max_width": null,
            "min_height": null,
            "min_width": null,
            "object_fit": null,
            "object_position": null,
            "order": null,
            "overflow": null,
            "overflow_x": null,
            "overflow_y": null,
            "padding": null,
            "right": null,
            "top": null,
            "visibility": null,
            "width": null
          }
        },
        "d38d42da56a645659b7e8c0cbe960d5d": {
          "model_module": "@jupyter-widgets/base",
          "model_module_version": "1.2.0",
          "model_name": "LayoutModel",
          "state": {
            "_model_module": "@jupyter-widgets/base",
            "_model_module_version": "1.2.0",
            "_model_name": "LayoutModel",
            "_view_count": null,
            "_view_module": "@jupyter-widgets/base",
            "_view_module_version": "1.2.0",
            "_view_name": "LayoutView",
            "align_content": null,
            "align_items": null,
            "align_self": null,
            "border": null,
            "bottom": null,
            "display": null,
            "flex": null,
            "flex_flow": null,
            "grid_area": null,
            "grid_auto_columns": null,
            "grid_auto_flow": null,
            "grid_auto_rows": null,
            "grid_column": null,
            "grid_gap": null,
            "grid_row": null,
            "grid_template_areas": null,
            "grid_template_columns": null,
            "grid_template_rows": null,
            "height": null,
            "justify_content": null,
            "justify_items": null,
            "left": null,
            "margin": null,
            "max_height": null,
            "max_width": null,
            "min_height": null,
            "min_width": null,
            "object_fit": null,
            "object_position": null,
            "order": null,
            "overflow": null,
            "overflow_x": null,
            "overflow_y": null,
            "padding": null,
            "right": null,
            "top": null,
            "visibility": null,
            "width": null
          }
        },
        "d6aaed43195b40ee973f0f982611c2c4": {
          "model_module": "@jupyter-widgets/controls",
          "model_module_version": "1.5.0",
          "model_name": "HTMLModel",
          "state": {
            "_dom_classes": [],
            "_model_module": "@jupyter-widgets/controls",
            "_model_module_version": "1.5.0",
            "_model_name": "HTMLModel",
            "_view_count": null,
            "_view_module": "@jupyter-widgets/controls",
            "_view_module_version": "1.5.0",
            "_view_name": "HTMLView",
            "description": "",
            "description_tooltip": null,
            "layout": "IPY_MODEL_4c884b7dfcd84f7a91a2c71a73569499",
            "placeholder": "​",
            "style": "IPY_MODEL_6c295da3a8a64290923a1d93b75cb531",
            "value": " 1/1 [00:06&lt;00:00,  6.28s/it]"
          }
        },
        "dac0f589967343c488cb4ba3aed4019e": {
          "model_module": "@jupyter-widgets/controls",
          "model_module_version": "1.5.0",
          "model_name": "HTMLModel",
          "state": {
            "_dom_classes": [],
            "_model_module": "@jupyter-widgets/controls",
            "_model_module_version": "1.5.0",
            "_model_name": "HTMLModel",
            "_view_count": null,
            "_view_module": "@jupyter-widgets/controls",
            "_view_module_version": "1.5.0",
            "_view_name": "HTMLView",
            "description": "",
            "description_tooltip": null,
            "layout": "IPY_MODEL_b70df0e97bdd42a09e10bc12c1be4ab5",
            "placeholder": "​",
            "style": "IPY_MODEL_20e816066c7f4e86a590873dcf5718ed",
            "value": "Summarize dataset: 100%"
          }
        },
        "e345f2d7de5a46e7af41d9bfaa831c59": {
          "model_module": "@jupyter-widgets/controls",
          "model_module_version": "1.5.0",
          "model_name": "HBoxModel",
          "state": {
            "_dom_classes": [],
            "_model_module": "@jupyter-widgets/controls",
            "_model_module_version": "1.5.0",
            "_model_name": "HBoxModel",
            "_view_count": null,
            "_view_module": "@jupyter-widgets/controls",
            "_view_module_version": "1.5.0",
            "_view_name": "HBoxView",
            "box_style": "",
            "children": [
              "IPY_MODEL_883f9aebbe484766bdce0927dd90a153",
              "IPY_MODEL_30b86fde47f14294b6fdb2afb7eb8d04",
              "IPY_MODEL_d6aaed43195b40ee973f0f982611c2c4"
            ],
            "layout": "IPY_MODEL_c4f21dea71864a70b9bd9ad073ee9049"
          }
        },
        "ec976ddce87f48a78bbdd8ce08b490f3": {
          "model_module": "@jupyter-widgets/base",
          "model_module_version": "1.2.0",
          "model_name": "LayoutModel",
          "state": {
            "_model_module": "@jupyter-widgets/base",
            "_model_module_version": "1.2.0",
            "_model_name": "LayoutModel",
            "_view_count": null,
            "_view_module": "@jupyter-widgets/base",
            "_view_module_version": "1.2.0",
            "_view_name": "LayoutView",
            "align_content": null,
            "align_items": null,
            "align_self": null,
            "border": null,
            "bottom": null,
            "display": null,
            "flex": null,
            "flex_flow": null,
            "grid_area": null,
            "grid_auto_columns": null,
            "grid_auto_flow": null,
            "grid_auto_rows": null,
            "grid_column": null,
            "grid_gap": null,
            "grid_row": null,
            "grid_template_areas": null,
            "grid_template_columns": null,
            "grid_template_rows": null,
            "height": null,
            "justify_content": null,
            "justify_items": null,
            "left": null,
            "margin": null,
            "max_height": null,
            "max_width": null,
            "min_height": null,
            "min_width": null,
            "object_fit": null,
            "object_position": null,
            "order": null,
            "overflow": null,
            "overflow_x": null,
            "overflow_y": null,
            "padding": null,
            "right": null,
            "top": null,
            "visibility": null,
            "width": null
          }
        },
        "f4598d348af84600a81c9cff2660973a": {
          "model_module": "@jupyter-widgets/controls",
          "model_module_version": "1.5.0",
          "model_name": "DescriptionStyleModel",
          "state": {
            "_model_module": "@jupyter-widgets/controls",
            "_model_module_version": "1.5.0",
            "_model_name": "DescriptionStyleModel",
            "_view_count": null,
            "_view_module": "@jupyter-widgets/base",
            "_view_module_version": "1.2.0",
            "_view_name": "StyleView",
            "description_width": ""
          }
        }
      }
    }
  },
  "nbformat": 4,
  "nbformat_minor": 0
}
