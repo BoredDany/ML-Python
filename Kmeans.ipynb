{
  "cells": [
    {
      "cell_type": "markdown",
      "metadata": {
        "id": "coAlFOlhf-pD"
      },
      "source": [
        "# Kmeans by:\n",
        "\n",
        " - Daniela Martínez Quiroga\n",
        " - María Isabella Rodríguez Arévalo"
      ]
    },
    {
      "cell_type": "markdown",
      "metadata": {
        "id": "Xtq0MMvggm_c"
      },
      "source": [
        "## Install libraries"
      ]
    },
    {
      "cell_type": "code",
      "execution_count": null,
      "metadata": {
        "colab": {
          "base_uri": "https://localhost:8080/"
        },
        "id": "NGQf0DmFgrRw",
        "outputId": "814169d7-fb0f-42b3-9d73-81c885a78914"
      },
      "outputs": [],
      "source": [
        "!pip install -U ydata-profiling"
      ]
    },
    {
      "cell_type": "code",
      "execution_count": null,
      "metadata": {
        "colab": {
          "base_uri": "https://localhost:8080/",
          "height": 64
        },
        "id": "INdOouMshJ0h",
        "outputId": "98f83122-6a66-4bfa-acf8-c00bb5749bd1"
      },
      "outputs": [],
      "source": [
        "import pandas as pd\n",
        "import numpy as np\n",
        "import matplotlib.pyplot as plt\n",
        "import matplotlib.cm as cm\n",
        "\n",
        "from sklearn.metrics import silhouette_score, silhouette_samples\n",
        "from ydata_profiling import ProfileReport\n",
        "from sklearn.preprocessing import MinMaxScaler\n",
        "from sklearn.cluster import KMeans\n",
        "from sklearn.tree import DecisionTreeClassifier, plot_tree"
      ]
    },
    {
      "cell_type": "markdown",
      "metadata": {
        "id": "kWfaGLKKgL7q"
      },
      "source": [
        "## Load data"
      ]
    },
    {
      "cell_type": "code",
      "execution_count": null,
      "metadata": {
        "colab": {
          "base_uri": "https://localhost:8080/",
          "height": 955,
          "referenced_widgets": [
            "b54de9eea9e54e5e92cbd43fe9014ecf",
            "cc258c02cb4943c7af76757f2fbd2b46",
            "3fb366bb941249a1b790a9174e658c22",
            "5792915812c24a4cbadab68bdeeef52e",
            "c82852256cb34757b580e35a6139031d",
            "9c1b4403a3154179aceca02b8b352382",
            "14ccfb97cd744d2684e5b67b7b01ac17",
            "39c94614c9d44d1fbb099d064f2a8599",
            "9d2d0df243cc48dfb85aae9ef446ebf1",
            "65da5dd387174ccfbab1bb4696b92751",
            "1065e24a940a4303a7149f3386d24590",
            "1edc5049f0904c449c677640ba44ae97",
            "cfa3b1f0684d499ba332b9bb8e35c21a",
            "03dc5d2f6a3a4144b6f7ab2acb2d384a",
            "d0460309e2874e0b99e2dbc565e35d38",
            "5a982ecf859948708b1d0e1120563df4",
            "2be910b2a6bf49649dfe5fa6c4c626de",
            "129a98689882477bbf2fe1f953180db0",
            "b617f225644d460a8e43be9bbaad5872",
            "f574e5a903844748bcfd1a9fd9ce9db3",
            "cc6151414a9c41bd8abac5d467cd94ab",
            "da5d874ff7c84adabb0adcbfdea4b227",
            "eab7b075a112435381aa1019d05775c1",
            "dad17784752b45109f75ed6ababf564d",
            "3a9fd0cb6de145b987e68d4e4721a543",
            "577e8eb3721b4dbdad5366806df350c5",
            "7b102ab9464a4c36b22fc3853beb28c7",
            "4eaebbb7b3434eedafa42961a18b6ff6",
            "780938e4c754472a860de7478d135e22",
            "b447e2d60ff145e39e19430011bdee0f",
            "c1bbd975c18d4c658ee803996aef41e6",
            "5b880c48e81c4e92baac3d29ae2ecaa2",
            "9c62ee46d6874b029256adbb2318a89f"
          ]
        },
        "id": "Nseusovyf80a",
        "outputId": "f43efcfd-a54d-4bff-c6a2-e11aad1a6be4"
      },
      "outputs": [],
      "source": [
        "df = pd.read_csv('/datasets/Country-data.csv')\n",
        "report = ProfileReport(df, title='Profiling Report')\n",
        "report"
      ]
    },
    {
      "cell_type": "markdown",
      "metadata": {
        "id": "_GsmKGCfielm"
      },
      "source": [
        "According to the report, no missing or null data were found, so no data should be replaced. The data were scaled, as there is a wide range between the minimum and maximum values ​​for the variables. Scaling the variables was chosen instead of normalizing them because the observed distributions of the variables tend to be skewed to the right or left."
      ]
    },
    {
      "cell_type": "code",
      "execution_count": null,
      "metadata": {
        "colab": {
          "base_uri": "https://localhost:8080/",
          "height": 479
        },
        "id": "g0BjTVKEncq8",
        "outputId": "59dfd5b3-45b3-41f5-e5ce-7de38a46bc95"
      },
      "outputs": [],
      "source": [
        "df_scaler = df.drop(columns=['country'])\n",
        "scaler = MinMaxScaler().fit(df_scaler)\n",
        "print(f\"scale: {scaler.scale_}\")\n",
        "scale = scaler.transform(df_scaler)\n",
        "df_scaled = pd.DataFrame(scale, columns=df_scaler.columns)\n",
        "df_scaled['country'] = df['country']\n",
        "df_scaled"
      ]
    },
    {
      "cell_type": "markdown",
      "metadata": {
        "id": "NF9ICX_AsRxr"
      },
      "source": [
        "## k-means modeling"
      ]
    },
    {
      "cell_type": "code",
      "execution_count": null,
      "metadata": {
        "colab": {
          "base_uri": "https://localhost:8080/"
        },
        "id": "jKLyoebpsWae",
        "outputId": "bc14f2dd-d2da-465e-e2af-38e835fc4b08"
      },
      "outputs": [],
      "source": [
        "inertias = []\n",
        "centroids_list = []\n",
        "\n",
        "X = df_scaled.drop(columns=['country'])\n",
        "\n",
        "for k in range(2, 9):\n",
        "    kmeans = KMeans(n_clusters=k, random_state=42, n_init=10)\n",
        "    kmeans.fit(X)\n",
        "    inertias.append(kmeans.inertia_)\n",
        "    centroids_list.append(kmeans.cluster_centers_)\n",
        "    print(f'K = {k}')\n",
        "    print('Centroides:\\n', kmeans.cluster_centers_)\n",
        "    print('Inercia:', kmeans.inertia_)\n",
        "    print('-' * 50)"
      ]
    },
    {
      "cell_type": "markdown",
      "metadata": {
        "id": "5hdsNocAs12F"
      },
      "source": [
        "## Elbow method\n",
        "\n",
        "The graph of the elbow method shows that the point where inertia begins to decrease most slowly (the elbow of the curve) is at k = 3. From that point on, increasing the number of clusters has no benefit in terms of reducing inertia.\n",
        "\n",
        "Therefore, the number of clusters for the final model will be 3 to avoid overfitting."
      ]
    },
    {
      "cell_type": "code",
      "execution_count": null,
      "metadata": {
        "colab": {
          "base_uri": "https://localhost:8080/",
          "height": 487
        },
        "id": "amUUg6Dns3Vb",
        "outputId": "e5d26cb3-6a35-4eb4-ab77-714fb79befd4"
      },
      "outputs": [
        {
          "data": {
            "image/png": "[encoded data removed]",
            "text/plain": [
              "<Figure size 800x500 with 1 Axes>"
            ]
          },
          "metadata": {},
          "output_type": "display_data"
        }
      ],
      "source": [
        "plt.figure(figsize=(8, 5))\n",
        "plt.plot(range(2, 9), inertias, marker='o')\n",
        "plt.title('Método del Codo')\n",
        "plt.xlabel('Número de Clústeres (k)')\n",
        "plt.ylabel('Inercia')\n",
        "plt.grid(True)\n",
        "plt.show()"
      ]
    },
    {
      "cell_type": "markdown",
      "metadata": {
        "id": "ulYDmbZgs6wp"
      },
      "source": [
        "## Final model\n",
        "\n",
        "With k = 3, an average Silhouette Score value of 0.34 is obtained, indicating that the cluster is weak and could be improved, but the elbow method indicates that k = 3 is the optimal value, which could suggest that k-means is not ideal for classifying the present dataset."
      ]
    },
    {
      "cell_type": "code",
      "execution_count": null,
      "metadata": {
        "colab": {
          "base_uri": "https://localhost:8080/"
        },
        "id": "5zBLUSsjs74S",
        "outputId": "5a025bbf-ddb5-42b7-b24a-08c3315c1cab"
      },
      "outputs": [],
      "source": [
        "k_opt = 3\n",
        "kmeans_final = KMeans(n_clusters=k_opt, random_state=42, n_init=10)\n",
        "labels = kmeans_final.fit_predict(X)\n",
        "\n",
        "silhouette_avg = silhouette_score(X, labels)\n",
        "print(f\"Silhouette Score promedio para k={k_opt}: {silhouette_avg:.2f}\")"
      ]
    },
    {
      "cell_type": "markdown",
      "metadata": {
        "id": "vtFxQ_r4tbut"
      },
      "source": [
        "## Cluster (Colombia)\n",
        "\n",
        "It should be noted that the order of the variables and their corresponding dictionary meanings are as follows:\n",
        "\n",
        "1. child_mort: Deaths of children under 5 years of age per 1,000 live births.\n",
        "2. exports: Exports of goods and services. Expressed as a percentage of total GDP.\n",
        "3. health: Total health expenditure as a percentage of total GDP.\n",
        "4. imports: Imports of goods and services. Expressed as a percentage of total GDP.\n",
        "5. income: Net income per person.\n",
        "6. inflation: A measure of the annual growth rate of total GDP.\n",
        "7. life_expec: The average number of years a newborn would live if current mortality patterns remained the same.\n",
        "8. total_fer: The number of children each woman would have if current age-specific fertility rates remained the same.\n",
        "9. gdpp: GDP per capita. Calculated by dividing total GDP by total population.\n",
        "\n",
        "Below is a comparative table of the centroids for each cluster:\n",
        "\n",
        "![image.png](data:image/png;base64,iVBORw0KGgoAAAANSUhEUgAAAgkAAAFGCAYAAADghAzcAAAAAXNSR0IArs4c6QAAAARnQU1BAACxjwv8YQUAAAAJcEhZcwAADsMAAA7DAcdvqGQAAHi8SURBVHhe7b1vaBxHuu//nR8I9r2XA/fiJRaeEVgrcSDHMlFPcHxYh2jG5K4UguJ9cdGy0u1Zb7KrQbZfZCPIXrDXLxybbp/sxpobL6tXa5kgO1ekRyE+nCTsjIKtGzhEkUDTQQrH3AuH9fsFv6jfi+6eqa6u7qmaf5Kt5wNF4u6nnn6q6qme6qqnSinGGIPP999/j+eeey74J/EMQW1L8JA/EDzkDwQP7w//n3iTIAiCIAgCNEggCIIgCCIOGiQQBEEQBCGFBgkEQRAEQUhJ7e7u1gMXiWeXI0eOiJcIgiAIQsru7i4AIEW7Gw4GqVQK77t/Fy8TBEEQRIi30j9AMDSg5QaCIAiCIKTQIIEgCIIgCCk0SCAIgiAIQgoNEgiCIAiCkEKDBIIgCIIgpNAggSAIgiAIKTRIIAiCIAhCCp2TcECgcxKI/cF32JyfRvn2V9gJLj3/ArJv3sLPXjoaFv3iTbw1fQv989/i/M+Fexx/+/Mp/O7SV8je+jt+9pJ4N0HP9+/jLxc/QuXrr/wLL6D/7OvI/Y+3MPgcAHyHzyd/jI++bmSJ8Px7+N2dt/BD/xnxTONX7h8wiIY9MvrPvsc9nyD2BjongSCI3vP9+7iW/jH+ePsr4Ox7eP3Wx/jV/DSy+AqV6R/jrcn38TcxT7f44k289ZMLqHwNZOc/xq9ufYzXzwK4fQF//MkpfP49ABzF0JvevV/d+hi/mn8B8H/I69fezOGHnNrQvVCawz9wclHZ95A9+wJ2bl/AH3/yJjYFWYLYK2iQQBBED/gOn1+8gB28gNf/9e84f+ktnHrpFQz+/A/42Z2/43fzLwBfX8Din78TM3aB7/D5H275X/ef42c/fwWDL72CU5c+x/l/fQ/9+Aof/a9PAQA/fMm7N/jSKxjs/7GXPZ1rXBNnP0L3+HQ0NJiIyr6Fn1363KsH3EK5J/VAEM2hQQJBEN3ni+v46Gugf/4WTkmm0n/487eRBbDjlHs3m/D8scjXPZ7L4Z/OTiObRu/s4PjhP7+OfgA7riveIog9gQYJBEF0nc3PbgF4Af/0z3GxBa/gZX/6vmd8/RE2vhcvHsWpS3/Az37+SvTLnyAOIDRIIAiiy3yH/9wGgB/jHySzCAHe1L5kWr7jHMWpN6cBfIWPfnIK1+Y/xd8ig4W94W//9hF2AGRffkW8RRB7Ag0SCILoMi7+39cx0/t7xUt/wO9uvYfs819h5/ZP8buf/ABvpf0Bgyirg1vG5hefRpNsEBKSfR9/mTyF310CsvPfyndpEMQeQIMEgiAOJD986S387M7f8f6/fotfzU+jPxgwpE/hL1+I0mrs3L6AP07/NJLK/xYNRAzLXvC2Yj7/Ov4xdkmGIHoPDRIIgugyafyX5wF8vYX/FG/tB547isGf/wHn7/wdv7vl7W6oTLe2DbF//lu87/49kmTnPIiyv7v1Hvq/voA/XuzhVlCCaAINEgiC6DJH8Q8DAPAt/lM27Q54hyz9+U38ZX5vfyB/+NJbmJp/oYmt3aH+7K8v4LMWZzIIotPQIIEgiK4z+LIXKPh/JNPuHi7+/dItVLbF6835oX9+wf/dkev+2863AID/2u9/zX//Pq6lf4C35r2zEOR8hf+3K17rPsEWyLiyEESvoUECQRDd56U5vP48sHNp2j/NMMzf/nwFFQD9+fAJhkq89N+8MxYuXZcsEXyHDecrANP4xyAY8LkM/isA3P7favK9xLetp+dFEEQCNEggCKIHHMWpq/5phj/5Aa7Nv4nPv/jUW2KY/AF+d+kr4Pn3MCVZu99xruMv829GU/1Uwlfws1vTAG7hj+lT+Mv8+/j8i0/x+fybuJb2/vZC//yc93cTfPmXOflrgfyf38Q1/281hOU1iNvd8MV3ij/6+zx+gzhw0B94OiDQH3gi9gfxf+DpZfGMhIQ/hAQAOPsx3r/UOE/gb1+8j8/+wP/BJqD/+Wn805tzOCUen9yCfOwfiuLuxRP9A09SPSp/sIogugz/B55okHBAoEECQRAEoQL9FUiCIAiCIJpCgwSCIAiCIKTQIIEgCIIgCCk0SCAIgiAIQgoNEgiCIAiCkJLa3d2t7244cuRI+C5BEARBEAeO3V3vyNHQFkjaJvfs8lb6B3jw+Il4mTignDjUR/5A1CF/IHhOHOqjLZAEQRAEQSRDgwSCIAiCIKTQIIEgCIIgCClP9SBhc/4HeCv9puQvuREEQRAE0S5P7yDhizfxx9sv4PV/9f9oCkEQBEEQHeUpHSR8is//8C2ytz7HKfp7VARBEATRFZ7SQcIrOHXnc/ozqgRBEATRRZoPEr54E2+lfxBNk6fwly++E6Xr/O3Ppzy5+U/FWx5xetM/wLX597H5vZihgbLuyffxN/EehxfT8ANc+zNXjgS7vPQmNvEdPp8UrwspeHaCvuRyfofN+VO4FspzCtfmP00sE3FQcbF28ySmD/XhxKE+nDh0ElduruKRKEYcMFzcHvP84faOeI84MOys4srYSf/d4KXpuRtYU/CJ5oMEn/6z7+FXtz720vw0+vEVKtM/Dv/A1vkOG85X3v/e/t+JgYUhvbfeQ/bsC9i5fQF//ElcQKK6bnx9AZ99IV70+f59lG+LFxuE7eLTHP4BRzH0Jndt/oVonjdz+GGsvibl/P5T/CX9Y/zx9lfA89N4vZ4H2Ln9U/wu/WbC4II4iKzNHcPsO2vA1DXYSyuYmwLuvvMqXptbFUWJg8LOKq6MHcP1h+IN4kCxcwPTx1/F3YfA8NQMJqZmMDE1Ciyex+zxc1gT5QWUBwlI5zD40ite+vkfcP7Ot3j9eWDn0nXJj1wZ/+drIDv/HvpxC/8e90MNQe9Lb+Fnlz7H7+ZfAHALZdkAREc3gMof5LMJm//rAhIHUSG7+HQUPwTwQ/5a/48leY4m6Esq53f4/OJPUcELyN76O87f+QNOcXne/1ev3H+8KC8XcQC5fw6ziwCmVnDr+m8wenoMZ69/CXsKwOLv6QvyoLGziitjfThx/FXcxQwmpkQB4iCx9i/n8Q1GMbf+JW5d/wBvX/8Ab1//EreWZgB8iA9vumKWEOqDhAhHMZR/AcC3+E/hq/Zv//YRdvAC/ss/5/BPzwOVz2KWBWL44T+/jn4AO27UeB3d2bPT8tkEfxah/+w0+oVbvURazi+u46Ovgf75W/KYi+fewtT8C/JyEQeSNedDAKOY+/VY6Pror69hGGv47NNoPyKeZbbhPhzFxOUVLK9+gFPibeIA4eL7TQAjr+NF8cfu9E8xAeCbe07ismQbg4Q4/OWA51/H0HP+QKLZsoAymrpfnsPrz0dnE7xZhGnk/scx7ur+YPOzWwBewD/9szATwREMLpIGSMRBwX8J4Md4TnwJ9A8grfASIJ4x+n+DW4+/xNu/HMNh8R5xwEjj7OoTPFj9Tcu+0MYgIYgN+DH+gd+G6C8H9Oe9NXnvB635sgCPN1sAZF9+JXxDW/dRnHpTmE0IZhHm5/b8fIVoOb/Df24jWqciz2XwXwFgu0ZLDoTHyDH8SLyGNPpHxGsEQRAAdrbhAhgezycOINQHCW4Zm1986qU/v4lrkz/2p8XDP7bBckD9S9j/QYv96uX1fvE+/jJ5Cr+7BGTnv41Mt2vrBoCXwrMJ9VmEn8d/qQOiXVxqNWBQqZwu/t/XAJ4/hn8I5xZI4788D+DrLfyneIs4YLjYaRaY9nAL/yFeIwjiAOPi9jkvVuHlV9LizRDKg4Sd2xfwx+mfeunSLezgBWRvfYvzoR9bfjkguPYK/vFs/E6EkN7pC6h87eX/x8h0u75uj8ZswuKf31SeRQjb1Ujlf5MEUyqgXk6CIAiC6B5rc96ul4mlL3FWXKYUUB4k9M9/i/fdvzfSnc/xMzGC318OAD7CZ/Nv4i9++vdtL4pftiwg6v3drffQ//WFaPR+C7rr+LMJO5duqc0iSOwKUnhQpI6oT15O1RkC1RkH4tlHYUlBuhRBEMTBw8XaXB9mF4Hhy1t4+7R4P4ryIEGFYI0dX3+Fyu1bjfS1d65B4rKAzw9fkkfvt6fbn02A2ixCL5CX8yj+YQDSHSMhvq/h/wLAQCZ0FgNxgJEuKSgsRRAEcUBwcXvsGGYXRzGxtIVbv0xeZgjo4CAhCGScxq8kX+C/aros0CCI3v+/O8HUfgd0v/SHtmYCukG0nMDgy9MAvsL/SVjWiAY8EgeXNJ4bBIBv8b14HoJiYBJBEM863gDh+kPvvIS3T6sNENDRQUKwHHD2v0m/1L0fvybLAgF+QOKOU/am4jupez8hlhP80sg0/iIrz/fvY/HSV8Dz7+Fl2TkKxIFjND8DYA3X/yV8umJwiEqzwCSCIJ5h6idvegOEZjEIIh0bJDT9uj1yTGNvf3htvrO6FYnb3fDFdx3cdiiLQTiKU1c/RhZfoTL9A1ybfBOfBzsi5k/hrZ94uzN+dfUtWmogPE5/4J+u+Kp3Hvv9VdyeO+mfwvhb7ZcC8Qyws4q1+17yztEAdj71r+3Q4VoHhp1VXDn+Ku4+HMXE5d/iue8afsGnpHNUOjRIaCwH/GPc1+1z3gmJTZcFAO40x1v49y86rVuNuN0Nf5y+3iSoUAe+nNzl517Bz9xv8av5aeDrW/go2BFxG+g/+zF+5/4Bg0nnKBAHjtHrW7CD89jfeBXXF+GduHc9fAojcTB49OnvMfvGq54vPASANdx9x/v37L/QIOHA8N3HuAuE2z+Sfo+/ikuVHCnGGKv/I5XC++7fwxLEM8Fb6R/gweMn4mXigHLiUB/5A1GH/IHgOXGoD8HQoEMzCQRBEARBPGvQIIEgCIIgCCk0SCAIgiAIQgoNEgiCIAiCkEKDBIIgCIIgpKR2d3fruxuOHDkSvksQBEEQxIFjd3cXkG2BpG0wzyb8lhaCSKVS5A9EHfIHgof3B1puIAiCIAhCCg0SCIIgCIKQQoMEgiAIgiCk0CCBIAiCIAgpNEggCIIgCEIKDRIIgiAIgpBCgwSCIAiCIKR0bJDw6OZJnDh0ErcT/i51Elr5d25g+lAfpm/S30VvHxdlO4tsKoVUKoVUKouCXYZ6zbaS34Wd9WTtWEENvW4ZdiHry3my2YKNskxYU7aQ5WVT8bIAXLvA2ZtCNluAHSfMUy54eQpl8c4eoFHvKuiUTUm2me+UUeDaIJwKiGrWKG/EdxL8QVNWx896i0b9SNHIH6mHOFndNlbtm5p6I22c8C5RtmH/0bFBghb3z2F67CRu3xdvEL2mXMggX6wCpgXHcWCZQKmYRybxRd1AO79bRiGbQbEq3gijrreMQiaPYgkwOFmUishnxI6tIevayGbyKFUBwzRhmiZM05DLAigXUsh4imE5DhxPMYr5DCImhyijkC+JF/cM9XpXQadsCrKKvgMAhuXAccR0ERlBTr28Et/xhJHPiAMWDVlNP+s16vUjRzk/Vw+mZcFxLHjVkEcma0sGCjptrNc31fRK2jjuXdKCDfsKxgGAPXj8pKW0fHmUAaNsbj16T0zLSzMMAJtYai3/g/VrbBhgw5e3oveegrS83nu7hab2cEwGgMF0hMtggMGsWuhyFJ38NYeZBjx5w2SmTCZAQ2/NMiLX/BvMAJjB3dCRlT3Lv8EgyEqvMcYYqzHLAINhMfGOh38ffhLK20264g8hdMrWRFbHd/y2FFVI0Siv7BpjjefxOjoiG+tT3aEr/qCcP2h/k4nN5vVZoR5aaONoPUr6poZenXeJlg37BN4f9mQm4fDpD/Dg8RO8fVq8cwDYuYF3jx/DlX0wi1K+VwJgwLqYC13PXbRgoIo7n8jG7w308m9jo2rAtBzUKgsY5+6I6OitbVYBDGEgHRIF0gMYEi6py7rY3gBgTOKMKJsbhwmgeucT/+vGhX2pBMDE/KwonMZshYFVZiHeAQDXnkKxasCqOTDFm3uATr03Q6dszWXVfcfDwKD4OSlBvbwJ/qDjOzqyET/rPer1I0c5v/sJ7lQBw7qIsCSQnl2EZcjqQaWNW+mbKnr13iX6Nuwv9mSQQOwH/BdUgqNHOyaPZv70LCqsgoXZXJMOoac3M2gAKOGeOGVXvocSgCFOibqsTuetYbMKwByPvOAScW1MFaswrEVE3h17gl69J6JTNhVZZd8BUNuEwmqEZnkT/MH3HaP+y9Ih2T1Hp35kaORPbLM0BoYAVDdRCy4lyvNo9k1lvTrvEk0b9iFqg4SdVVwZO4kTh/r8dBLTczfwSJTzeXTzHKY52StigOH9czhxqE/ta3rnBq6MBbr6MD23GvvcZjSCI12szXHlGTuHNXjlvM2Vc3puVVThyfB5D/Vheu4G1oSAy7W5Ppw4dA5rWPXsn7uB22N9OHH8PL4BcPcNP7/sGb3EGIys4QEZDBritRjazR+Hot7gS6OU94OGyl4wUTZfgmE6WOB6po5sLO42vI+/M96LPfj3YCYaeJXNoiANTHJhTxVRNSwsxv4y7hGK9R6PTtl0ZHUYAmoFZLPhIDFpU7RQXtctR3ynEmO/jmwI0c/2ihbqJ4RK/swgktR5P8gb2A61n0Ibt9Q3FfTqvEtasmF/0XyQsHMD08dfxV38GHNLK7CXVmBf/jGweB6vjUUHCp+dO4l37wEvL63AXrqGiZE13H3nF2q7FkR2bmD6+HncxUz92S/j93j33EeipBafnfsFPsTrfllGgYcfYnbsJKaP/x4747+FvbSCuRHgm8VXwwMZvy6uL4Krixlg8Txmj/sDjRDf4sOxV+EOzmBiII8XL3jywwCGL/v5f71XrwB/hJsEP3qP0G7+OHT1pjG7aME0qqiWisjn8yiWqqgaJuaFaU49WRn+jxoMTAbzw/7XR/XOFFKZPDYwBMvyApMMVFHKZ5AVwvDr0+uL++kLUrfe5eiUTUdWFXd7ww8I28DQJBc0WC0JQYOtl7d2NR/yncnx6M9ggI5sA4mf9ZzW68dDI38ws1C8Ggn4C2aagCo2/Ycpt7Fm31TWC6i/SzRt2JeIwQpiwJs9BaWAQi/wEGxiSQjK84MUQ0GGioGLcc8OAh91AxcbNvLXt9jciOQ5fnAkplbq1+LsiZcVn9WQjVzvcooGJjnMRFzQTHwgUYP28keDl+p39PQGQUGmw8nXmGN6AU+hICQdWQmezXKdiWXh7ZUFNgVyzQzoIJ33B82y6cgKxPsOY6zmMMfh2ze4LgYNdqC8nO9Eg9JE1GWlftZlOu8PevmDAEUYBjMthzmOxcygvgyhf6q2sXbfVNTLNN4lujbsE3h/aDKTsIrPFwGMvI4X+8V7MkbRf1QY+R49huHwFUXin324ZZ3wbRSvSZ7TPyB83bj4flMiBwD9ebw8AmBzW5hZmcGpfRucqTBlKJ0qDGg3fxw6ev1tc4aFxQV+vTqN3EIwHRhsR9KRFXFRLqTgZa+FlyX8qVL5mnoOFy1+qrSMQqaIquqUc0/RqXcZOmXTkdUknUMuJ4ldSJ/BpAGgdM9v43bLi5DvSL+CQ6jIJvhZz2m3fvTyp2crqDn+13Uxj3y+iI2NITg1hsVJIBRQqNrGWn1TQ6/Ou0TXhn1Ik0GCz+AADovXesVePjuEi52Hcfak8dwggIdb+A/x1n5HOmWoMFUY0G7+OFT0Jq7bpnFmkuuAOrIhXNjZDPIlA6ZTi/1RqwZzoVK8qdJyIY8SDJiDQLnsrVV7ybMNG9vevyM29BCVepegUzYd2c7hB8CJtFjeBkm+I5Ikq+ZnPafd+tHIn84toFJhYMxLlcoCcumEnQQR5G2s0jeTEfS28C5p34a9Q22QEPlC7iF7+ewQafRLZwvAzTIcw4/EW/uWwPElL6zEThDQbv449PUmd8AwOrLBi9vbnlfBQk5SmuArY2NbGuntveD4bVXBlxKfil5UddVb27zUZGtZd9Cv9yg6ZdORVcU/MU96Ok0QbR+gUV7XRjaVil079trYR0e2joKf9RyN+pHSbv6AMrydlNzsoWoba/VNDb0+Su8SLRv2J00GCWM4NQXg4Uf4a2z0freIfza+28I3wqXuE8wWSOzZcfBZ7CyDHNeVuUxvyY2bAKooXg13jPJVWdCUi7IdPnJUL786ynr5acBIdZZxtVht7EHXkQW40/28F3f8h53/5VAtYirywxC84Dy9uYXGV1I4+ecDmI73BRX/sK6iXO9AxB90yqYjq4c/xS1rY38vPr8VTbm84pa9EOE21pKFjp/1HuX6ASL+AJ38/sBK9gPt2pdQAmDOB8GtOm2s3je19Gq9S3Rs2KeIwQpiwFs9KG9khs0trTB7aYXNTXkBgHzgoCzwkM/fLHCxHuA4tcLsIPjRvyY+e3hkNKpTIclt9AMXR66x5ZD8CptAOBixXhcYrdtjX57xr80wm8vvBS6Gr4V0jMx4+Xt0+mI0MMkjCJIyTIs5jsMsP/BGDB4L5MRAJNX8jDUCgxzH8QOXgiAlhzm1cFSPsl7H9IKKYIRkg2tikKGSbC0IKOLskyQ+YCk4MdAwTGY5DnMskxlBGSVVEUYtYK+TdMsfouiULUFW1XeCIDMYzLTENo4GiKmWlw9Aq+u1Gv4k+pmSrLafdY9u+YNu/nr/caz6KZuG2BZabazRN3X0qr5LGNOzYZ/A+0PzQcLjJ+zB+gqbGPEGBl4aZRPCD7T8B1hjkPB4i9n+4IP/wV5eusYmRoLneoOIZZlOhSS3UWOQ8Niri2CQ1LDpGrOFcscOEh4/Ycv1gYVEf5cS3+hhvIhcz7mDDiJ5MfmdItJhVfMzLoJZltrQ6x3bG9ZtGCZzZMIqsvWXfFISo5VrXsdP0htLwo9jl0DX/EFEp2zxslq+U+N+jIK2MK2YtlAsL1P0HR3ZlvysO6Br/qCYnzFWc4IfTj8ZBjOlldtCG6v2TR29Km1cR8OGfQA4f0j5FwAAqVQKDx4/CU81EM8EJw71gWtq4oCTSqXIH4g65A8ED+8Pz8AgYRVXDr2Ku+JlnqkVPLg+Jl49UNAggeChHwWCh/yB4HnGBgmECjRIIHjoR4HgIX8geHh/aLK7gSAIgiCIgwoNEgiCIAiCkEKDBIIgCIIgpKR2d3frC1FHjhwJ3yUIgiAI4sCxu7sLUODiwYECFwkeClQjeMgfCB4KXCQIgiAIoik0SCAIgiAIQgoNEgiCIAiCkEKDBIIgCIIgpNAggSAIgiAIKTRIIAiCIAhCCg0SCIIgCIKQQoOEA4+Lsp1FNpVCKpVCKpVFwS7DFcXicMsoZLN+Xi9lCzbKMgVuGXaBl80myob1qtjlws56snayYINywdNfKIt3OBT06tirI9tz2vSHOgp1JhLbFmUUOP8KpwJEaaX6DZ7VJIVNaaNuYssmszehD/WcNsoM3bJpPCvyLonTq+k7Ip1qN2V7eVroQ12ABgkHnHIhg3yxCpgWHMeBZQKlYh4ZWacQcW1kM3mUqoBhmjBNE6ZpAKUi8hmxA5ZRyORRLAEG9yypLKfXtCw4jgVPbR6ZrB370ihkMyhWxRtJlFHIl8SLYVT06tirI7sHtOUPASp1FqF5WxiWA8cR00VkeCHV+s0M+v4akwxeqUfrdZNQNq0+1HtaL7N+2dSfJXmXeMLIZ+Q/qEq+E6FT7aZvb2t9qEswDgDsweMnz1RaXt+KXDuISWhqD8dkABhMR7gMBhjMqoUuR4iV8/Ua3I2aZchlaxYzQrI1ZhlggMnCVgU6wnpZzWGmAa8chsnMOJsiBM/xk1AH6np17NWR7S7d8Af1OhNp1haej4iXo3Sqfn09hsXq0i3XTXLZYvNL+lA36YY/xMrJyqbxLNk1xhp+EtKh7DsinWu3WFmpva32oc7C+8OzPZOwcwPvHj+GK/fFGwQAlO+VABiwLuZC13MXLRio4s4nsiFugIvtDQDGJM6khVu5cZgAqnc+qX+51TarAIYwIMqmBzDE/9v9BHeqgGFdRNgqID27CMsI6wW2sVE1YFoOapUFjIdyxOPaUyhWDVg1B6Z4E1DXq2Ovjuwe0J4/QL3OBJq3BQAYGEz+7Otc/ZavolgFzPlZBO7aat0kl02vD/WaVsvsoVc29Wcl6BXfJXUUfEegc+2WICu1t7U+1E2e7UECkYDvvAk/3MkvqDRmKwys0niRJpEZNACUcC8yc3gPJQBDgRG1TcTPsKUxMASguola/dIsKqyChdmckh0AANfGVLEKw1rEbFwmVb069urI9px2/UGjznhU2iKx3jgS5VTr14V9qQQYFhq/Vy3WTdOy6fWh3tJimevolE3nWQl6/XeJwY8IEn0iho62W4KszN5W+lCXURsk7KziylgfThzy09hJXLnPucfODUwf6sP0zbDLPLp5EicOncTtnei/H908h+m6vnN1mRA7q7g9d7Lx3EN9mJ67gTVBdm2uDycOncMafDvnbuD2WB9OHD+PbwDcfcPPP7fq53CxNney8fxDfZgeOxfReyAwBiXrchkMStZklXG34Q2ez9QdPfiSK+X9YMWyF8iTzZdgmA4WghdyZhBJj/YGGxvYjn87NcGFPVVE1bCwKH8D6KFjr47sXtENf4hFpy2GgFoB2SwX+JUthAO/OlG/klmEOlp1o1M2CZI+tCdolVmRuLK18CzXLUfeJZVIfSv4Tp3utpuavfuL5oOEnRuYPv4q7mIG9voWlte3YA8Cd9841hgU9P8G//PyKL555xeNH/udG3j3nTUMX/4TzvbzCoHPzp3Eu9vHMLO0AnvpGoYffojrxxuDCaDx3OuLwNzSCuylFdiXZ4DF85g9fg5rnKjHt/hw7FW4gzOYGMjjxQue/DCA4ct+/l97jbE2dwyzi0D68gqW17ewvHQNaXwYo/dZpYbNZkPspl9dMvxOBgOTofm1NGYXLZhGFdVSEfl8HsVSFVXDxDw/xRh8ORSvRgKbghE+UMWmvmEAuGnERcmPQCvo2Ksj23O65Q/xqLaFu70BoIRifgNDk1zgV7UUDvxqu35lswhoqW5UyyYnrg/1Ev0yqyErW+vPql3Nh94lk+PhYYay7wTyXW63ZvbuR5oOEtb+5Ty+wQzs1Q8w2p/G4f40Rq9/CXsK+Oada/Uf1cO//BPmRtZw/dwNPIKL2+fO45upFdz6pVhZa0hf+BNuXf8NRk+PYfT0b3BraQbAGj77tNFi3nNHMbf+Jc6eHvNkf/kBbq1fwzA+xGx9VqCeA+kLT3Dr+gd4+5dpHD49htFXjgEA0mk/f38agIvvNwGMvI7//ssxHO5P4/Dp3+Dt1S0sr3+AUUEroUe54EXkmk4lPFVXLiCVKWJjyEGNMTDGwFgNztAG8hl+q1kOFy1vaSKf9bZAlcs2CoUsUpkiYCR8VjSj6TRiK+jYqyP7jKPRFukz83AcBzVWwcLsLHK5HGZnF1CpeevVxauB87RZv0mzCDpolE1GbB96Buh02XIL4XdJMZ9BlvvlV/ed3rRbM3v3I00GCav4fBHA1DH8aMfFIy5hYBTAt/i+/vWfxtnVFUw8PI93x36B6w9nYF8fC6sDAIyi/6hQg6d/igkA39TnARs/5C8KsxDoz+PlEQCb23gUujGDU6dDF2JI48XxUeDhebw2dg6376/i0Y53/bD4rGea5Gk8IG76Lw4X5UIK+RJgWLXG8gGA+lYiw8LiAr/WlkZuIViGaGwbSs9WUHNMGKiiVMwjny9iY2MITo1hcRItBSJ525CKqHZhek/HXh3Z3tJpf0hCsy3SOeRykjXa9BlMGgBK9zrgO/4sAkyMi1GPWnWjWbYQSX2o1+iUWYWksnXiWY13SWgmSdl3et1uMfbuQ5oMEnwWz+O148dCafYd2cT8GE5NAd88XMPw5fMaX+Vp9Id++F3sPAQwOIDDoijSeG4QwMMt/Id4S5HDv/wSy+srmBv8Fp+98SpeO+7FWdzm4ywOCtJpPIXpvxAu7GwG+ZIB06lFO1niOl0aZyaNyFpxOreASiUYdTNUKgvIpRN2STShXMijBAPmIFAue+uCXvJsw8a29+8WXUDHXh3ZntMRf0imc23hByOKV1upX38WQbYzoo5C3bRetiZ9aK9QKHNzFMvW9rPk7xI5Yd/Zm3bTsXfvUBskTK3gweMnkvRlON7g/jnMLo5i7vIMvnlHZ+uhOCgQBw1hWW+W4Rh+JN7S4HD/GM5e/xK3Hj/Bg/UVzGEN19/gYiqeeYJOInHQxB91Ea+TeNuFKljIxeeoxi8GK1KGt1Oq2VdFHMHXJZ+KXvRz1YuTuJS4rUsXHXt1ZLtBp/xBFdW28E/MixyoA6AeFa9CUv02ZhHmpS953bpRLVtdiXIf6h26ZY5DpWwaz3JtZFOp2Cl6byAYoOs7XWg3LXv3J00GCd7MABY/lgT0+csOdVZx5Y0PvUDFX34Aewq4+4YsEHANO98Jl+5/jLsAhutD/GC24CP8VfzR3nHwWewsgxzXDTfso/ur4Z0M/WM4e8GLi4jY9gyTGzcBcV0OQPmqLPjGRdkWjhGtnwrmdRLp+xUIT+1F+koZV4vVxj5iv1PJOrZrX0IJra0ZN9YCxeTvgzYd76szthAx6NirI7sHtO0Piui1hT8VLfMd/1wEmOPe13+r9aswi6BaN3pl0+hDe4BqmT0k/qBRNuVnRbZE8gQDweBMAnXf6Vq7adm7TxFPWRJP6nuwfo0NAwwjM2xuaYstr2+x5aXg2jW2/PgJe/B4i82N8P+WX1u+POqdJDUyyoanrjF7aYXZl2c8XZhhtuy5GGVzSyuJsvZU9Jpou720wuz1rYZdGG2UZ32lcW1d0PGMJOmJavXTwMAM02KO4zDL9E6mk58wxp1CV3OYCe80MNNymOPIE39ineHL888KrvGPq9tkmMxyHOY4Vv0UMkN2dFqt8TzvlDTOplqzo8r8crShV8deHdlu0nF/CFCsMzkxbRGcTAeDmZboO+HTFfXrN/6URhHVupEjKZtuH+oiHfeHFsqm+qz66Yy8P1iN90tIXMN35HSg3XTsZe32oc7A+0PzQcLjJ+zB+gqbGPF/4P00PCX++Et+YP0f6eHL3tHIDbktNjfF6RuZYbaY139uSM5/rigbO0h4/IQt1wcWYJha8a97z69fB9jwyEzU/mco8Y0epsaceqdpOGTEFf0f+fqLtu74SUk4TrTmMNPwO76fDMNkTuRhjNUckxn8saiGwUyZIGscuStNkR4oInkJ+Ojo1bJXQ7ZboNP+4KNTZ1Hi24LVuB8NPxmm1bbvyI7RjUexbqRIytZKH+oS6LQ/tFQ2xWcxvXeJju9E6VC7adjbXh/qDOD8IeVfAACkUik8ePwkPNXQQR7dPInX3oG3rfFA7STYe04c6gPX1MQBJ5VKkT8QdcgfCB7eH5rEJBAEQRAEcVChQQJBEARBEFJokEAQBEEQhJSexiQQewfFJBA8tAZN8JA/EDwUk0AQBEEQRFNSu7u79eHjkSNHwncJgiAIgjhw7O7uArTccHCg5QaCh6aXCR7yB4KHlhsIgiAIgmgKDRIIgiAIgpBCgwSCIAiCIKTQIIEgCIIgCCk0SCAIgiAIQgoNEgiCIAiCkEKDBIIgCIIgpDQdJDy6eRInDp3E7R3xTvfRebaOLMHjomxnkU2lkEqlkEplUbDLcEUxVcoFT0+hLN6JoiTrws56dtlxRrllFLJZ3/7mZXDtAlfeFLLZAuyyRDqiN4VswYZMNEJS2SJ6k+3tLW36Q6RsCXXmlmEXwvUQK1tHwR9EktpCpIlsU98J8jdJDfVlFCT3vVSA3Ipe0gN/6EGdNW23OGT+oGOvjixHy/Z2gaaHKT26eRKvvQPMrX+Js/2hW11H59k6sgeRuMOUyoUU8iXAMC3Mjw9g+94lFEtVwHTAFnKieBPKKKTyKAEK+RVk3TIKU3mUqgBgwKpVMJsWZWxkM0VUYcC0JjE+ANy7dAelahUwLNQqs+Cz1MtrmJicH8fA9j1culNCtQqYDkPdDE6vYQ5hCACwgY1SFVWYcNgCJBb7JJRN095ukYo5PKctf9Cqs6CODBjmZP1Zd6SyPir+ECGhLSIkyyr5jmujcHUzlC/ERgledQa+5j1zw3IwPyAKZ5DJpZ99f+hynSm1m5QYf9CxN6Mh66tv3d7OEfIHxgGAPXj8JJSWL48yYJTNrYev9yLFPXt5fUtZlpKXhKb2cEwGgMF0hMtggMGsWuhyE2rMMuDpk+gM00S25jAzuG+YzIy1J9BjMvFpNctgAJjBZ/LLG7rGWEOPYbHgTmwdxOoISCqbpr1dpBv+ECsnqTOvvBLZmsUMsR6U/UEkqS1EmshKyuAR9Z14JLJ+ecXH9Zq99od42qyz2GdJ9IZo4g+xNNPLI5Ft2d7OwvtD0+WGfcfODbx7/Biu3BdvELqU75W8L7KL4aFp7qIFA1Xc+UR9esu1p1CsGrBqDkzxpkBz2W1sVA2YloNaZQHj4u0A9xPcqQKGdTHy1ZmeXYRlANU7n/hToy7sSyUAJuYjn59pzFYYWP0r3sX2BgBjEmdE0dw4TPB6wySWTcve3tOeP+jVWW2zCmAIA6JsesD/4uRR9AeBxLYQSJbV8Z0EyldRrALmvChrYDATurAv6KU/xNJWnbXebsn+kECsvRIisq3b202evkEC0SH8TpzwolbqxADg2pgqVmFYi82nf1Vk07OosAoWZnPJHaK2iap4rU4aA0MAqpuoAQBq2KwCMMcjP9BRWuyQzcqmZW+vadcf9OosM2gAKOGeuIBcvocSgCHeCFV/4GnWFjxNZXV8Jw7/B8CwEPrNTfSJvaS3/iCn3Tprsd2a+kMcMfZKkcm2aG+X0RokPLp5DtOH+nDiUB9OHDqJKzclLrKziitjgUwfToydxJX7UblH92+E5eL01XFxe6wPJ46fxzcA7r7h55tbFQXV7CQ8jEFEB+QZDBritThc2FNFVA0Li017lI6sAplBJJnp/RBtYNsF4G5jA4AxmIkGU2WzKKgGBQV6Js8ILz+FsunYu1e07Q8SJHUWzJyU8n6wYtkLYszmSzBMp811V4W2qKMg2wnfiXw18gwBtQKy2XCgmorartMjf5DSbp211G4K/hBHor0CMtmW7O0+yoOEz86dxLv3gJeXVmAvXcPEyBruvvOL8G6CnRuYPv4q7mIG9voWlte3YA8Cd984hmn+h3rnBt594zzuDl7DciA3Bdx9J2kZIY0XL6zAvjyDYQDDl1dgL63A/nW4OZTsJBqj1iQUvmrr03KLzTuGjqwSwRdN8Wo0otn/GgCq2Kw1vj6qd6aQyuSxgSFYlgPHMmGgilI+g2zTcHn/BQIDk8IcqlLZdOztOZ3xhyhxdZbG7KIF06iiWioin8+jWKqiapiYb/4ZlohSW/goybbtO7KvRv/O9gaAEor5DQxNWnAcB5ZlAtUS8hmNHRwdp9f+INKBOmuh3ZT8QUq8vVFiZFuwtyeIwQpiwJsXEAg2sSQECy7NMABs+HLjuj0FBswwW9Ahux4NPlxhEwDD1IrwbCEYcf0aGwbYxFL4GTp2HsQUDUxymIm4QJj4ALsQsiCzQK8Y6KMjKxAbAMUaAX8wDGZaDnMci5mmHwRoeP81HS4IS6rHt6NJeT07JAFTGmVTtrfLdMUfJMTWWRCgZTrc82rM8esiIs+R5A86baEs267v+PnFxzPGGKs5zHH4Ogiue7ZFbO4Se+4PIp2oM912U/UHGUn2isTJ6trbRXh/UJxJGEX/UWFcdfQYhkMXVvH5IoCpY/jRjotHXMLAKIBv8T33NX+4Pw3AxaOdVazdX8Xa/e2E9S1VVOwkPBSmDKVTjQFlFDJFVE0HlabTcjqyeqRnK6g5/ki7mEc+X8TGxhCcGsPiJBoBTv5Uv3ydMYeLVtJUv9vYlmTVhKlwvbIp29tz2vUHkSZ15t3A4gIfZ5BGbiFYhpDvd09Gpy00ZNv0nSAYbVz2hZnOIZeTxFqkz2DSAFC610I9dIJe+oNIh+pMq900/CFCE3tDJMhq2ds7FAcJGiyex2vHj4XS7DtrYZl63MIxvHbu9/jc+RifOx+FZYjeIJ0ybD7VWC54e9zNQaBcLnPJW1fDxrb3b1dPthXSuQVUKgyMealSWUAuLY+grybO5cum+l3Y2QzyJQOmU4u8QFopm469PadFfwiTXGfJa9JpnJls7WWo0xY6sgH6vtNYe5btaEnGD2Tda3rhDyIdrjOVdmvFH+ro2Ksgq2JvL+n8IGFqBQ8eP5Gk4JAjF7fPvYq7D2dgrz/Bg9Uv8fb1D/D29d9KXhhE9wg6lORlnPgS5wm+hvlU9CKPq94686X6Nikd2U5QhreDy//aCb4yNuQzVt4PtPgV773cvK1QFSzk4mqjE2UT7O05nfAHaNRZs5dhq+i0haJsS76D0FdjdEsbvK/XVNzpjsHugr2i9/7g0cE60243RX8I0cxeniay2vb2hg4OEsZwagrA4scQ5g0A+MsO/v/vPAQw9VOMtnEyouvKqpHQITduAqiieDXc4cpXZYFFLsp24zjV3ELjSzic/H3FpuN9Jc+mtWS1cG3v6FLJC8O1L6EEPnrY/0KtFjEVCf4JfqC5Pd1uGQXu5RZnmlbZtOztPe34g3dJrc5C08JiU6CMq8WqfH99E3TaQkdW23fqt5p9NfpT+rJ68M/U2MvtcD3zB56O1pl6u+n5A6+mmb0cTWXV7e0pYrCCGPAmDR583AggDAUE+tcwMsPmlrbY8voWW14Krl1jy4+fsAePt9jcCBgwyiZ8GfvyDBseGfXkuMDFetDh1Aqzg4BE7hn20gqz/QBILTsPYIoGJnkEgUSGaTHHcZjlB46JgTqBnDyQiUcx0IexZFk/OMlxHD9IKgj0c5hTa1hQt98wmeX4gYD+SWlGRG/jFLW6vGUyI9AfiNeCICHumZLUSj3o2ds9Ou4PunXmmF6QGYzQs4JrkapQ9Ac58raQEyer6DsR+SaBZkGwHQxmWmI9NMnbQfbcHxjrUp3ptptInD8wdXsZ05Bt197OwPtDZwcJj5+wB+srbGLE22kQpOGpYIDAy/D3V9iyZHfDg8dbzJ7yddUHGU/Y8uUZb6DAyWvbecBS3EsgiCj3OlijU0deu/5LvfkPWVKnEomXre8CkCVBvuYEnchPhsFMJ1ICn5rX6Th9hmGykHg9yjgpySKQeRLKpmVvd0Cn/aGVOqs5zPR3dAQp0haBqIY/RIlviyhJsgq+ExB7vK6EGvfjG+g1LbneLoH94A9dqzONdouQ4A869urItmVvZwDnD03/wBPxbBD3B56Ig0ncH/QhDibkDwQP7w8djEkgCIIgCOJZggYJBEEQBEFIoUECQRAEQRBSaJBAEARBEIQUGiQQBEEQBCEltbu7Ww9pPXLkSPguQRAEQRAHjt3dXQAAbYE8INAWSIKHtrwRPOQPBA9tgSQIgiAIoik0SCAIgiAIQgoNEgiCIAiCkEKDBIIgCIIgpNAggSAIgiAIKTRIIAiCIAhCCg0SCIIgCIKQQoOEA4+Lsp1FNpVCKpVCKpVFwS7DFcXicMsoZLN+Xi9lCzbKMgURWZVnubCznqwdJ+iWYRcUbajTIb3lQuh+XCqU6xlQkNz3UgF1sT2jh/4gEtRlo7IaRNoiG6NXp351ZGU29Lpse0EP/EG7D/Eo9GORTrWFpmzTegD0fbIHND9M6f45TL/3LV6+8CXOng7fIp4e4g5TKhdSyJcAw7QwPz6A7XuXUCxVAdMBW8iJ4mFcG9lMEVUYMMwhDAEANrBRqqIKEw5bQF0DJ2takxgfAO5duoNStQoYFmqVWaR53fA71lQepSoAGLBqFcxGhMoopPIowYBhTnpl2L6HO8USqnF5OqnXtVG4uilmbrBRgledDF51eno3LAfzA6JwBplcOloPXSAVc3hOz/whQlDfkDxL0hb3LuGOVK9O/erLNvUHKZ0qW/fYU3/Q7kM+Sv1YpFNtoSGrWg+cXjWf7B4hf2AcANiDx09CaXlphgFgE0vh609bWl7filw7SEloag/HZAAYTEe4DAYYzKqFLkeIlfP1GvUbNWYZYIDJwk9irGYZgixjrOYw04Bnm2EyM+45STbULGaIZeuW3lj8chsWq6vx8ytl7yJ76w8igX/4SXi+5yMSvX5dhn1Ho341ZGPL1tQfOli2LrK//IFH1ofU+3GYzrWFjqxWPWj4ZDfh/aHpcsPh0x/gweMnePtpnkXYuYF3jx/DlfvijYNN+V7JG4FfDH8R5C5aMFDFnU8ic2EcLrY3ABiTOCMObXPjMAFU73ziTUu6n+BOFTCsi5GvovTsIiyDkwUAbGOjasC0HNQqCxgP5eBJsCE94I/YebqlN4byVRSrgDkvzpIYGMyELuwLeuYPAq49hWLVgFVzYIo3AdQ2qwCGMCDqjW0LnfpVkU0oW6wNHp0vW+/YK38IIe1Dqv04TCfbQl22lXpQ8cne0XSQQDyr+M6b4OhR5+VJY7bCwGTLBCK1TVTFa3XSGBgCUN1ErX5pFhVWwcJsronuBBvK91ACYPC9rVt6pbiwL5UAw0LoHZtYF3tJD/2Bx7UxVazCsBZjp4ozgwaAEu6JC7J+WwzxBuvUr7JsQtmS/KHTZespe+QPIWL6kHI/5uhwW6jLataDsk/2juaDhPvncOJQX+gr/NHNkzhx6CRu77hYmzuJE4f6vDR2DmsAsLOK22ON69Nzq5xCPj/w6OY5THP5b++ERD12VnGbf86hPkzP3cCaILs214cTh85hDau4MtaHE3M3cHusDyeOn8c3AO6+4eev2+PZX3/+oT5Mj52L6H2mMQYRfb1lMGiI1zRwt+ENns94HSMziCR1XofbwHb8G0cJ1y2jXPaCibL5EgzTQSXujaBBS3qlX0ABQ0CtgGyWC2LKFiRBTHtAL/yhcQP2VBFVw8JiQn0Gs02lvB8YJrRFdGlcp351ZD3U/KFbZesxPfUHgcQ+pEPn20JHNpbYetD3ya4irkOIa9kPJDEJy5dHGTDKhkdG2fDUNWYvrTD78qi3zjMyyoYxyiYurzB7aYXNjXjrP03zL11jwwADRtncOvf8de76kqfTvjzjX5thNmerPeXJDY+ADU/NsInLW2yZkx/2bbL9+IRAfuLyClte32LLS9fYxEhU77OQomuODjMhrPXViY8haE6Ql1+D858l0xes6Sasw8Wu6Ql4cn4yTGY5yRm6pVe6jhrc8WMwAIOZlsUcx2GWZfp10NyWTrG3/uDfiazr+jbIHKFmNdahubYQm0KnfnVkeVT8oRtl6yb7wR/CxPchkWb9uGttoSMbQV4Prfpkp+H9oY1BghjMuOUPCGJ+5KdWJPmFYEL/WcOXG9eDH/KQzhi9nqxoV0NWau/INbbMyz7eYsvis56B1KuXQPACFftf3fkNg5mWwxzHYqbpBy0a3n/FPAHNXgJRaswJdCdk6pbeICBJWp6awxzHidZ50wC4zrLX/iAL8Ip9eQcBXiZfb422CInr1K+OrJQYf+hW2brInvuDSFIfEkjsx91qCx1ZCbH10LZPdgbeH5ovN8Qyiv6j4jUAI6/jxX7u3/0DMVNFo+g/Ktw5/VNMAPimPu/s4vtNiU4A6M/j5REAm9t4FLoxg1NKQZZpvDg+Cjw8j9fGzuH2/VU82vGuHxaf9UyiMGUonWqMw21sl7Jqkem29GwFNceEgSpKxTzy+SI2Nobg1BgWJ9HhYJ00cgt+QGTxagf3Fqvo9ddRYWJcNuWYziGXk6ylps9g0gBQuhejt9v00h/KKGSKqEqn6UXKKHhKsLjA11ujLUp5bv+4Tv3qyEqR+UMXy9ZTeukPIk36kDLdagsdWZEm9dC2T3aeNgYJ3SCN/tAPv4udhwAGB3BYFEUazw0CeLiF/xBvKXL4l19ieX0Fc4Pf4rM3XsVrx/twYuwkbt/fq8WfPYAPGKxTw6ZW9IwLO5tBvmTAdGqxHTKdW0ClwuDPYKFSWUAunRAp3BZpnJnsTKxDmCZ6/XVU2U6OZPwAzr2mB/5QLnj7y81BoFz21ve95K3RYmPb+7ebtG6L5m0RQqd+9WR5G/ambF2kB/4QoeU+FKZrbaEjG0KzHkLo+GRn2WeDBHFQIA4awrLeLMMx/Ei8pcHh/jGcvf4lbj1+ggfrK5jDGq6/8Qt5AOUzReB0EmdO7AQinuN7W4sqWMg1zxGmDG+nlc5XiY9rI5tKIRtz1Jo3+GiBlvU2voDmpS8A/zQ12Ulv9WjyvaLX/hDMKPGp6EV2V4vI5/O4xG2xq25Gf6qi6NSvhqy2P3SjbL2m1/4Q0KwP6dK9ttCRVasHDZ/sIXs4SFjDznfCpfsf4y6AYW77iDdb8BH+Kv5o7zj4LHaWQY7r8t7u4tH91fBOhv4xnL0wI7ftGSQ3bgKoong17JTlq97pYJOhjb0uyrZwjKhbRoFz/Ng+7b9kZc7v2pdQQosRzIlbsYLBh2R/cjNa1dv0C8ifwi3di0Yq+2dJwByPydt9euUPuYXGbFI4+fvXTcebaZpNh6dZxTpDGVeLVa4tdOpXQ1bDH7pXtt7TK38I0bQPqdO1ttCRhU49aPhkLxGDFcSAt/jARTGYMC4QcIVNxAQuIrQ7Qr5jQX93g2RnQqBjZIbb3cAFWi5tebsb1oPdGGLZnv4UDUzyCAJoDNOPpPUDb8QAmXpEdxDIVAt2LASBiPIUBODUn2OYzHL8wEU/MtiQBeP4ATyO49SjgOvPqXFhPcGpcDHRwBHV3dKrGsxV383B6TUN/1qTvB1kr/1BTnxAWVBnvF3SttCpXx1ZbX8Q6UDZusj+8AfFPsQ0+rGUDrSFqqxuPej4ZBfh/WEPBwmjbG59i81N+QMG+D/ish/n9ZWwHOANLgTZ2EHC4ydsuT6w4G3xnl+/DrDhkZlnboDwIGGQEETkek7YcOZIN/M7Rf0Hvf7STErC9h7HZAa/ZcgwmBmzX6ixFUiSxM5dc5jp75AIkhGzFalbeqVHrMZR4162gV7TkuvtEtgH/hAl5uXNNNtCp341ZZVtiNChsnUJ7Ad/0OhDWv04QofaQkW2lXrQ8ckuAc4fmv+Bpy7w6OZJvPYOMLf+Jc4eiJ0Ee0/cH3giDiZxf9CHOJiQPxA8vD/sYUwCQRAEQRD7GRokEARBEAQhhQYJBEEQBEFI2ZOYBKL3UEwCwUNr0AQP+QPBQzEJBEEQBEE0JbW7u1sfPh45ciR8lyAIgiCIA8fu7i5Ayw0HB1puIHhoepngIX8geGi5gSAIgiCIptAggSAIgiAIKTRIIAiCIAhCCg0SCIIgCIKQQoMEgiAIgiCk0CCBIAiCIAgpNEggCIIgCEIKDRIOPC7KdhbZVAqpVAqpVBYFuwxXFIvDLcMuZP28XsoWbJRjFLh2gXtWCtlsAbZMOKI3m6jXw4Wd9WTtODm3jEI2rDe2vBHZ5LKFKBe8PIWyeKc9vV2nTX/Qya9TDxF/aFM2aJ8mSWy+1v1XYgMnq1wPPUejPaVo5I/UQ7Ks8vtBR2+dzr9LlP1Bx896AeMAwB48fhJOSzNseGSUzS0J1yk9VUlo6jqOCQaAGabFHMdhlmkwAAymI4pKcJgJMMBo5LdMZvjXrJogHTzLMJnlOMyxTGYY3rXw4yR6TcPXazKpZTWHmb4u2bM9Gatum2lZzHEsZhp+eQ2LhbJwsoZpMtM0mdnMhjqB/ZJ6bEtv5+iOP2jk16oHiT/E+pmibM3ynxmTJH7Zlv/KbGC69dA99pM/NO2bsvqNqzMtvT6dfpfI7I3zBy0/6x68PzQdJCwvzTAAbIIGCU91kr4EHFPaYT0njTqvSKxc0IHCb1jP8aPCzDLCHatmGYl6Qzr4Dm2YzIyzKXiO+BKpPy+sN7ZsseUICJ7jJ9W6baq3s3TDH3Tyy675NyL1ECsr8TMd2XiiPimzyyMqq2NDrGzs87rD3vqDXt9Ufz/o6e35u0TiD/HtHvWzbsL7Q9PlhsOnP8CDx0/w9mnxDvG0U75XAmDAupgLXc9dtGCgijufJE1vudjeAGBM4kxauJUewFDoggv7UgmAifnZiDBmKwysMovgTm2zCmAIAxFRUS8AbGOjasC0HNQqCxgXbwe4n+BOFTCsiwiXFkjPLsIygOqdT/ypwoSy5cZhgpcN49pTKFYNWDUHpnizDb29oD1/0MmvUw8JshF/0JFNoHwVxSpgzgc+qeO/OjYkyEbqofeot6cc5fxafVPj/aCpt+fvEtFeLT/rHU0HCcSziu+8CZ0t+QWV4LTleygBMAYz/oUaNqsAzPFIp5KRGTQAlHBPXM739Q7xBqdnUWEVLMzmonbw1DZRFa/VSWNgCEB1EzX/37FlS8K1MVWswrAWEenjQOt6e0K7/qCTX6ceEmQjfqYjG4f/ojYsNH7bdPxXx4YE2T1Hpz1laOTX6psa7wdNvT1/l0T8QcfPekfzQcL9czhxqA9X7jcuPbp5EicOncTtHeDRzXOYPtSHE4f6cOLQSVy5KXGbnVVcGTvpy3hy03M38Egid3uOl+vD9NwNrO2ExRrPd7HGy4+dw1qgh3ve9NxqWIEvc2Ws8ZwTYydx5b7E9mcdYxDR12YGg4Z4LRnXLaNc9oJzsvkSDNNBJfildLexEXQGMdgnm0VBCMgJRuOlvB+MJOhdaKUHZQaRVCTvxbOB7WYuEJRl8ozQ6V3YU0VUDQuL8hFCMrF6e0y7/tBu/ib1kOhnAjqydSKzCPr+y9OSDWheDz2j3fZUya/ZN5XfD5p6lWlDb6I/tOFnXUVchxDXsh9IYhKWL48yYJQNj4yy4ZEZNre0wuyla2xiBAwYZXPrXP71a2wYYKjLrTD78ox/7RpbFuUwGpXDDLM5m0LPn7rmy456a0kjo2wYo2zisqdjbsRbYwrFVHA22etbbHl9i9lTXv7hy1vROngGUnTN0Q+mka5xxa+5xREE2wTreZbDaQ3WJv3AHsMwmWWFA3Iia3A1iwseaujl1cqIXf+rBw9JylQPQmoWGBTUS1R/dJ3Uf16yQp94vd2i8/7Qbn6mVA+JfiagI+sRs+7biv/66NvAlOqh0+ytP7TQN5XeDy3o5ejGuyTRH9rws07D+0MbgwSwiSXhB9WX5X9o7SlEBw6SFCsX/KBPrdSvNZ7Py275A4KYQQqX33tWeOCRdP1ZSHyje+h0Yh1qzPEjmOsOHTi/aocLgndMh7OtoVfW+QLiO3YjqAiGwUzL8SKSA1v9jtlct0QmEjDFGuWKCEeJ1dtFOu8P7ebXrQeJn8WiKOv7XeT5uv4rRdEG7XroDHvtD1p9U+P9oKVXoJvvEqk/dMTPOgPvD82XG2IZRf9RYSLs6DEMhy6s4vNFACOv48X+0A0BF99vxsj15/HyCIDNbWF5YhT9R0MXPEQd/QPCdJ1v09Qx/GjHxSMuYWAUwLf4XljeeDZRmDKUThU2I43cgh+8U7yKMhrTc/K1+hwuWvz0XBmFvLcmvLjArw029JbyBU+vJunZCmqOCQNVlIp55PNFbGwMwakxLE4CgAH5krWLciEFz6yasNxRRiFTRFV1GjlEkt5e064/tJO/lXqQ+FksKrKNoLFx8fla/huHmg369dAt2mlPaOdX75t67wd1vXq0r1fiDx3xs87TxiBBg8EBHBavhXCx8zBOLo3nBgE83MJ/iLfaYfE8Xjt+LJRm31kTpZ59+MCdOn4ATcukcWYy6tDVzeiTGlSxWWu2FivXq0M6t4BKhcGfRUOlsoBcOiFiGi7sbAb5kgHTqUUGAuVCHiUYMAeBctlbb/SSVw5sbHv/jtibrHfPaNcftPO3Uw86/tBE1o9FkEWsByj5byJJNrRTD11Euz0FNPIr9c0W3g9Kelugfb1ye9v3s87Sm0FCZBZAJI1+6WwBuFmGY/iReKsdplbw4PETSfoSZ8XZjGcSPwpX9sJK7Ig+ro1sKoVszHFkXkfxSZ+B1xe2pdHQnmx45J3cUTpNGd5uLfHLyHtxe1saK1jIxdVG8DXBp6IXAV0tIp/P41Jou5iq3l7Spj+0lF+hHnT8TEc2RNLWM03/bckGhXroOa20J0+7+QPkfbP994Ncb/sIenX8QcfPekiXBwljODUF4OFH+Kswhb8214cTh/zdCPXZgqgcdhx8FjvL0Aq+TYsf+8/m8ZcdDgi5cRNAFcWr4cnP8tUiqjAwGdrY66Jsc8eIituYQgQdJdgb7I+Yq0VMRTqLIBt0lNI9ydd3GVeLVfme42b4nVV2TLJrX0IJYkR7GQXuxS377QCA3ELjSyKc/HMSTMf7yqhHMKvp3Qva8gfd/Kr1oONnOrKhW81mEXT8V9MG1XrYA7Tasx1/0OmbOu8HHb066OjV8gcNP+slYrCCGPAWH7gYH2QY2iEg2d0wJ9tJ0MLuhvDz/cBFfsfE4yfsweMVNoFw4GLYJm93w/JScE3M/2wkoanrBEFSzY5NrUflSk6hQ/1o0vBxo2EVQbCS7LhRQdZp6IgeuyrqZYzVHOY4Xgqiwr1gIoc5tUYEUL2swfOdRoS0EYp2CoKEOD2SFIktCiEJXOyI3s7QFX9Qza9bDzp+piPLmDSITo6e/yrZoFsPXWRP/UGnb3rCyu8HLb2sC+8ST1jNHxjT87MuwvtD9wcJj5+wB+srbGLE36IIMGCUTYgyvlwwgAjS8NQ1ZgvPkT9fY5Agtcl71rM4QHiQMEgIomyDbTtBp4i8mPyOGekANadxZrmfjMhWpICa5/Aqshp665HGsiTYW3Ma24kAPzpZVFrv1ElJFoHMIxkkdERvZ0C3/EElfyv1oOEPWrJBpLxSpXfYf1uphy6BvfSHQFKlbwao1G9dVF1vx98lARr2avlZlwDnDyn/AgAglUrhweMn4akG4pngxKE+cE1NHHBSqRT5A1GH/IHg4f2hyzEJBEEQBEE8rdAggSAIgiAIKTRIIAiCIAhCCg0SCIIgCIKQQoMEgiAIgiCkpHZ3d+shrUeOHAnfJQiCIAjiwLG7uwsAoC2QBwTaAknw0JY3gof8geChLZAEQRAEQTSFBgkEQRAEQUihQQJBEARBEFJokEAQBEEQhBQaJBAEQRAEIYUGCQRBEARBSKFBAkEQBEEQUno0SFjFlbE+nDjUhxNzqwCARzdP4sShk7i9I8oSvcVF2c4im0ohlUohlcqiYJfhimKx6OV37QInm0I2W4Bdlki7ZRSy2bpcKpVCtmBDJgq3DLvAy2Y7Jhu2QVK2ciFkY1wqlPlM+xm99ozHhZ318tvSzGUUJPXkpQKi1aVnV+t+lqBX03fCssn+q+zrPUev3uNp5g/Qe1akfhPaQiToszGdUtl3dGQj9u6nNk6m+SDh/jlMj53E7fviDXXW5l7F3YejmFjawvL1MfF25+iArQeNciGDfLEKmBYcx4FlAqViHpmYDiSik79cSCFTLAGGCctx4FgmgBKK+Uz4R9S1kc3kUaoChmnCNE2YpgGUishnxB+QMgqZPDy1DRvaluVsMC0LjmPBMyGPTNZuvLgyg759Mcngle5/dNozFreMQjaDYlW8EcWwHDiOmC4iI8jp2NWKnyW2MaDnOzJZz2DkM8KPpJav9x6deo9F0R/UnyWp39i2ECmjkC+JF+so+46WrMTeOH/YjzAOAOzB4yehtLw0wwCwiaXwdfW0wiYAhqmVsN7LowwYZXProrxaWl7fil5r29ZnNwlN7eGYDACD6QiXwQCDWbXQ5Sg6+X1ZI6K0xiwDDIbFgjvS/N6NiI6aZchlaxYzWpb1bYLJwiULdMjKISNatv1CV/yh5jDTgKfDMJmZlM+vc+FRcnTskviIh9gWem2s7jsxdrGGLF+OWNnYcnSHPfcHjWfptEWYoM39JDpfbJ2LvqMnKyuDJxr1h/0C7w9NZxIOn/4ADx4/wdunxTt6DA+kxUuts3MD7x4/hivCjEGnbD0olO+VABiwLuZC13MXLRio4s4nyUNc9fwu7EslACbmZ0U/SGO2wsAqs/DuuNjeAGBM4owomhuHCaB655P6V15tswpgCBH3Sg9gSLikLOt+gjtVwLAuIlwyID27CMsI2xBL+SqKVcCcD8q2v1Fvzzi2sVE1YFoOapUFjIu3IxgYFKcMJKjbpeFnmm2s7DtJ/qsjK/H1XqNe73Go+4POs9TbIoxrT6FYNWDVHJjiTR3f0ZSNbeMm9u4Xmg4S2mZne8+cnEjCd96Ezpb8gtLJX8NmFYA5HnkhRxE7WTKZQQNACffEOcbyPZQADHHGKcvWNhE/M5rGwBCA6iZq4q0Q/ovEsCC89/YpOu0ZQ3oWFVbBwmyuedsl1jGPjl0afpb4/GgbK/tOkv/6skZ9ZJQgu+fo1HsMyv6g9yz1tuBwbUwVqzCsRUR+1wE939GSTWjjiD/sT5oPEu6fw4lDfaGvdj7o8NHNc5g+5AclHjqJKzcbbrM214cTx8/jGwDfvHMsFLgYx6P7NxpBjhGdLm6PNXTefSMcDCmzFQCws4rbcyc5nX2YnruBNSFoUrVczxTGYGT9F8hgUHUtXSW/u42NoDOIQVrZLAqq0TuBnskz9Q4XfPWV8n7gUtkLEMrmSzBMBwtcL1aWzQwiqfjeS2oD20lmP2WzCHVU2rNjDAG1ArLZcOCX1B1U7NLxM802VvYdAdctR2Qr8l+pMBJf3xNU6r1TKD5Lvy1c2FNFVA0Li3F1r+M7OrICLfvDHtJ8kJDAZ+dO4t17wMtLK7CXrmFiZA133/lFfcfCj369AvvyDIYBDE9dg720AvvXCRWycwPvvnEedwevYXl9C8vrW7CngLvvBEsLabx4gdN5eUVJ5/TxV3F9EZhb8uUvzwCL5zF7/BzWRHmFcj0b+KPhJBK/ljXy+19t1TtTSGXy2MAQLMsL9DFQRSmfQbZp9I7f0WFgMjRvl8bsogXTqKJaKiKfz6NYqqJqmJiPfMIrygZfL8Wr0SAo/4sEqGIztnKetlkE6LVnB3C3N/wgrw0MTXLBXNWSEMylYZeOn2m3saLvCNSu5kOyk+PRn8Eocb7eSzTqvW10n6XXFvVlhsWEAbuO7+jICrTmD3tLG4OENaQv/Am3Vj/A2dNjGD39G7x9YQbAGj771Kugw/1jGH3lmCc+kMfo6TGM9sc2E9D/G/zP9S08uP4bHO5P43B/GqPXf4sJAHcdb7bg8OmGznR6rKnOtX85j28wirn1L307xzD6yw9wa/0ahvEhZiMzG83LRbRIFbBqDJXKAmZnc8jNLqBS8dYHpS9rjnLBi442nUp4urBcQCpTxMaQgxpjYIyBsRqcoQ3kM8LWQ2XZHC5a3pRmPuttwyqXbRQKWaQyRcBo8hn1tM4i9JD0mXk4joMaq2Bhdha5XA6zswuo1Lw16OLVJG9ogpKfabaxsu+EyS2EZYsJPyABsb5OeOi0RdNlBgEl32lB1qcVf9hr2hgkjKL/qFDrR49hOHxFm8P9aQAuHu2sYu3+KtbutxPT4OL7TQAjr+PFfuFWfx4vjwDY3Maj0I3ulGv/EZ3GiyCd/gvQyO9P7co7avCyjpu+d1EupJAvAYZVE6YS/e1MhoXFBX7dM43cQjAlGWyJ0pEF0rMV1Bz/y6CYRz5fxMbGEJwaw+IkEB901whqGo9+1OxjNNqzE6RzyOUka9XpM5g0AJTu+W2hYZemn6m3sZ7vyGnIxv2AJPt6r9Go97bReZZOW5RRyBRRVZnS1/EdHdlYVPxhf9DGIKEL7ASHLh3Da+d+j8+dj/G585EopYGLnYcABgdwWLyFNJ4bBPBwC/8h3jpISKcMFab/AjTyV+Pn54Wp3QAXdjaDfMmA6dSiHT1x3TaNM5NcZ9WRDa7mFlCpBCN/74shl06IrkZjFkEWNf9UoNGe3cEPGhTRsEvHz5TauAXfkZMk28TX9wqNem8blWdptEW5kEcJBsxBoFz2YgG85OnAxrb3b64tdHxHR1ZOkj/sH/bRIMHF7XOv4u7DGdjrT/Bg9Uu8ff0DvH39txJnUCWNfulsAbhZhmP4kXjrQBC8jCUOmtgRAzTyB1+HG/JZIe+FLH6Zey9Nb8tSBQu5eEuSO2sYHVk5ZXi7tWRfUUlbo/Y7Gu3ZNv5pi9I5+iDSPUDDrpb8TIa8jZV8x7WRTaVip5A9G0TUfb13aNR72+g/S6ktAKA+S8SnorezperFM1z6xNXzHR3Zlvxhf7GvBgk7DwFM/RSj4tJADK4rr/gGwWzBR/irGHS44+Cz2FmGg0Fu3AQk67/lq7KgKRdlO3yMqHp+f8RcLWIq0lmCFzK3j7h+Qpv30oz9veWnpkW1KONqsdrQqyPrd2zZj5hrX0IJMfEGT/ksgnp7QuoP6vjTy7K28M8v4LeXqdul4Wc6bazjO5Ite7xsy76+B6jXO9r0B41nabRFY/1fTP45CabjzR7NpvV8R0dW1x/2I+IpS+JJfQ8kpxjGnpa4fo0NA2z4Mncaouwap3d4aoXZS1vsweMtNjcCBoyyiaUttry+xezLM2x4ZJQNiyc2+joxMsPspRVmB6cvSmyty2KUzS2tePKXZ/xrM8zmbNIq11OWpCeq1U8DAzNMizmOwyzTO21OPAUskBNPD1TNz592ZhgmsxyHOZbJDMM7jawuXnOYCf+a5TDHkSf+5DPDl+dtCK6FzNCQrZcrsNWx6qfHGZGyscQT/PYj3fIHVmu0kVcfXDvWQsfmNerdEtsiWoeqdin7mW4ba/hO/fRAvmxWI3/Lvt5F9twfNJ6l1RZS/HqPCKr7jpasqj/sI3h/2LtBwuMtZk+NepU3co0tP37CHqyvsIkR39n8AcRy7LHOwQ89d09iq2fDCpsLnlXXfY3Zgv1a5XrKEt/oYWrMqXewRieOvJj8jhl5earmZ8yTrXeORgdzwqOOUDvJk3DEac1hpuG/UOL0tiBbc4JO7yfDYKZMkDXsjh7Tuj9Bl/whONJYmkTfqXE/BEFbmJa0LZTtYkzNzwJJnTbW8B0l2VZ8vUtgP/iD6rOYYv3GEjdIYFq+oyXblr29B5w/pPwLAIBUKoUHj5+EpxqIZ4ITh/rANTVxwEmlUuQPRB3yB4KH94d9FJNAEARBEMR+ggYJBEEQBEFIoUECQRAEQRBSaJBAEARBEIQUGiQQBEEQBCEltbu7Ww9pPXLkSPguQRAEQRAHjt3dXQAAbYE8INAWSIKHtrwRPOQPBA9tgSQIgiAIoik0SCAIgiAIQgoNEgiCIAiCkEKDBIIgCIIgpNAggSAIgiAIKTRIIAiCIAhCCg0SCIIgCIKQ0nSQ8OjmSZw4dBK3d8Q7MlZxZawPJw714cTcqniT2Je4KNtZZFMppFIppFJZFOwyXFEsDreMQjbr503KX0ahLiOmAsqieERvCtmCjXJUMeCWYReayJYLkudGU4E3RMcGAK5d4OoxhWy2AJsXbsWGntOOP+i3cdN2i5XNasjq6E2WVfaHiKxOPe4nWvSHVnxdp850ZOu4sLOerB0nqOkPOrI69jZ9l/SQpocpPbp5Eq+9A8ytf4mz/f7F++cw/d63ePnClzh7uiG7NteH2cVRTCz9Cf/9dBqHG7eIPSbuMKVyIYV8CTBMC/PjA9i+dwnFUhUwHbCFnCgexrWRzRRRhQHTmsT4AHDv0h2UqlXAsFCrzCJdFy6jkMpjw3IwPxDSAiCDTC7dkOX0GuYQhgAAG9goVVGFCYctoGGZp7cEA4Y56ZVh+x7uFEuowoBVq2A27eksXN2s54qwUYJXbIaFnK4NXD0aJibnxzGwfQ+X7pRQFXRq2dBFUjGH57TlDzptrNpucbL3LuGOtC0ksjp642R1/EGrX+wPOu4Pur6uU2c6svU8ZRSm8ihVAYhtW0fDH3RkNe1Vepd0mZA/MA4A7MHjJ6G0fHmUAaNsbp27tjTDALCJJV52hU0ADFMrER2U9j4JTe3hmAwAg+kIl8EAg1m10GWBGrMMMMBk4dyM1SyDAWAGr6BmMQNgwqOkxD7ft5fXGyvrP08smxy/LIbFAjWxeiU2SK8xJtUbj45s+3TeHzrUxpJ28/wpXrZVf+iIbKTtNfvFPqEr/hCL6Os6daYjyxirOcw04JXDMJmZYHtsuXT8ISKraW/EnwLEOusuvD80XW6Qcfj0B3jw+Ane5mYRAoYHIsMzYp9SvlfyRtUXw0PT3EULBqq480nC9Jb7Ce5UAcO6GPqiBoD07CIsA6je+USYTjMwmAldkOBiewOAMYkzoivlxmGC15sgmx7wv/YUKF9FsQqY88GIPkGvxAb7UgmAifnIp0kasxUGJvuyEYnY0Hva8oc6bbaxpN1qm1UAQ4i8WiKyOno7JCv6Q0v9Yn/SGX+QIPq6Tp3pyAIAtrFRNWBaDmqVBYyHcvAktLGOP4iyWvZ26F3SYVoaJEjZ2X4qHJ8I8B094eWb+DKrbaIqXquTxsAQgOomasGlRHkenc6QIFu+hxIAo+kvlt8xDQuNd2GC3gg1bFYBmOORl4A6Mht6TZv+gA61saTdMoMGgBLuiUENvuxQ3WAdvR2SFUmsA0m/2Ld0wB+kSHxdp850ZAEgPYsKq2BhNtek7RLaWMcfRFktezvxLuk8rQ0S7p/DiUN9uHLf++faXB9OHD+PbwB8886xaODiDhfQeKgPJ8ZO4sp9ffcCFHTt3MD0oT5M3wzrFwMw+X8/unkO03V95+RBms2eG5I72ZA7dBLTczfwSJTbLxiDiP6MZjBoiNcEMoNIEvFe7BvYDlXREFArIJsNB+Qox+O42/AG8GeinROA65ZRLnvBRNl8CYbpoBIZkQuIXzXNEG0I/j2YiQYnZbMoqBRO14Zu0qo/1NFv42btFnxxlfJ+sKIgG7dG20wvj45sCNEfWuoX+5i2/UFA5us6daYj2wY6/pAoq2NvJ94l3UBchxDXsmUxCQ+EmITl9RVmX55hwwAbnrrG7KUVZq9vebLr19gwwDAyw+z1Lba8vsXsqVEGgA1f9mVUk6KuiM1+PpnM8Mhow+YlX79YXsXn8nJzSyueTr9eMHKNLYvl6WGKrjk6zETcGlf8OloDP79MJliX49ang/U3wGCmZTHHcZhlmb6cZG0vQmBTvKy3TthYf7ScGME6uut8EhuCdVvDX180TGZZDnMskxn+Wmh0fZFH14bO0Hl/aL2NldqtZjXWljlZmWiAkl4fHdkGEn/Q7Bf7hW74Q5Q4X9epMx3ZKLGxBAI6/pAsq2Fv2++SzsH7Q0cGCQ8ey3+IHzx+wuwpMGCG2YLeuOtJKS5P9PoWmxsJfpj9/xcCKr1ygU0sCQMVv2x8OaL65de9fwt1tU9SN14C9R8Fw2Cm5TDHsZhpBg7u/bcRv+Mwx3Giz4oE+sgJOmITMZ8acwI7kjqV3ynVdMbYEHRs6Ysn4QURoGlDp+iGP7TbxrHtFgRzmbzuhmxTtXF6pajLSv1Bt1/sE7riDyIJvq5TZzqyIqqDhAbq/hAnq2xvu++SDsL7Q2vLDcqs4vNFAFPH8KMdF4+4hIFRAN/ie9nUvhQdXWmcXV3BxMPzeHfsF7j+cAb29bGwOgDAKPqPClNIp3+KCQDf1OerVJ/ry428jheDraL7GoUpQ+lUY4P0bAU1x4SBKkrFPPL5IjY2huDUGBYngVAQWzqHXE6yLpg+g0kDQOledB89AMBtbAmyarFTy2HSyC34QUHFq7F6gyCh8aY6E2zwpxMNa1GypSqHi1bS9KeODd2mfX9ovY0DZO1WRsGreCwu8LobsqW85AyGEDK9cajIJviDbr/Yt3TAH0Ik+7pOnenIto+KPwTIZZXtbetd0j26PEjwWTyP144fC6XZd9ZEKTWUdY3h1BTwzcM1DF8+j1Hxdixp9I8A2NwOxxGoPndw4Ok6H0IaROUH0CiQzi2gUmHwZ6VQqSwgl06ISI/gB+9IcWFnM8iXDJhOLXZNUE4aZyYTOpW/NiqLOg6jZkN1M1qLDaqQ3la2oYe06Q9yktpYRGg3cc0/STaRTsmq+UP7/WKf0Cl/UPB1nTrTkW2fJH8Qkcvq2NvSu6SL9GaQMLWCB4+fSBJ3QJMqqrrun8Ps4ijmLs/gm3eO1YMsm+Ni56Hkx171ueLgYt8SvLgljp/4YlahDG/3VPCl4Z/EJz1KMIiiFvFexsWqdzDJQk5iiWsjm0ohG3N8mtcBZSRtNeJRsCH4St6Q7+7xbJB92aja0Cva9QeNNm6h3ZJfnD46enVk6yj4QyJiv9jPtOsPPO34uk6d6cgK6PiDjmwigr0tv0u6S5cHCd7XPBY/RvSb25+yV0ZH1yquvPEhhi//CWd/+QHsKeDuG+ck+daw851w6f7HuBs670H1ub7cw4/wV2EJZW2uDycOyZ6/t+TGTQBVFK+GX+zlq97pYJOhTcAuyjZ35KjfUWQ/Cq59CSXwEcz+1GXpXjTK3d9HHNr245ZR4F7Gse+VxK1YQQeU7GVW+KpRtiH4cqgWMRV5abRpQ49pyx902lin3filiohwGVeLVU5WR6+GLDT8Qatf7G/a8weOZr6uU2c6sjro+IOOrJa9Lb5Luo0YrCAGvNUD+aZWmB0E+WkELoYj/r2dAcvBLgLdiH8lXXzQYpA3ei0IXAS/uyHYiSAGKSo9V5TzdjfMyXZB7EESmrpOEHxlmH40uh9QIwaZ1SN4I6cS+lG4jh+QE0ThipFD9UheLvLdNPxrXDBOLQjQCYJ85Kke18MF+8gi6kUzlIKudG2o6+Tqoh6R3KINXaYb/qDcxp4C9XZzGtd5u+JkdfQqyWr6g1a/2Cd0xR8YU/Z1nTrTkWXMa7+gjYLdKPV2rEUDZJv6g6asnr2675LuwPtD80HC48Z2v/oPos4g4fET9mB9hU2M+Dr8NDylOUBQ1CXdjfE4al9Dbqv+Q+6VcYbZYl6F58bLjbIJWZ30OCHmJRBE5AZbcYIOFA2u9TqA6NQ1p7E9B/AjeOO2C9W4l4yfDNMKb2Ord76kJET/1hxm+lHCdb1x2+Nijz3laMUGVvM6c6ds6DLokj8otTEnq9xueynbgj9o9Yt9ALrlDxq+rlNnWrL1rbmSJNqr4g8tyOrYq/Uu6RLg/KHpH3h6VpH+4apnmLg/8EQcTOL+oA9xMCF/IHh4f+hyTIIKq7hSP50wJtGfnSYIgiCInkMzCTSTQBxA6MuR4CF/IHj22UwCQRAEQRD7kQM7k3DQoJkEgoe+HAke8geCh2YSCIIgCIJoSmp3d7c+fDxy5Ej4LkEQBEEQB47d3V2AlhsODrTcQPDQ9DLBQ/5A8NByA0EQBEEQTaFBAkEQBEEQUmiQQBAEQRCEFBokEARBEAQhhQYJBEEQBEFIoUECQRAEQRBSaJBAEARBEISUp2KQ8OjmSZw4dBK3d8Q7Kqziyhj9Ncl4XJTtLLKpFFKpFFKpLAp2Ga4oFotGfreMQjbryzWRFSkXvDyFsngHAODaBc6GFLLZAuyyRLNbhl0I25At2JCJRmVT8bI6NtRxYWc9G+wksZ6i0Z4xKNdDxB+S69ejhTpL8p1IG8f5QxkFzs5wKiCiOaI3oWyRetCv8+7Rvj94JLRb0D5NUqj5IvUraTdtvfptrNxuEdkEf9hnPBWHKbXzFxvX5vowuziKiaU/4b+fTuOwKHBAiDtMqVxIIV8CDNPC/PgAtu9dQrFUBUwHbCEnikdQzu/ayGaKqMKAaU1ifAC4d+kOStUqYFioVWaR5hWHKKOQyqMERPXyNhgmJufHMbB9D5fulFCtAqbD0BAP9BgwzMm6vXdKVVRhwmELaGiWyG7fw51iCVUYsGoVzHIGq9vg45ZRmMqjVAUg0ddtUjGH5yi3ZwzK9cD5g2EOYQgAsIENaVsEeVqpsyTfkbRxE3/YsBzMD3AqAAAZZHJpzn8leuN8p61+0Tm65Q+AQru5NgpXN7kLAhsleI8M/EdSv7J2a1GvUhvrtFsrvr7HhPyBcQBgDx4/iaTl9a3INd3Ujo7ly6MMGGVz69F7yWmFTQAMUyuSewcrCU3t4ZgMAIPpCJfBAINZtdDlKMr5a8wywACThSUZq1kGA8CM2IcFef0kPCuwIZrfz2dYLLjjPUtSrprFDEFHtAw+vmzIDg0bWM1hZlAew2Rm3HO6TDf9QaUeYnXKdLRcZ8m+o+MPwTXR/WTEli3iO+30i87SFX9oud14or6j1W6xRPWqt7Feu8XWl8zX9wm8PzRfbti5gXePH8OV++INDTqhow2GB3oxFn/6KN8reSP7i+FxbO6iBQNV3PkkeS5MOb/7Ce5UAcO6GBkxp2cXYRlA9c4n0mk6155CsWrAqjkwxZtwYV8qATAxH/mkTGO2wsC4EX1tswpgCBF3SA/4o/sAF9sbAIxJnFGQ1bEB2MZG1YBpOahVFjAekt9blNtTik49JNRvbhwmRH9orc6SfUfHHwIMDGbEayIJZRP1ttEvekF7/oCW2y1E+SqKVcCcb6UfJyDR66HQxlrtluAPUl/ffzQfJDzN7Gzv68rfW3znTehsyc6rkb+2iaog0iCNgSEA1U3UxFuujaliFYa1GDOtXMNmFYA5HumsMjKDBoAS7omLi+V7KAEYqhdE/FHj8GWN+ptEzwakZ1FhFSzM5qK69xSN9pSiUw8J9SujlTpr6js6/tDMh3kSyib6TqLOhH7RE9r1hxbbLYQ/8DQs8OMUrXaTIteb3B4ciXJiuyX4w1NCwiDBxe2xPpw4fh7fALj7hiT4b2cVt+dOetf9ND13A2v1AMPmOh7dv9EILDzUhxOHTuLKzUTXU2JtrvHcb945FnkudriAxkN9ODF2Elfuh5+7NteHE4fOYS0IfnwWAx+NQUQHzhkMGuK1GFTyZwaRpM7r9BvYDlW/C3uqiKphYTHuLe9uYyN46YqBQdksCkJUUDDKL+X9IKeyF/yUzZdgmE40bsDHdcsR2Upgk6YN+x6V9pTRqXoI9EyeaeOlquA7LfnDEFArIJvlgs+yhcTgs0Tfaalf9JhW/aETxHzt67ebQIxeD4U27lS7dcTXu0/CICGNFy+swL48g2EAw5dXYC+twP61X5ydG5g+/iquLwJzS/69yzPA4nnMHj+HNUUd775xHncHr2F5fQvL61uwp4C777S/NPGjX3PPnboWee708VdxFzOwg+cOAnffOIbpyADlW3w49ircwRlMNB2hPk34X35JJH7FaOQPvjyKVyURwt4XH1DFJvew+lTxoqwj+/gj+uqdKaQyeWxgCJblwLFMGKiilM8gGwqlTmN20YJpVFEtFZHP51EsVVE1TMwLU6o8tav5kOzkOPfa1LZhv6LRnjI6Ug/+jzsMTEbmZtVR8h1Ayx/c7Q0AJRTzGxiatOA4DizLBKol5DOSiH2fRN9poV/0jjb9oW1ivvYBrXaLEq9XuY070m6d8fWeIAYriAFvD9avsWGATSyFr9tTkAcT+vKhYMEYHQ+kAY3RYMOWAxf95w5fDj/Ds32G2YK8eN37t9zupy1FA5McZkII3KkTH5jTQC9/ENADw2Cm5TDHsZhp+kE+hvffRjyXLADJf54kYFAaFBTI82UIAoVMh7O5xhzfDpWApUC2bpuuDQKxQU1dpuP+0GY9sHpdNG+HxDpT9R2m6Q81hzkOLxdcF4MR45D4jm6/6CId9wcJie0m4reNtOw67SaSpFejjdttN1Vf3yt4f0iYSUjCxfebAEZex4vilsT+PF4eAbC5jUfCLRmH+9MAXDzaWcXa/VWs3e92HMEqPl8EMHUMP9px8YhLGBgF8C2+D53HMINTp/l/PysoTBlKpxoD9PKnZyuoOf5XZTGPfL6IjY0hODWGxUlwAUNlFDJFVPlp2Tj8aT/5unMOFy1+2q+MQt77glhc4NdI08gtBNOXkr3QIRqy9a8ILRv2M3rtGaGtenAbW+2sWvPp4lg0fEfXH9I55HKStfX0GUwaAEr39H1Hq1/0mjb9oS0aQbDjEV/QbLcQSXr12rj1duuUr/eOlgcJOw8BDA5Izh1I47lBAA+38B/iLZF6XMAxvHbu9/jc+RifOx+JUt1h8TxeO34slGbf8RZJDhTSKUOFqcYAjfzp3AIqFQbGvFSpLCCXDkcrlwve/mdzECiXvfVcL3nrd9jY9v7N/dhUE+f1/Gm/xPW/NM5MJv2I8chllWx4GtBoTxn69eDCzmaQLxkwnZrCj3s8Wr7TQX8YUA6pl+tV6Rd7Rpv+0BJ+zIBs90Bb7ZakNxF5G+u3W+d8vZe0OEhIoz92tiCYZTiGH4m3Qri4fe5V3H04A3v9CR6sfom3r3+At6//VtL4XWBqBQ8eP5Ek/QObnk4Cx5d0qMSOGNBu/oAyvJ1W/FdJMDrnU9GLKK56a5CXPnEbI/wN+eyT11nDI/rkHzEf10Y2lYpdQ/f0+rRgw/6kzfZsqR68l6a3TbGChVysdg0UfSeQVvEH+CfxyU5srO8CCP6p4TuJyPpFL2nTH1omaSttA7V242mmV6ONE4lrt274em9QHiS4Lu8pwWzBR/ireFTyjoPPYmYZwjr82Yipn2K0pz/KYzg1BWDxYz+4ksdfdjgg5MZNAFUUr4Y7RvmqLKDGRdkOHyOqnN9/cco6oGtfQgmNSOPcQmNkHk7+XnfT8Ubts+nGl0O1iKnISznorP7+ZH7KUBRFGVeLVU42aYuXoFfHhn2OcnsCEn/QrAe3jAL30pS+tzXR8h0dfwim3mWy/p75+tZPHd/R6Bd7QXv+0CLNvva12o2/1USvThvrtlsXfL2niMEKYsBbPRBxZIbZSyvMDgINg+sYZXNLK969yzP+NSEoUKpji82NePknlrbY8vqWl39kNBr4uDTDALDhqRVmL4mBjgkpJnCRt2fOf/byUnDtGlv25cRAxqc5RQOTPIIAGsO0mOM4zPKDb8RArEBODGTSzW8YJrMcP9DHP43NUIreiQk+407Vq+u2TGYYXpBUSNwxvQAkGCF7g2uiLILrli9rNfKHzdCwgTUCpBzH8fMFwU8Oc2qRsKmu0B1/UKyHWhDIyJVbkkI10VadxfiOjj8EwWu8P9RlhQA+Dd9pv190hu74g267KQZE6rQbY+p6NdpYud1a8fV9AO8PzQcJj5+w5fqPv7hrYYXNTY36HcJLw1PXmC3ZhSDVsb7CJkb4vCtsWbK74cHjLWYHz+F+xJumuEFC/dlR23ndB2GQEEQFex2h4cwRp/U7ZvTFpZifMVZzgh8MPxkGMx2ZpIyYFz1jng31l7CXDMNkUtU1h5l+9HFHZTVsqEdGy5K0fJ0H3fSHZvVQ/xFNSuEo+PbqLMF3dNq4xv1IBrKmFSurqre9ftEZ0CV/0Go3nWOKNepXV69qGyu1Wwu+vh8A5w9PxR94Iton7g88EQeTuD/oQxxMyB8IHt4fnsJBwiquHHoVd8XLPFMreHB9TLx6oKFBAsFDPwoED/kDwfOUDxKIVqBBAsFDPwoED/kDwcP7g/LuBoIgCIIgDhY0SCAIgiAIQgoNEgiCIAiCkJLa3d2tL0QdOXIkfJcgCIIgiAPH7u4uQIGLBwcKXCR4KFCN4CF/IHgocJEgCIIgiKbQIIEgCIIgCCk0SCAIgiAIQgoNEgiCIAiCkEKDBIIgCIIgpNAggSAIgiAIKTRIIAiCIAhCSncHCTs3MH2oD9M3XfEOsW9wUbazyKZSSKVSSKWyKNhltNxi5YKnp1AW73C4sLPes+yEB7l2gbMrhWy2ALvMZQie1SSFTHHLsAtZ7n4W2YINXm0sHSlbGQWJjV4qIElzb2jXH1rJ36zOZO2Wim83t4xCNtzGsTZE9Cb4Q0Rvsg3K9tZRqIee00p78ujlb9rn64I69atng4dCW0Rs6JzvKMv2gO4OEoh9T7mQQb5YBUwLjuPAMoFSMY9M4g9hHGUU8iXxYhi3jEI2g2JVvBGmXEghUywBhgnLceBYJoASivlM40c/MwjTNOOTIShFGYVMHp7aRnlRKiKfafYD3bmyAYBhOXAcMV1ERhTsMe36g3Z+pTqTtJunGPmM8BJ3bWQzeZSqgGlZcBwLpuHbkLWFHwaJ3jh/4PQadR8z5LIyvXH2BijVQ+/Rbk8BnfxKfd6T1KpfHRsA1baQ2NAJ39GR7RWMAwB78PhJ59L6NTYMsOHLW9F7lHqahKb2cEwGgMF0hMtggMGsWuhyE2rMMuDpk+hkNYeZwX3DZGbSM3y7jMhN/xmGxcQ7UaKyNcuQP7NmMUP6vIAOls1/lqii13TFH3Tya9SZND9r1GXjeUE7mUysXq/tw22s4w+xNkh8NVY2Yq9ePXSTPfcHST16RPuxND+LqV8dGzTaoue+I5HtJrw/tDmTIBsSE08L5XslAAasi7nQ9dxFCwaquPOJevu69hSKVQNWzYEp3gQAbGOjasC0HNQqCxgXb9dxYV8qATAxP5sW7qUxW2FglVmIdyKUr6JYBcz5hmxtswpgCANi5vQAhoRLPJ0rW4CBwb2eMpDQrj/o5VetMxfbGwCMSZxp1m7uJ7hTBQzrIsIWAOnZRVgGUL3zSf2tpe4PCTbkxmGC15sgG9ELjXroPXrtGUU9v06f16tfdRug1RY9952IbO9ocZDg4vZYH04c+gVu74j3iKcD3yETHF3ZIV0bU8UqDGsRkT4ekJ5FhVWwMJtr8gNfw2YVgDkeedGr4790DAv8uyEzaAAo4Z44Z1e+hxKAoUhFdLpsAGqbSJzF3DPa9QfN/Mp1Jv5IcPjtZgQjrsS6TWNgCEB1EzX/iro/JNgQIUFWtBc69dBrNNszgk5+nT6vU786Nui1Rc99Zw9RGiQ8unkO04f6cMJP04eO4bPBa1he/xPO9vtCOzdwZYyTmVvFI0EPADy6eRInDp3E7R1B79i5yIBDR5ZoEWNQsg6ewWBkPT8OF/ZUEVXDwmLsr6gG7jY2go4uBvBksyioRO9IZhGAxtdkKe8HGJW9wKNsvgTDdLAQeUN1uGx1hoBaAdlsOEBLpWhdp11/aDd/E1y3HGm3StA2mUEkPcZ7sW9g269nfX+QEPjr5Bnpiz3R3qeBdttTJX8bfV6pflVs0KQXvhNCR7bDNB0kPLp5Eq+98y3SS1t48PgJHqyv4OUR4JtNAP2+uTs3MH38PO5iBnNLK7CXVvAyfo93z30kqqvz2bmTeHf7GGaWVmAvXcPwww9x/bg3IBDRkSVU8UfvSXBfXXHUp+IXOzT69b8Gq3emkMrksYEhWJYXxGSgilI+g6wYmRRCPovgkcbsogXTqKJaKiKfz6NYqqJqmJiPCne+bADc7Q0/GGsDQ5Nc0FW1JA266h3t+kO7+dWoXc2H2m1ynP8q978Oi1ejAV7+jBBQxWbdCD1/iOIPImFgMjI/7JFo776m3fbUyN9Gn0+uXw0btOm+7zTQke08TQYJLv56bw2Y+i3ePu0b1z+GsxdmgIcf4a/+j/Tav5zHNxjF3Acf4OzpMYyeHsPZ61/if174Mb4J6QtYQ/rCn3Dr+m8wenoMo6d/g1tLMwDW8NmnojPoyBI9RWUqvlWqgFVjqFQWMDubQ252AZWKFxMg/REIiJlF8O4VkMoUsTHkoMYYGGNgrAZnaAP5jLhVsjtlS5+Zh+M4qLEKFmZnkcvlMDu7gErNWyMtXo0tGQEgtxBut2LoBySHi5Y3DZzPetvcymUbhUIWqUwRMIRPRx1/kFAueBHwplOJ9ZFke4kQLfT5PavfHvhOgI5sN2gySFBhFZ8vAhh5HS8GSw8+h48ew3D4ks8o+o8KpT39U0wA+CaYC6yjI0uoozDdJp2mCyijkCmiKpveawd/ylj+4xz8CDSmjMM0AqDGI4N5fwujYWFxgV9zTCO3EEwdBluMulQ2AEjnkMtJ1jzTZzBpACjdk74Mu0+7/tBufl0a7cb/gKRnK6g5/hdoMY98voiNjSE4NYbFSaARNKrjDyIuyoUUvOw1tanlGHv3L+22p0b+tvp8gKx+NWzQole+oyPbPZoMEtJ4cXwUWPw9rtz3W2hnFbff+zA6KBgcwGHun/qk0T8CYHNbGssQRkeWSEQ63dZ8mq5cyKMEA+YgUC5764Je8tbOsLHt/TuxY8dTbcwJS+CnjDn8WQRZdHvyml4aZyYbL6Jul02OH1i317ToD3Xaza9FuN3qV3MLqFSCrzvvyzSXFiLSNfwhjAs7m0G+ZMB0apqDyCS9+5R221Mjf0t9PkRM/WrYoERPfEdHtrs0GSQAh1/5LSZG1nD3jWNe0ODxV/HZ4DXYH/wmPCho+wfbxc5D1cGGjiwhJ/hRkjhzYifgCb7W+FT0Isyr3jrdpSbbpCIEX9Qb29LIae9FL9tCmLSNqkHyi4inC2ULTluUzkUGkdh7Rbv+0G7+GFwb2VQqdgrZ8wcVyvB2w4W/HNX9AfUXt7cdtoKFnKQ0HbN3r2m3PTXy6/R5rfrVsKEFOu47dXRku0+TQYKL2+dehTvuBy366db132C0PoswhlNTCMUo1PluKzYmYec74dL9j3EXwHBkr4qOLKFDbtwEJOvg5auyIBkXZbtxNGhjLVBM/lkCpuN9xSX8YMvxR+LVIqYiL4LgRS/ZR5w0iwDuRVS6J5kBKONqsVrX272y+dOfMhv8Pf5q28C6Qzv+AO38isi2qtUR/MH/AZENwlz7EkrgYlU0/AEAdwqf9+KObXode/c5eu3Zjj9o9HnN+lW3QYNu+Q40ZXuFeMpS+KS+LTY3AjZ8eYUtS07xq6elGe+UqpEZNre0wuylFTY3NcqGR0YjJy4uXx71ZUfZ8NQ1Zi+tMPvyDBsGGDDDbE6vjiyl5CQ9Ua1+wheYYVrMcRxmmd7JdPITylROO3SYKcnPmHeimeN4yTsZz2Cm5V+rhY4+q59waBgmsxyHOZbJjCBPRHX8SXshHNM7kQ1GqLzBtahekQ6ULTgVDgYzLdGGJvZ3kG75g2p+xjTqLDg1j68zq9GW4QP2BL9xrPopeoZog6o/1Px25+2TpLrFGvYyplEPXWTv/UGjz2vWr7oNGm3RDd/Rke0yvD80GSQ8YQ8eb3k/zCP+j349zbC59Ybc8tI1NjHiOwrAhqdW2LLkWGbvh3+Uza1vsbkpfxAAb4Bhc/p0ZSklJ77Rw9SYU3fuhoNGHNHvFJEXbYT4H9LgaFxpisjXvJcEJ2MYJnMihjVeGkpHltYcZhphO2L1RuhQ2WrciyqwwbQUbegM6Jo/KOZvoc5U263mBD8ufjIMZsoEmaLe+o9SUpId8dtEbyCqUw9dAvvAH7T6vEb96tig1RYqNuj4jo5slwHnDyn/AgAglUrhweMn3DyDi9tjx7Bz4QnePs1drp+f8GPYjz/AaPhWIl4+YG79y8ZBTDHoyBLJnDjUB66piQNOKpUifyDqkD8QPLw/JMck3L+G6w9H0X9UvBHwLb4X4xAIgiAIgngmSB4kHD2GYazh+rlzWNtx8ShI98/h3XfWotsgCYIgCIJ4ZkgeJPT/BrfWVzCBbzF7/BheC9J73wJTK1heFbZBEgRBEATxzNAkJoF4VqCYBIKH1qAJHvIHgkc9JoEgCIIgiANLand3tz58PHLkSPguQRAEQRAHjt3dXUBcbvj+++/x3HPP8XLEMwK1LcFD/kDwkD8QPLw//P+cuC2HShfkeAAAAABJRU5ErkJggg==)\n",
        "\n",
        "Conclusion:\n",
        "\n",
        "![image.png](data:image/png;base64,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)\n",
        "\n",
        "Colombia belongs to Cluster 2, a group of countries that can be considered emerging development, not as far behind as Cluster 1, but still far from being developed."
      ]
    },
    {
      "cell_type": "code",
      "execution_count": null,
      "metadata": {
        "colab": {
          "base_uri": "https://localhost:8080/"
        },
        "id": "_mbJi_SctfbZ",
        "outputId": "5f2cb8a3-56c3-41a0-fbaa-65803f027bc1"
      },
      "outputs": [],
      "source": [
        "df_scaled['cluster'] = labels\n",
        "colombia_cluster = df_scaled[df_scaled['country'] == 'Colombia']['cluster'].values[0]\n",
        "print(f\"Colombia pertenece al clúster: {colombia_cluster}\")"
      ]
    },
    {
      "cell_type": "markdown",
      "metadata": {
        "id": "51P63DAZtiLa"
      },
      "source": [
        "## Decision Tree\n",
        "\n",
        "In the decision tree, the variables in order of priority are:\n",
        "\n",
        "### 1\n",
        "* child_mort: Death of children under 5 years of age per 1,000 live births.\n",
        "\n",
        "### 2\n",
        "* gdpp: GDP per capita. Calculated by dividing total GDP by total population.\n",
        "* total_fer: The number of children each woman would have if current age-specific fertility rates remained the same.\n",
        "\n",
        "### 3\n",
        "* total_fer: The number of children each woman would have if current age-specific fertility rates remained the same.\n",
        "* life_expec: The average number of years a newborn would live if current mortality patterns remained the same.\n",
        "\n",
        "This result might make sense when compared to real data from Colombia."
      ]
    },
    {
      "cell_type": "code",
      "execution_count": null,
      "metadata": {
        "colab": {
          "base_uri": "https://localhost:8080/",
          "height": 461
        },
        "id": "KHem5Hv8tkq3",
        "outputId": "2c44cdd1-5905-4a96-83e2-4be4ed563528"
      },
      "outputs": [],
      "source": [
        "X = df_scaled.drop(columns=['country', 'cluster'])\n",
        "y = df_scaled['cluster']\n",
        "\n",
        "clf = DecisionTreeClassifier(max_depth=3, random_state=42)\n",
        "clf.fit(X, y)\n",
        "\n",
        "plt.figure(figsize=(20, 8))\n",
        "plot_tree(clf, feature_names=X.columns, class_names=[str(i) for i in clf.classes_], filled=True)\n",
        "plt.show()"
      ]
    }
  ],
  "metadata": {
    "colab": {
      "provenance": []
    },
    "kernelspec": {
      "display_name": "Python 3",
      "name": "python3"
    },
    "language_info": {
      "name": "python"
    },
    "widgets": {
      "application/vnd.jupyter.widget-state+json": {
        "03dc5d2f6a3a4144b6f7ab2acb2d384a": {
          "model_module": "@jupyter-widgets/controls",
          "model_module_version": "1.5.0",
          "model_name": "FloatProgressModel",
          "state": {
            "_dom_classes": [],
            "_model_module": "@jupyter-widgets/controls",
            "_model_module_version": "1.5.0",
            "_model_name": "FloatProgressModel",
            "_view_count": null,
            "_view_module": "@jupyter-widgets/controls",
            "_view_module_version": "1.5.0",
            "_view_name": "ProgressView",
            "bar_style": "success",
            "description": "",
            "description_tooltip": null,
            "layout": "IPY_MODEL_b617f225644d460a8e43be9bbaad5872",
            "max": 1,
            "min": 0,
            "orientation": "horizontal",
            "style": "IPY_MODEL_f574e5a903844748bcfd1a9fd9ce9db3",
            "value": 1
          }
        },
        "1065e24a940a4303a7149f3386d24590": {
          "model_module": "@jupyter-widgets/controls",
          "model_module_version": "1.5.0",
          "model_name": "DescriptionStyleModel",
          "state": {
            "_model_module": "@jupyter-widgets/controls",
            "_model_module_version": "1.5.0",
            "_model_name": "DescriptionStyleModel",
            "_view_count": null,
            "_view_module": "@jupyter-widgets/base",
            "_view_module_version": "1.2.0",
            "_view_name": "StyleView",
            "description_width": ""
          }
        },
        "129a98689882477bbf2fe1f953180db0": {
          "model_module": "@jupyter-widgets/controls",
          "model_module_version": "1.5.0",
          "model_name": "DescriptionStyleModel",
          "state": {
            "_model_module": "@jupyter-widgets/controls",
            "_model_module_version": "1.5.0",
            "_model_name": "DescriptionStyleModel",
            "_view_count": null,
            "_view_module": "@jupyter-widgets/base",
            "_view_module_version": "1.2.0",
            "_view_name": "StyleView",
            "description_width": ""
          }
        },
        "14ccfb97cd744d2684e5b67b7b01ac17": {
          "model_module": "@jupyter-widgets/controls",
          "model_module_version": "1.5.0",
          "model_name": "DescriptionStyleModel",
          "state": {
            "_model_module": "@jupyter-widgets/controls",
            "_model_module_version": "1.5.0",
            "_model_name": "DescriptionStyleModel",
            "_view_count": null,
            "_view_module": "@jupyter-widgets/base",
            "_view_module_version": "1.2.0",
            "_view_name": "StyleView",
            "description_width": ""
          }
        },
        "1edc5049f0904c449c677640ba44ae97": {
          "model_module": "@jupyter-widgets/controls",
          "model_module_version": "1.5.0",
          "model_name": "HBoxModel",
          "state": {
            "_dom_classes": [],
            "_model_module": "@jupyter-widgets/controls",
            "_model_module_version": "1.5.0",
            "_model_name": "HBoxModel",
            "_view_count": null,
            "_view_module": "@jupyter-widgets/controls",
            "_view_module_version": "1.5.0",
            "_view_name": "HBoxView",
            "box_style": "",
            "children": [
              "IPY_MODEL_cfa3b1f0684d499ba332b9bb8e35c21a",
              "IPY_MODEL_03dc5d2f6a3a4144b6f7ab2acb2d384a",
              "IPY_MODEL_d0460309e2874e0b99e2dbc565e35d38"
            ],
            "layout": "IPY_MODEL_5a982ecf859948708b1d0e1120563df4"
          }
        },
        "2be910b2a6bf49649dfe5fa6c4c626de": {
          "model_module": "@jupyter-widgets/base",
          "model_module_version": "1.2.0",
          "model_name": "LayoutModel",
          "state": {
            "_model_module": "@jupyter-widgets/base",
            "_model_module_version": "1.2.0",
            "_model_name": "LayoutModel",
            "_view_count": null,
            "_view_module": "@jupyter-widgets/base",
            "_view_module_version": "1.2.0",
            "_view_name": "LayoutView",
            "align_content": null,
            "align_items": null,
            "align_self": null,
            "border": null,
            "bottom": null,
            "display": null,
            "flex": null,
            "flex_flow": null,
            "grid_area": null,
            "grid_auto_columns": null,
            "grid_auto_flow": null,
            "grid_auto_rows": null,
            "grid_column": null,
            "grid_gap": null,
            "grid_row": null,
            "grid_template_areas": null,
            "grid_template_columns": null,
            "grid_template_rows": null,
            "height": null,
            "justify_content": null,
            "justify_items": null,
            "left": null,
            "margin": null,
            "max_height": null,
            "max_width": null,
            "min_height": null,
            "min_width": null,
            "object_fit": null,
            "object_position": null,
            "order": null,
            "overflow": null,
            "overflow_x": null,
            "overflow_y": null,
            "padding": null,
            "right": null,
            "top": null,
            "visibility": null,
            "width": null
          }
        },
        "39c94614c9d44d1fbb099d064f2a8599": {
          "model_module": "@jupyter-widgets/base",
          "model_module_version": "1.2.0",
          "model_name": "LayoutModel",
          "state": {
            "_model_module": "@jupyter-widgets/base",
            "_model_module_version": "1.2.0",
            "_model_name": "LayoutModel",
            "_view_count": null,
            "_view_module": "@jupyter-widgets/base",
            "_view_module_version": "1.2.0",
            "_view_name": "LayoutView",
            "align_content": null,
            "align_items": null,
            "align_self": null,
            "border": null,
            "bottom": null,
            "display": null,
            "flex": null,
            "flex_flow": null,
            "grid_area": null,
            "grid_auto_columns": null,
            "grid_auto_flow": null,
            "grid_auto_rows": null,
            "grid_column": null,
            "grid_gap": null,
            "grid_row": null,
            "grid_template_areas": null,
            "grid_template_columns": null,
            "grid_template_rows": null,
            "height": null,
            "justify_content": null,
            "justify_items": null,
            "left": null,
            "margin": null,
            "max_height": null,
            "max_width": null,
            "min_height": null,
            "min_width": null,
            "object_fit": null,
            "object_position": null,
            "order": null,
            "overflow": null,
            "overflow_x": null,
            "overflow_y": null,
            "padding": null,
            "right": null,
            "top": null,
            "visibility": null,
            "width": null
          }
        },
        "3a9fd0cb6de145b987e68d4e4721a543": {
          "model_module": "@jupyter-widgets/controls",
          "model_module_version": "1.5.0",
          "model_name": "FloatProgressModel",
          "state": {
            "_dom_classes": [],
            "_model_module": "@jupyter-widgets/controls",
            "_model_module_version": "1.5.0",
            "_model_name": "FloatProgressModel",
            "_view_count": null,
            "_view_module": "@jupyter-widgets/controls",
            "_view_module_version": "1.5.0",
            "_view_name": "ProgressView",
            "bar_style": "success",
            "description": "",
            "description_tooltip": null,
            "layout": "IPY_MODEL_b447e2d60ff145e39e19430011bdee0f",
            "max": 1,
            "min": 0,
            "orientation": "horizontal",
            "style": "IPY_MODEL_c1bbd975c18d4c658ee803996aef41e6",
            "value": 1
          }
        },
        "3fb366bb941249a1b790a9174e658c22": {
          "model_module": "@jupyter-widgets/controls",
          "model_module_version": "1.5.0",
          "model_name": "FloatProgressModel",
          "state": {
            "_dom_classes": [],
            "_model_module": "@jupyter-widgets/controls",
            "_model_module_version": "1.5.0",
            "_model_name": "FloatProgressModel",
            "_view_count": null,
            "_view_module": "@jupyter-widgets/controls",
            "_view_module_version": "1.5.0",
            "_view_name": "ProgressView",
            "bar_style": "success",
            "description": "",
            "description_tooltip": null,
            "layout": "IPY_MODEL_39c94614c9d44d1fbb099d064f2a8599",
            "max": 5,
            "min": 0,
            "orientation": "horizontal",
            "style": "IPY_MODEL_9d2d0df243cc48dfb85aae9ef446ebf1",
            "value": 5
          }
        },
        "4eaebbb7b3434eedafa42961a18b6ff6": {
          "model_module": "@jupyter-widgets/base",
          "model_module_version": "1.2.0",
          "model_name": "LayoutModel",
          "state": {
            "_model_module": "@jupyter-widgets/base",
            "_model_module_version": "1.2.0",
            "_model_name": "LayoutModel",
            "_view_count": null,
            "_view_module": "@jupyter-widgets/base",
            "_view_module_version": "1.2.0",
            "_view_name": "LayoutView",
            "align_content": null,
            "align_items": null,
            "align_self": null,
            "border": null,
            "bottom": null,
            "display": null,
            "flex": null,
            "flex_flow": null,
            "grid_area": null,
            "grid_auto_columns": null,
            "grid_auto_flow": null,
            "grid_auto_rows": null,
            "grid_column": null,
            "grid_gap": null,
            "grid_row": null,
            "grid_template_areas": null,
            "grid_template_columns": null,
            "grid_template_rows": null,
            "height": null,
            "justify_content": null,
            "justify_items": null,
            "left": null,
            "margin": null,
            "max_height": null,
            "max_width": null,
            "min_height": null,
            "min_width": null,
            "object_fit": null,
            "object_position": null,
            "order": null,
            "overflow": null,
            "overflow_x": null,
            "overflow_y": null,
            "padding": null,
            "right": null,
            "top": null,
            "visibility": null,
            "width": null
          }
        },
        "577e8eb3721b4dbdad5366806df350c5": {
          "model_module": "@jupyter-widgets/controls",
          "model_module_version": "1.5.0",
          "model_name": "HTMLModel",
          "state": {
            "_dom_classes": [],
            "_model_module": "@jupyter-widgets/controls",
            "_model_module_version": "1.5.0",
            "_model_name": "HTMLModel",
            "_view_count": null,
            "_view_module": "@jupyter-widgets/controls",
            "_view_module_version": "1.5.0",
            "_view_name": "HTMLView",
            "description": "",
            "description_tooltip": null,
            "layout": "IPY_MODEL_5b880c48e81c4e92baac3d29ae2ecaa2",
            "placeholder": "​",
            "style": "IPY_MODEL_9c62ee46d6874b029256adbb2318a89f",
            "value": " 1/1 [00:01&lt;00:00,  1.60s/it]"
          }
        },
        "5792915812c24a4cbadab68bdeeef52e": {
          "model_module": "@jupyter-widgets/controls",
          "model_module_version": "1.5.0",
          "model_name": "HTMLModel",
          "state": {
            "_dom_classes": [],
            "_model_module": "@jupyter-widgets/controls",
            "_model_module_version": "1.5.0",
            "_model_name": "HTMLModel",
            "_view_count": null,
            "_view_module": "@jupyter-widgets/controls",
            "_view_module_version": "1.5.0",
            "_view_name": "HTMLView",
            "description": "",
            "description_tooltip": null,
            "layout": "IPY_MODEL_65da5dd387174ccfbab1bb4696b92751",
            "placeholder": "​",
            "style": "IPY_MODEL_1065e24a940a4303a7149f3386d24590",
            "value": " 100/100 [00:08&lt;00:00,  9.58it/s, Completed]"
          }
        },
        "5a982ecf859948708b1d0e1120563df4": {
          "model_module": "@jupyter-widgets/base",
          "model_module_version": "1.2.0",
          "model_name": "LayoutModel",
          "state": {
            "_model_module": "@jupyter-widgets/base",
            "_model_module_version": "1.2.0",
            "_model_name": "LayoutModel",
            "_view_count": null,
            "_view_module": "@jupyter-widgets/base",
            "_view_module_version": "1.2.0",
            "_view_name": "LayoutView",
            "align_content": null,
            "align_items": null,
            "align_self": null,
            "border": null,
            "bottom": null,
            "display": null,
            "flex": null,
            "flex_flow": null,
            "grid_area": null,
            "grid_auto_columns": null,
            "grid_auto_flow": null,
            "grid_auto_rows": null,
            "grid_column": null,
            "grid_gap": null,
            "grid_row": null,
            "grid_template_areas": null,
            "grid_template_columns": null,
            "grid_template_rows": null,
            "height": null,
            "justify_content": null,
            "justify_items": null,
            "left": null,
            "margin": null,
            "max_height": null,
            "max_width": null,
            "min_height": null,
            "min_width": null,
            "object_fit": null,
            "object_position": null,
            "order": null,
            "overflow": null,
            "overflow_x": null,
            "overflow_y": null,
            "padding": null,
            "right": null,
            "top": null,
            "visibility": null,
            "width": null
          }
        },
        "5b880c48e81c4e92baac3d29ae2ecaa2": {
          "model_module": "@jupyter-widgets/base",
          "model_module_version": "1.2.0",
          "model_name": "LayoutModel",
          "state": {
            "_model_module": "@jupyter-widgets/base",
            "_model_module_version": "1.2.0",
            "_model_name": "LayoutModel",
            "_view_count": null,
            "_view_module": "@jupyter-widgets/base",
            "_view_module_version": "1.2.0",
            "_view_name": "LayoutView",
            "align_content": null,
            "align_items": null,
            "align_self": null,
            "border": null,
            "bottom": null,
            "display": null,
            "flex": null,
            "flex_flow": null,
            "grid_area": null,
            "grid_auto_columns": null,
            "grid_auto_flow": null,
            "grid_auto_rows": null,
            "grid_column": null,
            "grid_gap": null,
            "grid_row": null,
            "grid_template_areas": null,
            "grid_template_columns": null,
            "grid_template_rows": null,
            "height": null,
            "justify_content": null,
            "justify_items": null,
            "left": null,
            "margin": null,
            "max_height": null,
            "max_width": null,
            "min_height": null,
            "min_width": null,
            "object_fit": null,
            "object_position": null,
            "order": null,
            "overflow": null,
            "overflow_x": null,
            "overflow_y": null,
            "padding": null,
            "right": null,
            "top": null,
            "visibility": null,
            "width": null
          }
        },
        "65da5dd387174ccfbab1bb4696b92751": {
          "model_module": "@jupyter-widgets/base",
          "model_module_version": "1.2.0",
          "model_name": "LayoutModel",
          "state": {
            "_model_module": "@jupyter-widgets/base",
            "_model_module_version": "1.2.0",
            "_model_name": "LayoutModel",
            "_view_count": null,
            "_view_module": "@jupyter-widgets/base",
            "_view_module_version": "1.2.0",
            "_view_name": "LayoutView",
            "align_content": null,
            "align_items": null,
            "align_self": null,
            "border": null,
            "bottom": null,
            "display": null,
            "flex": null,
            "flex_flow": null,
            "grid_area": null,
            "grid_auto_columns": null,
            "grid_auto_flow": null,
            "grid_auto_rows": null,
            "grid_column": null,
            "grid_gap": null,
            "grid_row": null,
            "grid_template_areas": null,
            "grid_template_columns": null,
            "grid_template_rows": null,
            "height": null,
            "justify_content": null,
            "justify_items": null,
            "left": null,
            "margin": null,
            "max_height": null,
            "max_width": null,
            "min_height": null,
            "min_width": null,
            "object_fit": null,
            "object_position": null,
            "order": null,
            "overflow": null,
            "overflow_x": null,
            "overflow_y": null,
            "padding": null,
            "right": null,
            "top": null,
            "visibility": null,
            "width": null
          }
        },
        "780938e4c754472a860de7478d135e22": {
          "model_module": "@jupyter-widgets/controls",
          "model_module_version": "1.5.0",
          "model_name": "DescriptionStyleModel",
          "state": {
            "_model_module": "@jupyter-widgets/controls",
            "_model_module_version": "1.5.0",
            "_model_name": "DescriptionStyleModel",
            "_view_count": null,
            "_view_module": "@jupyter-widgets/base",
            "_view_module_version": "1.2.0",
            "_view_name": "StyleView",
            "description_width": ""
          }
        },
        "7b102ab9464a4c36b22fc3853beb28c7": {
          "model_module": "@jupyter-widgets/base",
          "model_module_version": "1.2.0",
          "model_name": "LayoutModel",
          "state": {
            "_model_module": "@jupyter-widgets/base",
            "_model_module_version": "1.2.0",
            "_model_name": "LayoutModel",
            "_view_count": null,
            "_view_module": "@jupyter-widgets/base",
            "_view_module_version": "1.2.0",
            "_view_name": "LayoutView",
            "align_content": null,
            "align_items": null,
            "align_self": null,
            "border": null,
            "bottom": null,
            "display": null,
            "flex": null,
            "flex_flow": null,
            "grid_area": null,
            "grid_auto_columns": null,
            "grid_auto_flow": null,
            "grid_auto_rows": null,
            "grid_column": null,
            "grid_gap": null,
            "grid_row": null,
            "grid_template_areas": null,
            "grid_template_columns": null,
            "grid_template_rows": null,
            "height": null,
            "justify_content": null,
            "justify_items": null,
            "left": null,
            "margin": null,
            "max_height": null,
            "max_width": null,
            "min_height": null,
            "min_width": null,
            "object_fit": null,
            "object_position": null,
            "order": null,
            "overflow": null,
            "overflow_x": null,
            "overflow_y": null,
            "padding": null,
            "right": null,
            "top": null,
            "visibility": null,
            "width": null
          }
        },
        "9c1b4403a3154179aceca02b8b352382": {
          "model_module": "@jupyter-widgets/base",
          "model_module_version": "1.2.0",
          "model_name": "LayoutModel",
          "state": {
            "_model_module": "@jupyter-widgets/base",
            "_model_module_version": "1.2.0",
            "_model_name": "LayoutModel",
            "_view_count": null,
            "_view_module": "@jupyter-widgets/base",
            "_view_module_version": "1.2.0",
            "_view_name": "LayoutView",
            "align_content": null,
            "align_items": null,
            "align_self": null,
            "border": null,
            "bottom": null,
            "display": null,
            "flex": null,
            "flex_flow": null,
            "grid_area": null,
            "grid_auto_columns": null,
            "grid_auto_flow": null,
            "grid_auto_rows": null,
            "grid_column": null,
            "grid_gap": null,
            "grid_row": null,
            "grid_template_areas": null,
            "grid_template_columns": null,
            "grid_template_rows": null,
            "height": null,
            "justify_content": null,
            "justify_items": null,
            "left": null,
            "margin": null,
            "max_height": null,
            "max_width": null,
            "min_height": null,
            "min_width": null,
            "object_fit": null,
            "object_position": null,
            "order": null,
            "overflow": null,
            "overflow_x": null,
            "overflow_y": null,
            "padding": null,
            "right": null,
            "top": null,
            "visibility": null,
            "width": null
          }
        },
        "9c62ee46d6874b029256adbb2318a89f": {
          "model_module": "@jupyter-widgets/controls",
          "model_module_version": "1.5.0",
          "model_name": "DescriptionStyleModel",
          "state": {
            "_model_module": "@jupyter-widgets/controls",
            "_model_module_version": "1.5.0",
            "_model_name": "DescriptionStyleModel",
            "_view_count": null,
            "_view_module": "@jupyter-widgets/base",
            "_view_module_version": "1.2.0",
            "_view_name": "StyleView",
            "description_width": ""
          }
        },
        "9d2d0df243cc48dfb85aae9ef446ebf1": {
          "model_module": "@jupyter-widgets/controls",
          "model_module_version": "1.5.0",
          "model_name": "ProgressStyleModel",
          "state": {
            "_model_module": "@jupyter-widgets/controls",
            "_model_module_version": "1.5.0",
            "_model_name": "ProgressStyleModel",
            "_view_count": null,
            "_view_module": "@jupyter-widgets/base",
            "_view_module_version": "1.2.0",
            "_view_name": "StyleView",
            "bar_color": null,
            "description_width": ""
          }
        },
        "b447e2d60ff145e39e19430011bdee0f": {
          "model_module": "@jupyter-widgets/base",
          "model_module_version": "1.2.0",
          "model_name": "LayoutModel",
          "state": {
            "_model_module": "@jupyter-widgets/base",
            "_model_module_version": "1.2.0",
            "_model_name": "LayoutModel",
            "_view_count": null,
            "_view_module": "@jupyter-widgets/base",
            "_view_module_version": "1.2.0",
            "_view_name": "LayoutView",
            "align_content": null,
            "align_items": null,
            "align_self": null,
            "border": null,
            "bottom": null,
            "display": null,
            "flex": null,
            "flex_flow": null,
            "grid_area": null,
            "grid_auto_columns": null,
            "grid_auto_flow": null,
            "grid_auto_rows": null,
            "grid_column": null,
            "grid_gap": null,
            "grid_row": null,
            "grid_template_areas": null,
            "grid_template_columns": null,
            "grid_template_rows": null,
            "height": null,
            "justify_content": null,
            "justify_items": null,
            "left": null,
            "margin": null,
            "max_height": null,
            "max_width": null,
            "min_height": null,
            "min_width": null,
            "object_fit": null,
            "object_position": null,
            "order": null,
            "overflow": null,
            "overflow_x": null,
            "overflow_y": null,
            "padding": null,
            "right": null,
            "top": null,
            "visibility": null,
            "width": null
          }
        },
        "b54de9eea9e54e5e92cbd43fe9014ecf": {
          "model_module": "@jupyter-widgets/controls",
          "model_module_version": "1.5.0",
          "model_name": "HBoxModel",
          "state": {
            "_dom_classes": [],
            "_model_module": "@jupyter-widgets/controls",
            "_model_module_version": "1.5.0",
            "_model_name": "HBoxModel",
            "_view_count": null,
            "_view_module": "@jupyter-widgets/controls",
            "_view_module_version": "1.5.0",
            "_view_name": "HBoxView",
            "box_style": "",
            "children": [
              "IPY_MODEL_cc258c02cb4943c7af76757f2fbd2b46",
              "IPY_MODEL_3fb366bb941249a1b790a9174e658c22",
              "IPY_MODEL_5792915812c24a4cbadab68bdeeef52e"
            ],
            "layout": "IPY_MODEL_c82852256cb34757b580e35a6139031d"
          }
        },
        "b617f225644d460a8e43be9bbaad5872": {
          "model_module": "@jupyter-widgets/base",
          "model_module_version": "1.2.0",
          "model_name": "LayoutModel",
          "state": {
            "_model_module": "@jupyter-widgets/base",
            "_model_module_version": "1.2.0",
            "_model_name": "LayoutModel",
            "_view_count": null,
            "_view_module": "@jupyter-widgets/base",
            "_view_module_version": "1.2.0",
            "_view_name": "LayoutView",
            "align_content": null,
            "align_items": null,
            "align_self": null,
            "border": null,
            "bottom": null,
            "display": null,
            "flex": null,
            "flex_flow": null,
            "grid_area": null,
            "grid_auto_columns": null,
            "grid_auto_flow": null,
            "grid_auto_rows": null,
            "grid_column": null,
            "grid_gap": null,
            "grid_row": null,
            "grid_template_areas": null,
            "grid_template_columns": null,
            "grid_template_rows": null,
            "height": null,
            "justify_content": null,
            "justify_items": null,
            "left": null,
            "margin": null,
            "max_height": null,
            "max_width": null,
            "min_height": null,
            "min_width": null,
            "object_fit": null,
            "object_position": null,
            "order": null,
            "overflow": null,
            "overflow_x": null,
            "overflow_y": null,
            "padding": null,
            "right": null,
            "top": null,
            "visibility": null,
            "width": null
          }
        },
        "c1bbd975c18d4c658ee803996aef41e6": {
          "model_module": "@jupyter-widgets/controls",
          "model_module_version": "1.5.0",
          "model_name": "ProgressStyleModel",
          "state": {
            "_model_module": "@jupyter-widgets/controls",
            "_model_module_version": "1.5.0",
            "_model_name": "ProgressStyleModel",
            "_view_count": null,
            "_view_module": "@jupyter-widgets/base",
            "_view_module_version": "1.2.0",
            "_view_name": "StyleView",
            "bar_color": null,
            "description_width": ""
          }
        },
        "c82852256cb34757b580e35a6139031d": {
          "model_module": "@jupyter-widgets/base",
          "model_module_version": "1.2.0",
          "model_name": "LayoutModel",
          "state": {
            "_model_module": "@jupyter-widgets/base",
            "_model_module_version": "1.2.0",
            "_model_name": "LayoutModel",
            "_view_count": null,
            "_view_module": "@jupyter-widgets/base",
            "_view_module_version": "1.2.0",
            "_view_name": "LayoutView",
            "align_content": null,
            "align_items": null,
            "align_self": null,
            "border": null,
            "bottom": null,
            "display": null,
            "flex": null,
            "flex_flow": null,
            "grid_area": null,
            "grid_auto_columns": null,
            "grid_auto_flow": null,
            "grid_auto_rows": null,
            "grid_column": null,
            "grid_gap": null,
            "grid_row": null,
            "grid_template_areas": null,
            "grid_template_columns": null,
            "grid_template_rows": null,
            "height": null,
            "justify_content": null,
            "justify_items": null,
            "left": null,
            "margin": null,
            "max_height": null,
            "max_width": null,
            "min_height": null,
            "min_width": null,
            "object_fit": null,
            "object_position": null,
            "order": null,
            "overflow": null,
            "overflow_x": null,
            "overflow_y": null,
            "padding": null,
            "right": null,
            "top": null,
            "visibility": null,
            "width": null
          }
        },
        "cc258c02cb4943c7af76757f2fbd2b46": {
          "model_module": "@jupyter-widgets/controls",
          "model_module_version": "1.5.0",
          "model_name": "HTMLModel",
          "state": {
            "_dom_classes": [],
            "_model_module": "@jupyter-widgets/controls",
            "_model_module_version": "1.5.0",
            "_model_name": "HTMLModel",
            "_view_count": null,
            "_view_module": "@jupyter-widgets/controls",
            "_view_module_version": "1.5.0",
            "_view_name": "HTMLView",
            "description": "",
            "description_tooltip": null,
            "layout": "IPY_MODEL_9c1b4403a3154179aceca02b8b352382",
            "placeholder": "​",
            "style": "IPY_MODEL_14ccfb97cd744d2684e5b67b7b01ac17",
            "value": "Summarize dataset: 100%"
          }
        },
        "cc6151414a9c41bd8abac5d467cd94ab": {
          "model_module": "@jupyter-widgets/base",
          "model_module_version": "1.2.0",
          "model_name": "LayoutModel",
          "state": {
            "_model_module": "@jupyter-widgets/base",
            "_model_module_version": "1.2.0",
            "_model_name": "LayoutModel",
            "_view_count": null,
            "_view_module": "@jupyter-widgets/base",
            "_view_module_version": "1.2.0",
            "_view_name": "LayoutView",
            "align_content": null,
            "align_items": null,
            "align_self": null,
            "border": null,
            "bottom": null,
            "display": null,
            "flex": null,
            "flex_flow": null,
            "grid_area": null,
            "grid_auto_columns": null,
            "grid_auto_flow": null,
            "grid_auto_rows": null,
            "grid_column": null,
            "grid_gap": null,
            "grid_row": null,
            "grid_template_areas": null,
            "grid_template_columns": null,
            "grid_template_rows": null,
            "height": null,
            "justify_content": null,
            "justify_items": null,
            "left": null,
            "margin": null,
            "max_height": null,
            "max_width": null,
            "min_height": null,
            "min_width": null,
            "object_fit": null,
            "object_position": null,
            "order": null,
            "overflow": null,
            "overflow_x": null,
            "overflow_y": null,
            "padding": null,
            "right": null,
            "top": null,
            "visibility": null,
            "width": null
          }
        },
        "cfa3b1f0684d499ba332b9bb8e35c21a": {
          "model_module": "@jupyter-widgets/controls",
          "model_module_version": "1.5.0",
          "model_name": "HTMLModel",
          "state": {
            "_dom_classes": [],
            "_model_module": "@jupyter-widgets/controls",
            "_model_module_version": "1.5.0",
            "_model_name": "HTMLModel",
            "_view_count": null,
            "_view_module": "@jupyter-widgets/controls",
            "_view_module_version": "1.5.0",
            "_view_name": "HTMLView",
            "description": "",
            "description_tooltip": null,
            "layout": "IPY_MODEL_2be910b2a6bf49649dfe5fa6c4c626de",
            "placeholder": "​",
            "style": "IPY_MODEL_129a98689882477bbf2fe1f953180db0",
            "value": "Generate report structure: 100%"
          }
        },
        "d0460309e2874e0b99e2dbc565e35d38": {
          "model_module": "@jupyter-widgets/controls",
          "model_module_version": "1.5.0",
          "model_name": "HTMLModel",
          "state": {
            "_dom_classes": [],
            "_model_module": "@jupyter-widgets/controls",
            "_model_module_version": "1.5.0",
            "_model_name": "HTMLModel",
            "_view_count": null,
            "_view_module": "@jupyter-widgets/controls",
            "_view_module_version": "1.5.0",
            "_view_name": "HTMLView",
            "description": "",
            "description_tooltip": null,
            "layout": "IPY_MODEL_cc6151414a9c41bd8abac5d467cd94ab",
            "placeholder": "​",
            "style": "IPY_MODEL_da5d874ff7c84adabb0adcbfdea4b227",
            "value": " 1/1 [00:04&lt;00:00,  4.21s/it]"
          }
        },
        "da5d874ff7c84adabb0adcbfdea4b227": {
          "model_module": "@jupyter-widgets/controls",
          "model_module_version": "1.5.0",
          "model_name": "DescriptionStyleModel",
          "state": {
            "_model_module": "@jupyter-widgets/controls",
            "_model_module_version": "1.5.0",
            "_model_name": "DescriptionStyleModel",
            "_view_count": null,
            "_view_module": "@jupyter-widgets/base",
            "_view_module_version": "1.2.0",
            "_view_name": "StyleView",
            "description_width": ""
          }
        },
        "dad17784752b45109f75ed6ababf564d": {
          "model_module": "@jupyter-widgets/controls",
          "model_module_version": "1.5.0",
          "model_name": "HTMLModel",
          "state": {
            "_dom_classes": [],
            "_model_module": "@jupyter-widgets/controls",
            "_model_module_version": "1.5.0",
            "_model_name": "HTMLModel",
            "_view_count": null,
            "_view_module": "@jupyter-widgets/controls",
            "_view_module_version": "1.5.0",
            "_view_name": "HTMLView",
            "description": "",
            "description_tooltip": null,
            "layout": "IPY_MODEL_4eaebbb7b3434eedafa42961a18b6ff6",
            "placeholder": "​",
            "style": "IPY_MODEL_780938e4c754472a860de7478d135e22",
            "value": "Render HTML: 100%"
          }
        },
        "eab7b075a112435381aa1019d05775c1": {
          "model_module": "@jupyter-widgets/controls",
          "model_module_version": "1.5.0",
          "model_name": "HBoxModel",
          "state": {
            "_dom_classes": [],
            "_model_module": "@jupyter-widgets/controls",
            "_model_module_version": "1.5.0",
            "_model_name": "HBoxModel",
            "_view_count": null,
            "_view_module": "@jupyter-widgets/controls",
            "_view_module_version": "1.5.0",
            "_view_name": "HBoxView",
            "box_style": "",
            "children": [
              "IPY_MODEL_dad17784752b45109f75ed6ababf564d",
              "IPY_MODEL_3a9fd0cb6de145b987e68d4e4721a543",
              "IPY_MODEL_577e8eb3721b4dbdad5366806df350c5"
            ],
            "layout": "IPY_MODEL_7b102ab9464a4c36b22fc3853beb28c7"
          }
        },
        "f574e5a903844748bcfd1a9fd9ce9db3": {
          "model_module": "@jupyter-widgets/controls",
          "model_module_version": "1.5.0",
          "model_name": "ProgressStyleModel",
          "state": {
            "_model_module": "@jupyter-widgets/controls",
            "_model_module_version": "1.5.0",
            "_model_name": "ProgressStyleModel",
            "_view_count": null,
            "_view_module": "@jupyter-widgets/base",
            "_view_module_version": "1.2.0",
            "_view_name": "StyleView",
            "bar_color": null,
            "description_width": ""
          }
        }
      }
    }
  },
  "nbformat": 4,
  "nbformat_minor": 0
}
