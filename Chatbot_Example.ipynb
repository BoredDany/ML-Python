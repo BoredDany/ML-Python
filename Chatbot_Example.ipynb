{
  "cells": [
    {
      "cell_type": "markdown",
      "metadata": {
        "colab_type": "text",
        "id": "view-in-github"
      },
      "source": [
        "<a href=\"https://colab.research.google.com/github/BoredDany/ML-Python/blob/main/Chatbot_Example.ipynb\" target=\"_parent\"><img src=\"https://colab.research.google.com/assets/colab-badge.svg\" alt=\"Open In Colab\"/></a>"
      ]
    },
    {
      "cell_type": "markdown",
      "metadata": {
        "id": "a1Yk_JuFUhmk"
      },
      "source": [
        "# Chatbot example using Gradio and MobileNetV2 (tensorflow)\n",
        "\n",
        "By:\n",
        "\n",
        "*   Daniela Martínez Quiroga\n",
        "*   María Isabella Rodríguez Arévalo\n"
      ]
    },
    {
      "cell_type": "code",
      "execution_count": null,
      "metadata": {
        "colab": {
          "base_uri": "https://localhost:8080/"
        },
        "id": "c8lOwYtvUyT8",
        "outputId": "36d37a52-da1a-4f9a-bc33-ce08b3cff05d"
      },
      "outputs": [],
      "source": [
        "!pip install gradio"
      ]
    },
    {
      "cell_type": "markdown",
      "metadata": {
        "id": "vxyNhjQOHmOR"
      },
      "source": [
        "1. Creación de ChatBox"
      ]
    },
    {
      "cell_type": "code",
      "execution_count": null,
      "metadata": {
        "id": "1rlWQpfLed93"
      },
      "outputs": [],
      "source": [
        "def conversion(num, dir_check):\n",
        "  try:\n",
        "    if num < 0:\n",
        "      raise ValueError\n",
        "    elif dir_check:\n",
        "      result = 3.281 * float(num)\n",
        "      return \"El resutado es: \"+ str(result)+\" pies\"\n",
        "    elif not dir_check:\n",
        "      result = float(num)/3.281\n",
        "      return \"El resutado es: \"+ str(result)+\" metros\"\n",
        "  except ValueError:\n",
        "    return \"Enter a positive numeric value\"\n"
      ]
    },
    {
      "cell_type": "code",
      "execution_count": null,
      "metadata": {
        "colab": {
          "base_uri": "https://localhost:8080/",
          "height": 610
        },
        "id": "MbcxbsRAeSBR",
        "outputId": "66c1ff37-3357-4789-d1a8-0dc303c99e82"
      },
      "outputs": [],
      "source": [
        "import gradio as gr\n",
        "\n",
        "#interfaz = gr.Interface(fn=metros_pies, inputs=\"number\", outputs=\"textbox\")\n",
        "\n",
        "with gr.Blocks(css=\".gradio-container {background-color: #f99abc;}\") as interfaz:\n",
        "  gr.Markdown(\"<h1 style='text-align: center; color: #d63384;'> Conversor de Metros a Pies </h1>\")\n",
        "\n",
        "  with gr.Column():\n",
        "    input = [gr.Number(label=\"Ingrese la cantidad\"),\n",
        "             gr.Checkbox(label = \"Dirección de la conversión (Check = metros a pie, Uncheck = pies a metros)\")]\n",
        "    btn = gr.Button(\"Convertir\")\n",
        "    output = gr.Textbox(label=\"Resultado\")\n",
        "\n",
        "  btn.click(conversion, inputs=input, outputs=output)\n",
        "\n",
        "if __name__ == \"__main__\":\n",
        "  interfaz.launch(share=True)"
      ]
    },
    {
      "cell_type": "markdown",
      "metadata": {
        "id": "B-KCubsPHrxD"
      },
      "source": [
        "2. Chatbot para clasificar imágenes"
      ]
    },
    {
      "cell_type": "code",
      "execution_count": null,
      "metadata": {
        "colab": {
          "background_save": true,
          "base_uri": "https://localhost:8080/",
          "height": 697
        },
        "id": "TZ9HxbpfHusH",
        "outputId": "67dbebbe-9f94-4226-b2e0-052105d59c1d"
      },
      "outputs": [],
      "source": [
        "import gradio as gr\n",
        "import tensorflow as tf\n",
        "import numpy as np\n",
        "from tensorflow.keras.applications.mobilenet_v2 import MobileNetV2, preprocess_input, decode_predictions\n",
        "from PIL import Image\n",
        "\n",
        "# Cargar el modelo preentrenado MobileNetV2\n",
        "model = MobileNetV2(weights=\"imagenet\")\n",
        "\n",
        "def classify_image(image):\n",
        "    \"\"\"Clasifica la imagen usando el modelo MobileNetV2.\"\"\"\n",
        "    # Redimensionar la imagen al tamaño esperado por el modelo (224x224)\n",
        "    image = image.resize((224, 224))\n",
        "\n",
        "    # Convertir la imagen a un array de numpy y preprocesarla\n",
        "    image_array = np.array(image)\n",
        "    image_array = preprocess_input(image_array)\n",
        "    image_array = np.expand_dims(image_array, axis=0)  # Añadir dimensión del batch\n",
        "\n",
        "    # Realizar la predicción\n",
        "    predictions = model.predict(image_array)\n",
        "\n",
        "    # Decodificar las predicciones a etiquetas legibles\n",
        "    decoded_predictions = decode_predictions(predictions, top=3)[0]  # Top 3 predicciones\n",
        "    results = {label: float(confidence) for (_, label, confidence) in decoded_predictions}\n",
        "\n",
        "    return results\n",
        "\n",
        "# Crear la interfaz de Gradio\n",
        "with gr.Blocks(css=\".gradio-container {background-color: #f99abc;}\") as app:\n",
        "    gr.Markdown(\"<h1 style='text-align: center; color: #d63384;'> Clasificación de Imágenes con MobileNetV2 </h1>\")\n",
        "\n",
        "    # Componente para subir la imagen\n",
        "    image_input = gr.Image(label=\"Subir Imagen\", type=\"pil\")\n",
        "\n",
        "    # Botón para clasificar la imagen\n",
        "    classify_button = gr.Button(\"Clasificar Imagen\")\n",
        "\n",
        "    # Componente para mostrar la clasificación\n",
        "    label_output = gr.Label(label=\"Clasificación\")\n",
        "\n",
        "    classify_button.click(\n",
        "        classify_image,\n",
        "        inputs=image_input,\n",
        "        outputs=label_output\n",
        "    )\n",
        "\n",
        "# Lanzar la app en Colab\n",
        "app.launch(share=True, debug=True)"
      ]
    }
  ],
  "metadata": {
    "colab": {
      "include_colab_link": true,
      "provenance": []
    },
    "kernelspec": {
      "display_name": "Python 3",
      "name": "python3"
    },
    "language_info": {
      "name": "python"
    }
  },
  "nbformat": 4,
  "nbformat_minor": 0
}
